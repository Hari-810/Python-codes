{
  "nbformat": 4,
  "nbformat_minor": 0,
  "metadata": {
    "kernelspec": {
      "display_name": "Python 3",
      "language": "python",
      "name": "python3"
    },
    "language_info": {
      "codemirror_mode": {
        "name": "ipython",
        "version": 3
      },
      "file_extension": ".py",
      "mimetype": "text/x-python",
      "name": "python",
      "nbconvert_exporter": "python",
      "pygments_lexer": "ipython3",
      "version": "3.6.5"
    },
    "toc": {
      "nav_menu": {},
      "number_sections": true,
      "sideBar": true,
      "skip_h1_title": false,
      "title_cell": "Table of Contents",
      "title_sidebar": "Contents",
      "toc_cell": false,
      "toc_position": {},
      "toc_section_display": true,
      "toc_window_display": false
    },
    "varInspector": {
      "cols": {
        "lenName": 16,
        "lenType": 16,
        "lenVar": 40
      },
      "kernels_config": {
        "python": {
          "delete_cmd_postfix": "",
          "delete_cmd_prefix": "del ",
          "library": "var_list.py",
          "varRefreshCmd": "print(var_dic_list())"
        },
        "r": {
          "delete_cmd_postfix": ") ",
          "delete_cmd_prefix": "rm(",
          "library": "var_list.r",
          "varRefreshCmd": "cat(var_dic_list()) "
        }
      },
      "types_to_exclude": [
        "module",
        "function",
        "builtin_function_or_method",
        "instance",
        "_Feature"
      ],
      "window_display": false
    },
    "colab": {
      "name": "Day_11-2-14_OOPs_Poly_Encap_SplMthd.ipynb",
      "provenance": [],
      "toc_visible": true
    }
  },
  "cells": [
    {
      "cell_type": "markdown",
      "metadata": {
        "id": "IPCLvWxW7XWM"
      },
      "source": [
        "#Object Oriented Programming\n",
        "\n",
        "Object Oriented Programming (OOP) tends to be one of the major obstacles for beginners when they are first starting to learn Python.\n",
        "\n",
        "\n",
        "let see about:\n",
        "\n",
        "Objects<br>\n",
        "Using the class keyword<br>\n",
        " class attributes<br>\n",
        " methods in a class<br>\n",
        " Inheritance<br>\n",
        " Polymorphism<br>\n",
        " Special Methods for classes<br>"
      ]
    },
    {
      "cell_type": "markdown",
      "metadata": {
        "id": "4SDIeqkzDgVe"
      },
      "source": [
        "**Objects**"
      ]
    },
    {
      "cell_type": "markdown",
      "metadata": {
        "id": "REVkEZgGDlk2"
      },
      "source": [
        "In Python, everything is an object. "
      ]
    },
    {
      "cell_type": "code",
      "metadata": {
        "colab": {
          "base_uri": "https://localhost:8080/"
        },
        "id": "2ySUdRYMDg7u",
        "outputId": "03791aed-5ab5-4702-e098-f5a6d7a40ed2"
      },
      "source": [
        "print(type(1))\n",
        "print(type([]))\n",
        "print(type(()))\n",
        "print(type({}))"
      ],
      "execution_count": null,
      "outputs": [
        {
          "output_type": "stream",
          "text": [
            "<class 'int'>\n",
            "<class 'list'>\n",
            "<class 'tuple'>\n",
            "<class 'dict'>\n"
          ],
          "name": "stdout"
        }
      ]
    },
    {
      "cell_type": "markdown",
      "metadata": {
        "id": "tpqolqm7DrjA"
      },
      "source": [
        "**class**\n",
        "\n",
        "User defined objects are created using the class keyword.<br> The class is a blueprint that defines the nature of a future object.<br>  From classes we can construct instances.<br>  An instance is a specific object created from a particular class.<br>"
      ]
    },
    {
      "cell_type": "markdown",
      "metadata": {
        "id": "C5PmWDu6DDre"
      },
      "source": [
        "**Class Syntax**"
      ]
    },
    {
      "cell_type": "code",
      "metadata": {
        "colab": {
          "base_uri": "https://localhost:8080/"
        },
        "id": "8gIz-1wlDw24",
        "outputId": "a6748532-b7f3-4f61-e654-2d186b2ca7ab"
      },
      "source": [
        "# Create a new object type called Sample\n",
        "class Sample:\n",
        "    pass\n",
        "\n",
        "# Instance of Sample\n",
        "x = Sample()\n",
        "\n",
        "print(type(x))"
      ],
      "execution_count": null,
      "outputs": [
        {
          "output_type": "stream",
          "text": [
            "<class '__main__.Sample'>\n"
          ],
          "name": "stdout"
        }
      ]
    },
    {
      "cell_type": "markdown",
      "metadata": {
        "id": "1ag18czQDzV1"
      },
      "source": [
        "We give classes a name that starts with a capital letter. \n",
        "Note how x is now the reference to our new instance of a Sample class. <br> In other words, we instantiate the Sample class.\n",
        "\n",
        "An attribute is a characteristic of an object.\n",
        "<br>  A method is an operation we can perform with the object.\n",
        "\n"
      ]
    },
    {
      "cell_type": "markdown",
      "metadata": {
        "id": "r3GXPi7LO_Qo"
      },
      "source": [
        "**Attributes**\n",
        "\n",
        "An attribbute is an instance variable defined in the class\n",
        "\n",
        "The syntax for creating an attribute is:\n",
        "\n",
        "self.attribute = something\n",
        "There is a special method called:\n",
        "\n",
        "__init__()\n",
        "This method is used to initialize the attributes of an object. For example:"
      ]
    },
    {
      "cell_type": "markdown",
      "metadata": {
        "id": "2EwCmiKaOet7"
      },
      "source": [
        "Here we create a class called Dog. An attribute of a dog may be its breed or its name, while a method of a dog may be defined by a .bark() method which returns a sound."
      ]
    },
    {
      "cell_type": "code",
      "metadata": {
        "id": "X8vBEYOaD6x9"
      },
      "source": [
        "class Dog:\n",
        "    def __init__(self,breed):\n",
        "        self.breed = breed   \n",
        "        \n",
        "sam = Dog(breed='Lab')\n",
        "frank = Dog(breed='Huskie')"
      ],
      "execution_count": null,
      "outputs": []
    },
    {
      "cell_type": "code",
      "metadata": {
        "colab": {
          "base_uri": "https://localhost:8080/",
          "height": 35
        },
        "id": "opJsSVf5EDLu",
        "outputId": "cbed1d71-c3cd-4d82-c86d-2d988dd0e822"
      },
      "source": [
        "sam.breed"
      ],
      "execution_count": null,
      "outputs": [
        {
          "output_type": "execute_result",
          "data": {
            "application/vnd.google.colaboratory.intrinsic+json": {
              "type": "string"
            },
            "text/plain": [
              "'Lab'"
            ]
          },
          "metadata": {
            "tags": []
          },
          "execution_count": 17
        }
      ]
    },
    {
      "cell_type": "code",
      "metadata": {
        "colab": {
          "base_uri": "https://localhost:8080/",
          "height": 35
        },
        "id": "Ho64-2vkEEVW",
        "outputId": "848bf8cf-d647-4c9f-bd66-2e2a70e1e697"
      },
      "source": [
        "frank.breed"
      ],
      "execution_count": null,
      "outputs": [
        {
          "output_type": "execute_result",
          "data": {
            "application/vnd.google.colaboratory.intrinsic+json": {
              "type": "string"
            },
            "text/plain": [
              "'Huskie'"
            ]
          },
          "metadata": {
            "tags": []
          },
          "execution_count": 18
        }
      ]
    },
    {
      "cell_type": "markdown",
      "metadata": {
        "id": "2J-EaejsEAyl"
      },
      "source": [
        "Lets break down what we have above.The special method\n",
        "\n",
        "\n",
        "__init__() \n",
        "\n",
        "\n",
        "  is called automatically right after the object has been created:\n",
        "\n",
        "def __init__(self, breed):\n",
        "\n",
        "\n",
        "  Each attribute in a class definition begins with a reference to the instance object. It is by convention named self. The breed is the argument. The value is passed during the class instantiation.\n",
        "\n",
        " self.breed = breed"
      ]
    },
    {
      "cell_type": "code",
      "metadata": {
        "colab": {
          "base_uri": "https://localhost:8080/"
        },
        "id": "uz8sxex9PWAj",
        "outputId": "624dac87-5809-4d11-c2a0-c0e4c6621334"
      },
      "source": [
        "class MyFirstClass:\n",
        "    '''This is my First Class.'''\n",
        "    pass\n",
        "     \n",
        "print(MyFirstClass)   \n",
        "print(MyFirstClass.__doc__)\n",
        "help(MyFirstClass)"
      ],
      "execution_count": null,
      "outputs": [
        {
          "output_type": "stream",
          "text": [
            "<class '__main__.MyFirstClass'>\n",
            "This is my First Class.\n",
            "Help on class MyFirstClass in module __main__:\n",
            "\n",
            "class MyFirstClass(builtins.object)\n",
            " |  This is my First Class.\n",
            " |  \n",
            " |  Data descriptors defined here:\n",
            " |  \n",
            " |  __dict__\n",
            " |      dictionary for instance variables (if defined)\n",
            " |  \n",
            " |  __weakref__\n",
            " |      list of weak references to the object (if defined)\n",
            "\n"
          ],
          "name": "stdout"
        }
      ]
    },
    {
      "cell_type": "markdown",
      "metadata": {
        "id": "lbM7vAiJPc0I"
      },
      "source": [
        "**Object Creation**"
      ]
    },
    {
      "cell_type": "code",
      "metadata": {
        "id": "Rvvy_aDBPX9M"
      },
      "source": [
        "my_ref_var = MyFirstClass()"
      ],
      "execution_count": null,
      "outputs": []
    },
    {
      "cell_type": "markdown",
      "metadata": {
        "id": "lOIBT29N7kXc"
      },
      "source": [
        "**Accessing Methods of Class**"
      ]
    },
    {
      "cell_type": "code",
      "metadata": {
        "colab": {
          "base_uri": "https://localhost:8080/"
        },
        "id": "jnJSsljw7lc7",
        "outputId": "1d7bad7a-f851-47ce-a101-7c07704fccbf"
      },
      "source": [
        "class HelloWorld:\n",
        "    '''This is my Hello World class'''\n",
        "    \n",
        "    def display(self):\n",
        "        print('Hello World')\n",
        "        \n",
        "h = HelloWorld()\n",
        "\n",
        "h.display()"
      ],
      "execution_count": null,
      "outputs": [
        {
          "output_type": "stream",
          "text": [
            "Hello World\n"
          ],
          "name": "stdout"
        }
      ]
    },
    {
      "cell_type": "markdown",
      "metadata": {
        "id": "QxOSNdVB7rU0"
      },
      "source": [
        "**Constructor**"
      ]
    },
    {
      "cell_type": "markdown",
      "metadata": {
        "id": "72ntzrzoP5iR"
      },
      "source": [
        "**Constructors** are generally used for instantiating an object. The task of constructors is to initialize(assign values) to the data members of the class when an object of class is created.\n",
        "\n",
        "In Python the __init__() method is called the constructor and is always called when an object is created.\n"
      ]
    },
    {
      "cell_type": "code",
      "metadata": {
        "colab": {
          "base_uri": "https://localhost:8080/"
        },
        "id": "sIt94O2t7x50",
        "outputId": "49d2c880-7175-4848-eeb3-c089987fd50d"
      },
      "source": [
        "class Test:\n",
        "    def __init__(self):\n",
        "        print('Constructor is executed')\n",
        "        \n",
        "    def fun(self):\n",
        "        print('Function is executed')\n",
        "        \n",
        "t1 = Test()\n",
        "t2 = Test()\n",
        "t3 = Test()\n"
      ],
      "execution_count": null,
      "outputs": [
        {
          "output_type": "stream",
          "text": [
            "Constructor is executed\n",
            "Constructor is executed\n",
            "Constructor is executed\n"
          ],
          "name": "stdout"
        }
      ]
    },
    {
      "cell_type": "code",
      "metadata": {
        "colab": {
          "base_uri": "https://localhost:8080/"
        },
        "id": "KY12w3yrQFm4",
        "outputId": "f4e7b209-800c-40bc-efab-aa97128fd272"
      },
      "source": [
        "class Student:\n",
        "    def __init__(self):\n",
        "        self.name = 'abc'\n",
        "        self.rno = 1\n",
        "        self.marks = 90\n",
        "    \n",
        "s1 = Student()\n",
        "\n",
        "print(s1.name, s1.rno, s1.marks)"
      ],
      "execution_count": null,
      "outputs": [
        {
          "output_type": "stream",
          "text": [
            "abc 1 90\n"
          ],
          "name": "stdout"
        }
      ]
    },
    {
      "cell_type": "code",
      "metadata": {
        "colab": {
          "base_uri": "https://localhost:8080/"
        },
        "id": "gN7vS-K4QIh4",
        "outputId": "19b76afe-1392-4de7-ab37-e8bee8dfa41c"
      },
      "source": [
        "print(s1)"
      ],
      "execution_count": null,
      "outputs": [
        {
          "output_type": "stream",
          "text": [
            "<__main__.Student object at 0x7f4d42c92550>\n"
          ],
          "name": "stdout"
        }
      ]
    },
    {
      "cell_type": "markdown",
      "metadata": {
        "id": "AW8Bc36h70Dr"
      },
      "source": [
        "**Constructor With Multiple Parameters**"
      ]
    },
    {
      "cell_type": "code",
      "metadata": {
        "colab": {
          "base_uri": "https://localhost:8080/",
          "height": 71
        },
        "id": "GENo8Vn472PL",
        "outputId": "f5f08b24-213d-4dd9-ef15-8efd6f9d0792"
      },
      "source": [
        "class Student:\n",
        "    def __init__(self, name, rno, marks):\n",
        "        self.name = name\n",
        "        self.rno = rno\n",
        "        self.marks = marks\n",
        "    def display(self):\n",
        "        print('Name: {}, RollNo: {}, Marks: {}'.\\\n",
        "              format(self.name, self.rno, self.marks))\n",
        "\n",
        "    \n",
        "s1 = Student('abc', 1, 90)\n",
        "\n",
        "s1.display()\n",
        "\n",
        "s2 = Student('xyz', 2, 80)\n",
        "\n",
        "s2.display()\n",
        "\n",
        "'''INSTANCE variable should be used using 'self', \n",
        "whether inside constructor or method\n",
        "'''"
      ],
      "execution_count": null,
      "outputs": [
        {
          "output_type": "stream",
          "text": [
            "Name: abc, RollNo: 1, Marks: 90\n",
            "Name: xyz, RollNo: 2, Marks: 80\n"
          ],
          "name": "stdout"
        },
        {
          "output_type": "execute_result",
          "data": {
            "application/vnd.google.colaboratory.intrinsic+json": {
              "type": "string"
            },
            "text/plain": [
              "\"INSTANCE variable should be used using 'self', \\nwhether inside constructor or method\\n\""
            ]
          },
          "metadata": {
            "tags": []
          },
          "execution_count": 19
        }
      ]
    },
    {
      "cell_type": "markdown",
      "metadata": {
        "id": "QiJLFSFF74yT"
      },
      "source": [
        "**Variables**"
      ]
    },
    {
      "cell_type": "markdown",
      "metadata": {
        "id": "dlFshlEE77d8"
      },
      "source": [
        "Instance Variable"
      ]
    },
    {
      "cell_type": "code",
      "metadata": {
        "colab": {
          "base_uri": "https://localhost:8080/"
        },
        "id": "kMyFtHNx76_r",
        "outputId": "9f8fa5d2-23b2-4154-e9e7-d3d09429f236"
      },
      "source": [
        "class Student:\n",
        "    def __init__(self, name, rno, marks):\n",
        "        self.name = name\n",
        "        self.rno = rno\n",
        "        self.marks = marks\n",
        "    \n",
        "    def display(self):\n",
        "        print('Name: {}, RollNo: {}, Marks: {},'.\\\n",
        "              format(self.name, self.rno, self.marks))\n",
        "      \n",
        "s1 = Student('abc', 1, 90)\n",
        "\n",
        "print(s1.__dict__)\n",
        "\n",
        "print(s1.name)\n",
        "\n",
        "s1.display()\n",
        "\n",
        "s2 = Student('xyz', 2, 80)\n",
        "\n",
        "s2.display()"
      ],
      "execution_count": null,
      "outputs": [
        {
          "output_type": "stream",
          "text": [
            "{'name': 'abc', 'rno': 1, 'marks': 90}\n",
            "abc\n",
            "Name: abc, RollNo: 1, Marks: 90,\n",
            "Name: xyz, RollNo: 2, Marks: 80,\n"
          ],
          "name": "stdout"
        }
      ]
    },
    {
      "cell_type": "markdown",
      "metadata": {
        "id": "13CVcv8u-7b1"
      },
      "source": [
        "Static Variable"
      ]
    },
    {
      "cell_type": "code",
      "metadata": {
        "colab": {
          "base_uri": "https://localhost:8080/"
        },
        "id": "bk6A2tL3--P0",
        "outputId": "42260df7-04a0-457a-9eb2-3887c235e82f"
      },
      "source": [
        "class Student:\n",
        "    college = 'DIT'\n",
        "    def __init__(self, name, rno, marks):\n",
        "        self.name = name\n",
        "        self.rno = rno\n",
        "        self.marks = marks\n",
        "    \n",
        "    def display(self):\n",
        "        print('Name: {}, RollNo: {}, Marks: {},'.\\\n",
        "              format(self.name, self.rno, self.marks), end=' ')\n",
        "        print('College:', self.college)\n",
        "      \n",
        "s1 = Student('abc', 1, 90)\n",
        "\n",
        "s1.display()\n",
        "\n",
        "s2 = Student('xyz', 2, 80)\n",
        "\n",
        "s2.display()"
      ],
      "execution_count": null,
      "outputs": [
        {
          "output_type": "stream",
          "text": [
            "Name: abc, RollNo: 1, Marks: 90, College: DIT\n",
            "Name: xyz, RollNo: 2, Marks: 80, College: DIT\n"
          ],
          "name": "stdout"
        }
      ]
    },
    {
      "cell_type": "code",
      "metadata": {
        "colab": {
          "base_uri": "https://localhost:8080/"
        },
        "id": "ePjWBaS1_AFs",
        "outputId": "dbbaf1e4-c4d4-4dcc-e212-c91d79a0eb7c"
      },
      "source": [
        "# # Lets try to change the STATIC variable using s1\n",
        "\n",
        "s1.college = 'UIT'\n",
        "\n",
        "s1.display()\n",
        "\n",
        "s2.display()"
      ],
      "execution_count": null,
      "outputs": [
        {
          "output_type": "stream",
          "text": [
            "Name: abc, RollNo: 1, Marks: 90, College: UIT\n",
            "Name: xyz, RollNo: 2, Marks: 80, College: DIT\n"
          ],
          "name": "stdout"
        }
      ]
    },
    {
      "cell_type": "markdown",
      "metadata": {
        "id": "SkRSTdpx_CUs"
      },
      "source": [
        "Local Variable"
      ]
    },
    {
      "cell_type": "code",
      "metadata": {
        "colab": {
          "base_uri": "https://localhost:8080/"
        },
        "id": "pquq6XnF_Dek",
        "outputId": "d494ad89-d2c6-406c-d466-e0847ff86c7a"
      },
      "source": [
        "class Test:\n",
        "    def m1(self):\n",
        "        x = 10\n",
        "        print(x)\n",
        "    def m2(self):\n",
        "        y = 20\n",
        "        print(y)\n",
        "        \n",
        "t = Test()\n",
        "t.m1()\n",
        "t.m2()"
      ],
      "execution_count": null,
      "outputs": [
        {
          "output_type": "stream",
          "text": [
            "10\n",
            "20\n"
          ],
          "name": "stdout"
        }
      ]
    },
    {
      "cell_type": "markdown",
      "metadata": {
        "id": "xI3VaF5r_F6c"
      },
      "source": [
        "Setters & Getters"
      ]
    },
    {
      "cell_type": "markdown",
      "metadata": {
        "id": "sIDX39jaQkdB"
      },
      "source": [
        "**getters** are the methods which help access the private attributes or get the value of the private attributes and **setters** are the methods which help change or set the value of private attributes."
      ]
    },
    {
      "cell_type": "markdown",
      "metadata": {
        "id": "lSsbN0YNQ2rS"
      },
      "source": [
        " Note: __ (double underscore) as a prefix to variable denotes private variable in Python"
      ]
    },
    {
      "cell_type": "code",
      "metadata": {
        "colab": {
          "base_uri": "https://localhost:8080/"
        },
        "id": "itps5Sqe_HIc",
        "outputId": "0a96bd73-10a1-48a6-8490-f8b0c32f49af"
      },
      "source": [
        "class Student:\n",
        "    # Note: __ (double underscore) as a prefix to variable denotes private variable in Python\n",
        "    __college = 'DIT'\n",
        "    def __init__(self, name, rno, marks):\n",
        "        self.__name = name\n",
        "        self.__rno = rno\n",
        "        self.__marks = marks\n",
        "    \n",
        "    def display(self):\n",
        "        print('Name: {}, RollNo: {}, Marks: {},'.format(self.__name, self.__rno, self.__marks), end=' ')\n",
        "        print('College:', self.__college)\n",
        "        \n",
        "    def setCollege(self, cname):\n",
        "        self.__college = cname\n",
        "        \n",
        "    def getName(self):\n",
        "        return self.name\n",
        "      \n",
        "s1 = Student('abc', 1, 90)\n",
        "\n",
        "s1.setCollege('UIT')\n",
        "\n",
        "s1.display()\n",
        "\n",
        "s2 = Student('xyz', 2, 80)\n",
        "\n",
        "s2.display()"
      ],
      "execution_count": null,
      "outputs": [
        {
          "output_type": "stream",
          "text": [
            "Name: abc, RollNo: 1, Marks: 90, College: UIT\n",
            "Name: xyz, RollNo: 2, Marks: 80, College: DIT\n"
          ],
          "name": "stdout"
        }
      ]
    },
    {
      "cell_type": "code",
      "metadata": {
        "colab": {
          "base_uri": "https://localhost:8080/",
          "height": 282
        },
        "id": "hONKXOGR_I4E",
        "outputId": "a980bcf1-edfe-4566-b145-078a5077703f"
      },
      "source": [
        "s2.getName()"
      ],
      "execution_count": null,
      "outputs": [
        {
          "output_type": "error",
          "ename": "AttributeError",
          "evalue": "ignored",
          "traceback": [
            "\u001b[0;31m---------------------------------------------------------------------------\u001b[0m",
            "\u001b[0;31mAttributeError\u001b[0m                            Traceback (most recent call last)",
            "\u001b[0;32m<ipython-input-21-0591d09023f4>\u001b[0m in \u001b[0;36m<module>\u001b[0;34m()\u001b[0m\n\u001b[0;32m----> 1\u001b[0;31m \u001b[0ms2\u001b[0m\u001b[0;34m.\u001b[0m\u001b[0mgetName\u001b[0m\u001b[0;34m(\u001b[0m\u001b[0;34m)\u001b[0m\u001b[0;34m\u001b[0m\u001b[0;34m\u001b[0m\u001b[0m\n\u001b[0m",
            "\u001b[0;32m<ipython-input-20-707194f96aa1>\u001b[0m in \u001b[0;36mgetName\u001b[0;34m(self)\u001b[0m\n\u001b[1;32m     15\u001b[0m \u001b[0;34m\u001b[0m\u001b[0m\n\u001b[1;32m     16\u001b[0m     \u001b[0;32mdef\u001b[0m \u001b[0mgetName\u001b[0m\u001b[0;34m(\u001b[0m\u001b[0mself\u001b[0m\u001b[0;34m)\u001b[0m\u001b[0;34m:\u001b[0m\u001b[0;34m\u001b[0m\u001b[0;34m\u001b[0m\u001b[0m\n\u001b[0;32m---> 17\u001b[0;31m         \u001b[0;32mreturn\u001b[0m \u001b[0mself\u001b[0m\u001b[0;34m.\u001b[0m\u001b[0mname\u001b[0m\u001b[0;34m\u001b[0m\u001b[0;34m\u001b[0m\u001b[0m\n\u001b[0m\u001b[1;32m     18\u001b[0m \u001b[0;34m\u001b[0m\u001b[0m\n\u001b[1;32m     19\u001b[0m \u001b[0ms1\u001b[0m \u001b[0;34m=\u001b[0m \u001b[0mStudent\u001b[0m\u001b[0;34m(\u001b[0m\u001b[0;34m'abc'\u001b[0m\u001b[0;34m,\u001b[0m \u001b[0;36m1\u001b[0m\u001b[0;34m,\u001b[0m \u001b[0;36m90\u001b[0m\u001b[0;34m)\u001b[0m\u001b[0;34m\u001b[0m\u001b[0;34m\u001b[0m\u001b[0m\n",
            "\u001b[0;31mAttributeError\u001b[0m: 'Student' object has no attribute 'name'"
          ]
        }
      ]
    },
    {
      "cell_type": "code",
      "metadata": {
        "ExecuteTime": {
          "end_time": "2018-06-01T06:52:02.355419Z",
          "start_time": "2018-06-01T06:52:02.346394Z"
        },
        "scrolled": true,
        "colab": {
          "base_uri": "https://localhost:8080/"
        },
        "id": "_vckADz661wT",
        "outputId": "84e04d11-02f2-442f-a712-c1f9d44551c7"
      },
      "source": [
        "class Student:\n",
        "    college = 'DIT' # Static Variable\n",
        "    def __init__(self, name, rno, marks):\n",
        "        self.name = name # Instance Variable\n",
        "        self.rno = rno # Instance Variable \n",
        "        self.marks = marks # Instance Variable\n",
        "        Student.country = 'India' # Static Variable\n",
        "    \n",
        "    def display(self):\n",
        "        print('Name: {}, RollNo: {}, Marks: {},'.\\\n",
        "              format(self.name, self.rno, self.marks), end=' ')\n",
        "        print('College:', self.college, end=' ')\n",
        "        print(self.country)\n",
        "        \n",
        "        \n",
        "    def getPercentage(self):\n",
        "        total = 500\n",
        "        return (self.marks/total)*100\n",
        "        \n",
        "    def setCollege(self, cname):\n",
        "        self.college = cname\n",
        "        \n",
        "    def getName(self):\n",
        "        return self.name\n",
        "    \n",
        "s1 = Student('abc', 1, 399)\n",
        "\n",
        "s1.display()\n",
        "\n",
        "print(s1.__dict__)\n",
        "\n",
        "print(s1.getPercentage())"
      ],
      "execution_count": null,
      "outputs": [
        {
          "output_type": "stream",
          "text": [
            "Name: abc, RollNo: 1, Marks: 399, College: DIT India\n",
            "{'name': 'abc', 'rno': 1, 'marks': 399}\n",
            "79.80000000000001\n"
          ],
          "name": "stdout"
        }
      ]
    },
    {
      "cell_type": "markdown",
      "metadata": {
        "id": "8b_Aybob61wU"
      },
      "source": [
        "## Inheritance"
      ]
    },
    {
      "cell_type": "markdown",
      "metadata": {
        "id": "v4V_mGTIEbf-"
      },
      "source": [
        "Inheritance is a way to form new classes using classes that have already been defined. The newly formed classes are called derived classes, the classes that we derive from are called base classes. <br>Important benefits of inheritance are code reuse and reduction of complexity of a program. The derived classes (descendants) override or extend the functionality of base classes (ancestors).\n",
        "\n",
        "Let's see an example by incorporating our previous work on the Dog class:"
      ]
    },
    {
      "cell_type": "code",
      "metadata": {
        "id": "hfj8U_0KEeCO"
      },
      "source": [
        "class Animal:\n",
        "    def __init__(self):\n",
        "        print(\"Animal created\")\n",
        "\n",
        "    def whoAmI(self):\n",
        "        print(\"Animal\")\n",
        "\n",
        "    def eat(self):\n",
        "        print(\"Eating\")\n",
        "\n",
        "\n",
        "class Dog(Animal):\n",
        "    def __init__(self):\n",
        "        Animal.__init__(self)\n",
        "        print(\"Dog created\")\n",
        "\n",
        "    def whoAmI(self):\n",
        "        print(\"Dog\")\n",
        "\n",
        "    def bark(self):\n",
        "        print(\"Woof!\")"
      ],
      "execution_count": null,
      "outputs": []
    },
    {
      "cell_type": "code",
      "metadata": {
        "id": "QvJ_faGEEfkF",
        "colab": {
          "base_uri": "https://localhost:8080/"
        },
        "outputId": "8eda6e4e-d2fe-4030-b27d-c684828c966c"
      },
      "source": [
        "d = Dog()\n",
        "d.eat()\n",
        "d.whoAmI()"
      ],
      "execution_count": null,
      "outputs": [
        {
          "output_type": "stream",
          "text": [
            "Animal created\n",
            "Dog created\n",
            "Eating\n",
            "Dog\n"
          ],
          "name": "stdout"
        }
      ]
    },
    {
      "cell_type": "markdown",
      "metadata": {
        "id": "FUhDBmfREk6e"
      },
      "source": [
        "In this example, we have two classes: Animal and Dog. The Animal is the base class, the Dog is the derived class.\n",
        "\n",
        "The derived class inherits the functionality of the base class.\n",
        "\n",
        "It is shown by the eat() method.\n",
        "The derived class modifies existing behavior of the base class.\n",
        "\n",
        "shown by the whoAmI() method."
      ]
    },
    {
      "cell_type": "code",
      "metadata": {
        "ExecuteTime": {
          "end_time": "2018-06-01T07:01:45.205400Z",
          "start_time": "2018-06-01T07:01:45.198380Z"
        },
        "id": "9-ZxZ1S761wU"
      },
      "source": [
        "# Without Inheritance\n",
        "\n",
        "class A:\n",
        "    def m1():\n",
        "        pass\n",
        "    def m2():\n",
        "        pass\n",
        "    \n",
        "class B:\n",
        "    def m1():\n",
        "        pass\n",
        "    def m2():\n",
        "        pass\n",
        "    def m3():\n",
        "        pass\n",
        "    def m4():\n",
        "        pass\n",
        "\n",
        "class C:\n",
        "    def m1():\n",
        "        pass\n",
        "    def m2():\n",
        "        pass\n",
        "    def m3():\n",
        "        pass\n",
        "    def m4():\n",
        "        pass\n",
        "    def m5():\n",
        "        pass\n",
        "    def m6():\n",
        "        pass\n",
        "    \n",
        "# Resolve the error"
      ],
      "execution_count": null,
      "outputs": []
    },
    {
      "cell_type": "code",
      "metadata": {
        "ExecuteTime": {
          "end_time": "2018-06-01T07:07:38.596261Z",
          "start_time": "2018-06-01T07:07:38.582727Z"
        },
        "id": "M23vQGiG61wV"
      },
      "source": [
        "# With Inheritance\n",
        "\n",
        "class A:\n",
        "    def m1(self):\n",
        "        print('Class-A : Method-1')\n",
        "    def m2(self):\n",
        "        print('Class-A : Method-2')\n",
        "    \n",
        "class B(A):\n",
        "    def m3(self):\n",
        "        print('Class-B : Method-3')\n",
        "    def m4(self):\n",
        "        print('Class-B : Method-4')\n",
        "\n",
        "class C(B):\n",
        "    def m5(self):\n",
        "        print('Class-C : Method-5')\n",
        "    def m6(self):\n",
        "        print('Class-C : Method-6')\n",
        "\n",
        "# How many methods does each class contains now?\n"
      ],
      "execution_count": null,
      "outputs": []
    },
    {
      "cell_type": "code",
      "metadata": {
        "ExecuteTime": {
          "end_time": "2018-06-01T07:07:44.380486Z",
          "start_time": "2018-06-01T07:07:44.373969Z"
        },
        "scrolled": true,
        "id": "Q-JnCxFX61wV",
        "colab": {
          "base_uri": "https://localhost:8080/"
        },
        "outputId": "4e037873-0735-4f56-b6ad-93d482bf1ca8"
      },
      "source": [
        "a = A()\n",
        "b = B()\n",
        "c = C()\n",
        "\n",
        "a.m1()\n",
        "a.m2()\n",
        "b.m3()\n",
        "b.m1()"
      ],
      "execution_count": null,
      "outputs": [
        {
          "output_type": "stream",
          "text": [
            "Class-A : Method-1\n",
            "Class-A : Method-2\n",
            "Class-B : Method-3\n",
            "Class-A : Method-1\n"
          ],
          "name": "stdout"
        }
      ]
    },
    {
      "cell_type": "markdown",
      "metadata": {
        "id": "QAZGYx1L61wW"
      },
      "source": [
        "### Multiple Inheritance"
      ]
    },
    {
      "cell_type": "markdown",
      "metadata": {
        "id": "TmVojkudRcKC"
      },
      "source": [
        " Note: __ (double underscore) as a prefix to variable denotes private variable in Python"
      ]
    },
    {
      "cell_type": "code",
      "metadata": {
        "ExecuteTime": {
          "end_time": "2018-06-01T07:18:41.563473Z",
          "start_time": "2018-06-01T07:18:41.557457Z"
        },
        "id": "i9kprT4461wX"
      },
      "source": [
        "class A:\n",
        "    def m1(self):\n",
        "        print('Class-A : Method-1')\n",
        "    def m2(self):\n",
        "        print('Class-A : Method-2')\n",
        "    \n",
        "class B:\n",
        "    def m3(self):\n",
        "        print('Class-B : Method-3')\n",
        "    def m4(self):\n",
        "        print('Class-B : Method-4')\n",
        "\n",
        "class C(A, B):\n",
        "    def m5(self):\n",
        "        print('Class-C : Method-5')\n",
        "    def m6(self):\n",
        "        print('Class-C : Method-6')\n",
        "        \n",
        "# Try multilevel + multiple"
      ],
      "execution_count": null,
      "outputs": []
    },
    {
      "cell_type": "code",
      "metadata": {
        "ExecuteTime": {
          "end_time": "2018-06-01T07:18:42.814340Z",
          "start_time": "2018-06-01T07:18:42.809326Z"
        },
        "colab": {
          "base_uri": "https://localhost:8080/"
        },
        "id": "SHEAEpzT61wY",
        "outputId": "88e47a2b-8d5f-4dbd-908e-59b274601c57"
      },
      "source": [
        "a = A()\n",
        "b = B()\n",
        "c = C()\n",
        "\n",
        "a.m1()\n",
        "b.m3()\n",
        "c.m5()\n",
        "c.m1()\n",
        "c.m3()"
      ],
      "execution_count": null,
      "outputs": [
        {
          "output_type": "stream",
          "text": [
            "Class-A : Method-1\n",
            "Class-B : Method-3\n",
            "Class-C : Method-5\n",
            "Class-A : Method-1\n",
            "Class-B : Method-3\n"
          ],
          "name": "stdout"
        }
      ]
    },
    {
      "cell_type": "markdown",
      "metadata": {
        "id": "IJ_Kmha761wb"
      },
      "source": [
        "# Polymorphism"
      ]
    },
    {
      "cell_type": "markdown",
      "metadata": {
        "id": "djfhkrQVEttG"
      },
      "source": [
        "We've learned that while functions can take in different arguments, methods belong to the objects they act on.\n",
        "\n",
        " In Python, polymorphism refers to the way in which different object classes can share the same method name, and those methods can be called from the same place even though a variety of different objects might be passed in"
      ]
    },
    {
      "cell_type": "markdown",
      "metadata": {
        "id": "JiqG4ySyRuW0"
      },
      "source": [
        "Polymorphism in python defines methods in the child class that have the same name as the methods in the parent class. In inheritance, the child class inherits the methods from the parent class. Also, it is possible to modify a method in a child class that it has inherited from the parent class."
      ]
    },
    {
      "cell_type": "code",
      "metadata": {
        "colab": {
          "base_uri": "https://localhost:8080/"
        },
        "id": "jYvftZjYEvbe",
        "outputId": "2af64479-b8b5-4ff2-ad98-d0032595bf99"
      },
      "source": [
        "class Dog:\n",
        "    def __init__(self, name):\n",
        "        self.name = name\n",
        "\n",
        "    def speak(self):\n",
        "        return self.name+' says Woof!'\n",
        "    \n",
        "class Cat:\n",
        "    def __init__(self, name):\n",
        "        self.name = name\n",
        "\n",
        "    def speak(self):\n",
        "        return self.name+' says Meow!' \n",
        "    \n",
        "niko = Dog('Niko')\n",
        "felix = Cat('Felix')\n",
        "\n",
        "print(niko.speak())\n",
        "print(felix.speak())"
      ],
      "execution_count": null,
      "outputs": [
        {
          "output_type": "stream",
          "text": [
            "Niko says Woof!\n",
            "Felix says Meow!\n"
          ],
          "name": "stdout"
        }
      ]
    },
    {
      "cell_type": "markdown",
      "metadata": {
        "id": "fxpWF-qJE0xG"
      },
      "source": [
        "Here we have a Dog class and a Cat class, and each has a .speak() method. When called, each object's .speak() method returns a result unique to the object.\n",
        "\n",
        "There a few different ways to demonstrate polymorphism. First, with a for loop"
      ]
    },
    {
      "cell_type": "code",
      "metadata": {
        "colab": {
          "base_uri": "https://localhost:8080/"
        },
        "id": "9zlfIpvlE2F2",
        "outputId": "b335f7ae-d25a-4f34-8436-2f829fadab18"
      },
      "source": [
        "for pet in [niko,felix]:\n",
        "    print(pet.speak())"
      ],
      "execution_count": null,
      "outputs": [
        {
          "output_type": "stream",
          "text": [
            "Niko says Woof!\n",
            "Felix says Meow!\n"
          ],
          "name": "stdout"
        }
      ]
    },
    {
      "cell_type": "code",
      "metadata": {
        "colab": {
          "base_uri": "https://localhost:8080/"
        },
        "id": "t16lFB1EE3dF",
        "outputId": "a509eddd-cbb3-40f1-ba5f-021be63085f6"
      },
      "source": [
        "def pet_speak(pet):\n",
        "    print(pet.speak())\n",
        "\n",
        "pet_speak(niko)\n",
        "pet_speak(felix)"
      ],
      "execution_count": null,
      "outputs": [
        {
          "output_type": "stream",
          "text": [
            "Niko says Woof!\n",
            "Felix says Meow!\n"
          ],
          "name": "stdout"
        }
      ]
    },
    {
      "cell_type": "markdown",
      "metadata": {
        "id": "Fam6aMfsE9mG"
      },
      "source": [
        "In both cases we were able to pass in different object types, and we obtained object-specific results from the same mechanism.\n",
        "\n",
        "A more common practice is to use abstract classes and inheritance. An abstract class is one that never expects to be instantiated. For example, we will never have an Animal object, only Dog and Cat objects, although Dogs and Cats are derived from Animals"
      ]
    },
    {
      "cell_type": "markdown",
      "metadata": {
        "id": "UhJkLN9VFBKm"
      },
      "source": [
        "Real life examples of polymorphism include:\n",
        "\n",
        "opening different file types - different tools are needed to display Word, pdf and Excel files\n",
        "adding different objects - the + operator performs arithmetic and concatenation"
      ]
    },
    {
      "cell_type": "markdown",
      "metadata": {
        "id": "9a4Pn5A961wb"
      },
      "source": [
        "Operator Overloading"
      ]
    },
    {
      "cell_type": "markdown",
      "metadata": {
        "id": "RwZZoz9sSp-h"
      },
      "source": [
        "When two or more methods in the same class have the same name but different parameters, it's called Overloading."
      ]
    },
    {
      "cell_type": "code",
      "metadata": {
        "ExecuteTime": {
          "end_time": "2018-06-01T07:22:30.025980Z",
          "start_time": "2018-06-01T07:22:30.014951Z"
        },
        "colab": {
          "base_uri": "https://localhost:8080/"
        },
        "id": "vwssu1Hh61wc",
        "outputId": "107b832e-9432-4ae2-d4a0-64fc5ab7f874"
      },
      "source": [
        "# # Operator Overloading\n",
        "\n",
        "class A:\n",
        "    def __init__(self, num):\n",
        "        self.num = num\n",
        "        \n",
        "a1 = A(10)\n",
        "a2 = A(20)\n",
        "\n",
        "print(a1,a2)"
      ],
      "execution_count": null,
      "outputs": [
        {
          "output_type": "stream",
          "text": [
            "<__main__.A object at 0x7ff80930b150> <__main__.A object at 0x7ff80930b490>\n"
          ],
          "name": "stdout"
        }
      ]
    },
    {
      "cell_type": "code",
      "metadata": {
        "colab": {
          "base_uri": "https://localhost:8080/",
          "height": 163
        },
        "id": "yFqzv7lDS9aK",
        "outputId": "5a9ac816-40e4-4280-b9cf-fa8a85e0173f"
      },
      "source": [
        "print(a1+a2)"
      ],
      "execution_count": null,
      "outputs": [
        {
          "output_type": "error",
          "ename": "TypeError",
          "evalue": "ignored",
          "traceback": [
            "\u001b[0;31m---------------------------------------------------------------------------\u001b[0m",
            "\u001b[0;31mTypeError\u001b[0m                                 Traceback (most recent call last)",
            "\u001b[0;32m<ipython-input-25-1606b2ddea27>\u001b[0m in \u001b[0;36m<module>\u001b[0;34m()\u001b[0m\n\u001b[0;32m----> 1\u001b[0;31m \u001b[0mprint\u001b[0m\u001b[0;34m(\u001b[0m\u001b[0ma1\u001b[0m\u001b[0;34m+\u001b[0m\u001b[0ma2\u001b[0m\u001b[0;34m)\u001b[0m\u001b[0;34m\u001b[0m\u001b[0;34m\u001b[0m\u001b[0m\n\u001b[0m",
            "\u001b[0;31mTypeError\u001b[0m: unsupported operand type(s) for +: 'A' and 'A'"
          ]
        }
      ]
    },
    {
      "cell_type": "code",
      "metadata": {
        "colab": {
          "base_uri": "https://localhost:8080/",
          "height": 163
        },
        "id": "-5cEJgG6TAyp",
        "outputId": "89b5d901-da85-442d-d79a-700b7fa32956"
      },
      "source": [
        "print(a1-a2)"
      ],
      "execution_count": null,
      "outputs": [
        {
          "output_type": "error",
          "ename": "TypeError",
          "evalue": "ignored",
          "traceback": [
            "\u001b[0;31m---------------------------------------------------------------------------\u001b[0m",
            "\u001b[0;31mTypeError\u001b[0m                                 Traceback (most recent call last)",
            "\u001b[0;32m<ipython-input-26-bf9637fb7bf9>\u001b[0m in \u001b[0;36m<module>\u001b[0;34m()\u001b[0m\n\u001b[0;32m----> 1\u001b[0;31m \u001b[0mprint\u001b[0m\u001b[0;34m(\u001b[0m\u001b[0ma1\u001b[0m\u001b[0;34m-\u001b[0m\u001b[0ma2\u001b[0m\u001b[0;34m)\u001b[0m\u001b[0;34m\u001b[0m\u001b[0;34m\u001b[0m\u001b[0m\n\u001b[0m",
            "\u001b[0;31mTypeError\u001b[0m: unsupported operand type(s) for -: 'A' and 'A'"
          ]
        }
      ]
    },
    {
      "cell_type": "code",
      "metadata": {
        "ExecuteTime": {
          "end_time": "2018-06-01T07:26:46.273550Z",
          "start_time": "2018-06-01T07:26:46.268535Z"
        },
        "colab": {
          "base_uri": "https://localhost:8080/"
        },
        "id": "wCQyEAWN61wc",
        "outputId": "c3a068b3-93a0-4e58-d1b7-8645d671139e"
      },
      "source": [
        "class A:\n",
        "    def __init__(self, num):\n",
        "        self.num = num\n",
        "    \n",
        "    def __add__(self, other):\n",
        "        return self.num + other.num\n",
        "        \n",
        "a1 = A(10)\n",
        "a2 = A(20)\n",
        "\n",
        "print(a1+a2)"
      ],
      "execution_count": null,
      "outputs": [
        {
          "output_type": "stream",
          "text": [
            "30\n"
          ],
          "name": "stdout"
        }
      ]
    },
    {
      "cell_type": "markdown",
      "metadata": {
        "id": "UeSENgd161wd"
      },
      "source": [
        "### Method Overloading"
      ]
    },
    {
      "cell_type": "code",
      "metadata": {
        "ExecuteTime": {
          "end_time": "2018-06-01T07:32:41.181981Z",
          "start_time": "2018-06-01T07:32:41.159426Z"
        },
        "id": "NoCgfBeS61wd"
      },
      "source": [
        "class A:\n",
        "    def m(self):  \n",
        "        print('no-arg method')\n",
        "    \n",
        "    def m(self, a):   \n",
        "        print('one arg method')\n",
        "    \n",
        "    def m(self, a, b): \n",
        "        print('two arg method')\n",
        "        \n",
        "a = A()\n",
        "\n",
        "#a.m()\n",
        "\n",
        "#a.m(10)\n",
        "\n",
        "# a.m(10, 20)"
      ],
      "execution_count": null,
      "outputs": []
    },
    {
      "cell_type": "code",
      "metadata": {
        "colab": {
          "base_uri": "https://localhost:8080/"
        },
        "id": "sn4ujMWuxOp2",
        "outputId": "8fd40744-e33d-4cb1-bd0c-df569e320f51"
      },
      "source": [
        "a.m(20,199)"
      ],
      "execution_count": null,
      "outputs": [
        {
          "output_type": "stream",
          "text": [
            "two arg method\n"
          ],
          "name": "stdout"
        }
      ]
    },
    {
      "cell_type": "markdown",
      "metadata": {
        "id": "o-QSevbm61we"
      },
      "source": [
        "### Constructor Overloading"
      ]
    },
    {
      "cell_type": "code",
      "metadata": {
        "ExecuteTime": {
          "end_time": "2018-06-01T07:35:44.331747Z",
          "start_time": "2018-06-01T07:35:44.319213Z"
        },
        "colab": {
          "base_uri": "https://localhost:8080/"
        },
        "id": "nOhzcR9e61we",
        "outputId": "3785a48e-5403-4cec-a2b5-8623f724ee35"
      },
      "source": [
        "class MyClass:\n",
        "\n",
        "    def __init__(self, a, b):\n",
        "        print('parameterized')\n",
        "        \n",
        "    def __init__(self):\n",
        "        print('default constructor')\n",
        "        \n",
        "m1 = MyClass()\n"
      ],
      "execution_count": null,
      "outputs": [
        {
          "output_type": "stream",
          "text": [
            "default constructor\n"
          ],
          "name": "stdout"
        }
      ]
    },
    {
      "cell_type": "code",
      "metadata": {
        "colab": {
          "base_uri": "https://localhost:8080/",
          "height": 163
        },
        "id": "MFktVQd7zB1s",
        "outputId": "8732fc22-7a41-43e2-9d69-eae063d3d478"
      },
      "source": [
        "m2 = MyClass(1,2)"
      ],
      "execution_count": null,
      "outputs": [
        {
          "output_type": "error",
          "ename": "TypeError",
          "evalue": "ignored",
          "traceback": [
            "\u001b[0;31m---------------------------------------------------------------------------\u001b[0m",
            "\u001b[0;31mTypeError\u001b[0m                                 Traceback (most recent call last)",
            "\u001b[0;32m<ipython-input-32-a76cff0e3165>\u001b[0m in \u001b[0;36m<module>\u001b[0;34m()\u001b[0m\n\u001b[0;32m----> 1\u001b[0;31m \u001b[0mm2\u001b[0m \u001b[0;34m=\u001b[0m \u001b[0mMyClass\u001b[0m\u001b[0;34m(\u001b[0m\u001b[0;36m1\u001b[0m\u001b[0;34m,\u001b[0m\u001b[0;36m2\u001b[0m\u001b[0;34m)\u001b[0m\u001b[0;34m\u001b[0m\u001b[0;34m\u001b[0m\u001b[0m\n\u001b[0m",
            "\u001b[0;31mTypeError\u001b[0m: __init__() takes 1 positional argument but 3 were given"
          ]
        }
      ]
    },
    {
      "cell_type": "markdown",
      "metadata": {
        "id": "kv1XY_Gx61wf"
      },
      "source": [
        "### Method Overriding"
      ]
    },
    {
      "cell_type": "markdown",
      "metadata": {
        "id": "pPFOsELmmD1B"
      },
      "source": [
        "**super()**"
      ]
    },
    {
      "cell_type": "markdown",
      "metadata": {
        "id": "NosBzqRImCki"
      },
      "source": [
        "The super() function is used to give access to methods and properties of a parent or sibling class. The super() function returns an object that represents the parent class"
      ]
    },
    {
      "cell_type": "markdown",
      "metadata": {
        "id": "svWzoKx3St-h"
      },
      "source": [
        "When the method signature (name and parameters) are the same in the superclass and the child class, it's called Overriding."
      ]
    },
    {
      "cell_type": "code",
      "metadata": {
        "ExecuteTime": {
          "end_time": "2018-06-01T07:58:10.133600Z",
          "start_time": "2018-06-01T07:58:10.125576Z"
        },
        "id": "6LYn47Re61wf"
      },
      "source": [
        "class A:\n",
        "    def m1(self):\n",
        "        print('Class-A : Method-1')\n",
        "    def m2(self):\n",
        "        print('Class-A : Method-2')\n",
        "    \n",
        "class B(A):\n",
        "    def m1(self):\n",
        "        super().m1()\n",
        "        print('Class-B : Method-1')\n",
        "        \n",
        "b = B()\n",
        "\n"
      ],
      "execution_count": null,
      "outputs": []
    },
    {
      "cell_type": "code",
      "metadata": {
        "colab": {
          "base_uri": "https://localhost:8080/"
        },
        "id": "m5f41pKmzzXb",
        "outputId": "7627cfbc-8989-4dcc-cabf-81727582841d"
      },
      "source": [
        "b.m1()"
      ],
      "execution_count": null,
      "outputs": [
        {
          "output_type": "stream",
          "text": [
            "Class-A : Method-1\n",
            "Class-B : Method-1\n"
          ],
          "name": "stdout"
        }
      ]
    },
    {
      "cell_type": "markdown",
      "metadata": {
        "id": "emS0zhk261wg"
      },
      "source": [
        "### Constructor Overriding"
      ]
    },
    {
      "cell_type": "code",
      "metadata": {
        "ExecuteTime": {
          "end_time": "2018-06-01T07:56:32.993453Z",
          "start_time": "2018-06-01T07:56:32.988439Z"
        },
        "colab": {
          "base_uri": "https://localhost:8080/"
        },
        "id": "U589U-d_61wg",
        "outputId": "5ff16627-6b2f-46fc-f385-948f41104b0e"
      },
      "source": [
        "class A:\n",
        "    def __init__(self):\n",
        "        print('Parent Constructor')\n",
        "        \n",
        "class B(A):\n",
        "    def __init__(self):\n",
        "        super().__init__()\n",
        "        print('Child Constructor')\n",
        "        \n",
        "b = B()"
      ],
      "execution_count": null,
      "outputs": [
        {
          "output_type": "stream",
          "text": [
            "Parent Constructor\n",
            "Child Constructor\n"
          ],
          "name": "stdout"
        }
      ]
    },
    {
      "cell_type": "markdown",
      "metadata": {
        "id": "1lx-ijSG61wh"
      },
      "source": [
        "# Encapsulation"
      ]
    },
    {
      "cell_type": "markdown",
      "metadata": {
        "id": "tNDroffDnnGC"
      },
      "source": [
        "**Encapsulation** is one of the fundamental concepts in object-oriented programming (OOP). It describes the idea of wrapping data and the methods that work on data within one unit. To prevent accidental change, an object's variable can only be changed by an object's method."
      ]
    },
    {
      "cell_type": "code",
      "metadata": {
        "colab": {
          "base_uri": "https://localhost:8080/"
        },
        "id": "n-pC9kwBpzZX",
        "outputId": "f36fe180-4897-466b-c59d-faf18690b368"
      },
      "source": [
        "# Python program to\n",
        "# demonstrate protected members\n",
        "\n",
        "\n",
        "# Creating a base class\n",
        "class Base:\n",
        "\tdef __init__(self):\n",
        "\t\t\n",
        "\t\t# Protected member\n",
        "\t\tself._a = 2\n",
        "\n",
        "# Creating a derived class\n",
        "class Derived(Base):\n",
        "\tdef __init__(self):\n",
        "\t\t\n",
        "\t\t# Calling constructor of\n",
        "\t\t# Base class\n",
        "\t\tBase.__init__(self)\n",
        "\t\tprint(\"Calling protected member of base class: \")\n",
        "\t\tprint(self._a)\n",
        "\n",
        "obj1 = Derived()\n",
        "\t\t\n",
        "\n"
      ],
      "execution_count": null,
      "outputs": [
        {
          "output_type": "stream",
          "text": [
            "Calling protected member of base class: \n",
            "2\n"
          ],
          "name": "stdout"
        }
      ]
    },
    {
      "cell_type": "code",
      "metadata": {
        "colab": {
          "base_uri": "https://localhost:8080/",
          "height": 197
        },
        "id": "gAYUHDuop2u5",
        "outputId": "de10dfe1-ee31-41f6-b1aa-d7584d2e4b0d"
      },
      "source": [
        "obj2 = Base()\n",
        "\n",
        "\n",
        "# Calling protected member Outside class will result in AttributeError\n",
        "print(obj2.a)"
      ],
      "execution_count": null,
      "outputs": [
        {
          "output_type": "error",
          "ename": "AttributeError",
          "evalue": "ignored",
          "traceback": [
            "\u001b[0;31m---------------------------------------------------------------------------\u001b[0m",
            "\u001b[0;31mAttributeError\u001b[0m                            Traceback (most recent call last)",
            "\u001b[0;32m<ipython-input-38-ae66e6a92ff9>\u001b[0m in \u001b[0;36m<module>\u001b[0;34m()\u001b[0m\n\u001b[1;32m      3\u001b[0m \u001b[0;34m\u001b[0m\u001b[0m\n\u001b[1;32m      4\u001b[0m \u001b[0;31m# Calling protected member Outside class will result in AttributeError\u001b[0m\u001b[0;34m\u001b[0m\u001b[0;34m\u001b[0m\u001b[0;34m\u001b[0m\u001b[0m\n\u001b[0;32m----> 5\u001b[0;31m \u001b[0mprint\u001b[0m\u001b[0;34m(\u001b[0m\u001b[0mobj2\u001b[0m\u001b[0;34m.\u001b[0m\u001b[0ma\u001b[0m\u001b[0;34m)\u001b[0m\u001b[0;34m\u001b[0m\u001b[0;34m\u001b[0m\u001b[0m\n\u001b[0m",
            "\u001b[0;31mAttributeError\u001b[0m: 'Base' object has no attribute 'a'"
          ]
        }
      ]
    },
    {
      "cell_type": "markdown",
      "metadata": {
        "id": "jVnD01pHEMPW"
      },
      "source": [
        "**Methods**\n",
        "\n",
        "Methods are functions defined inside the body of a class. They are used to perform operations with the attributes of our objects. Methods are a key concept of the OOP paradigm. They are essential to dividing responsibilities in programming, especially in large applications.\n",
        "\n",
        "\n",
        "You can basically think of methods as functions acting on an Object that take the Object itself into account through its self argument.\n",
        "\n",
        "\n",
        "Let's go through an example of creating a Circle class:"
      ]
    },
    {
      "cell_type": "code",
      "metadata": {
        "colab": {
          "base_uri": "https://localhost:8080/"
        },
        "id": "VvdCEWBWERHO",
        "outputId": "5dfcd56e-e000-4b13-afc4-cdfee760e472"
      },
      "source": [
        "class Circle:\n",
        "    pi = 3.14\n",
        "\n",
        "    # Circle gets instantiated with a radius (default is 1)\n",
        "    def __init__(self, radius=1):\n",
        "        self.radius = radius \n",
        "        self.area = radius * radius * Circle.pi\n",
        "\n",
        "    # Method for resetting Radius\n",
        "    def setRadius(self, new_radius):\n",
        "        self.radius = new_radius\n",
        "        self.area = new_radius * new_radius * self.pi\n",
        "\n",
        "    # Method for getting Circumference\n",
        "    def getCircumference(self):\n",
        "        return self.radius * self.pi * 2\n",
        "\n",
        "\n",
        "c = Circle()\n",
        "\n",
        "print('Radius is: ',c.radius)\n",
        "print('Area is: ',c.area)\n",
        "print('Circumference is: ',c.getCircumference())"
      ],
      "execution_count": null,
      "outputs": [
        {
          "output_type": "stream",
          "text": [
            "Radius is:  1\n",
            "Area is:  3.14\n",
            "Circumference is:  6.28\n"
          ],
          "name": "stdout"
        }
      ]
    },
    {
      "cell_type": "markdown",
      "metadata": {
        "id": "JgyYTvNREUfe"
      },
      "source": [
        "In the **_init_** method above, in order to calculate the area attribute, we had to call Circle.pi. This is because the object does not yet have its own .pi attribute, so we call the Class Object Attribute pi instead.\n",
        "\n",
        "\n",
        "In the setRadius method, however, we'll be working with an existing Circle object that does have its own pi attribute. Here we can use either Circle.pi or self.pi.\n",
        "\n",
        "Now let's change the radius and see how that affects our Circle object:"
      ]
    },
    {
      "cell_type": "code",
      "metadata": {
        "colab": {
          "base_uri": "https://localhost:8080/"
        },
        "id": "sKJJxNewEV8O",
        "outputId": "e1f52971-cccf-45f1-d970-bb17b27774ce"
      },
      "source": [
        "c.setRadius(2)\n",
        "\n",
        "print('Radius is: ',c.radius)\n",
        "print('Area is: ',c.area)\n",
        "print('Circumference is: ',c.getCircumference())"
      ],
      "execution_count": null,
      "outputs": [
        {
          "output_type": "stream",
          "text": [
            "Radius is:  2\n",
            "Area is:  12.56\n",
            "Circumference is:  12.56\n"
          ],
          "name": "stdout"
        }
      ]
    },
    {
      "cell_type": "markdown",
      "metadata": {
        "id": "IcngJR7y61wh"
      },
      "source": [
        "### Private Metods"
      ]
    },
    {
      "cell_type": "code",
      "metadata": {
        "ExecuteTime": {
          "end_time": "2018-05-31T17:41:40.583150Z",
          "start_time": "2018-05-31T17:41:40.567487Z"
        },
        "colab": {
          "base_uri": "https://localhost:8080/"
        },
        "id": "udh_ueAC61wh",
        "outputId": "4efd92fe-f6da-409a-afdd-2b0a3a1bb2b9"
      },
      "source": [
        "class Car:\n",
        "    def __init__(self):\n",
        "        self.__updateSoftware()\n",
        "        \n",
        "    def drive(self):\n",
        "        print('Driving')\n",
        "        \n",
        "    def __updateSoftware(self):\n",
        "        print('Updating Software....')\n",
        "        \n",
        "myCar = Car()\n",
        "myCar.drive()"
      ],
      "execution_count": null,
      "outputs": [
        {
          "output_type": "stream",
          "text": [
            "Updating Software....\n",
            "Driving\n"
          ],
          "name": "stdout"
        }
      ]
    },
    {
      "cell_type": "markdown",
      "metadata": {
        "id": "HJusSN_m61wi"
      },
      "source": [
        "### Private Variables"
      ]
    },
    {
      "cell_type": "code",
      "metadata": {
        "ExecuteTime": {
          "end_time": "2018-05-31T17:46:23.510540Z",
          "start_time": "2018-05-31T17:46:23.495142Z"
        },
        "colab": {
          "base_uri": "https://localhost:8080/"
        },
        "id": "kaQD9axd61wi",
        "outputId": "0ef82afe-a748-4ca7-b12a-168caa0affe6"
      },
      "source": [
        "class Car:\n",
        "    __maxSpeed = 0\n",
        "    __name = ''\n",
        "    \n",
        "    def __init__(self):\n",
        "        self.__maxSpeed = 200\n",
        "        self.__name = 'Super Car'\n",
        "        \n",
        "    def drive(self):\n",
        "        print('Driving....maxSpeed is', self.__maxSpeed)\n",
        "        \n",
        "myCar = Car()\n",
        "myCar.drive()\n",
        "\n",
        "myCar.__maxSpeed = 10\n",
        "myCar.drive()"
      ],
      "execution_count": null,
      "outputs": [
        {
          "output_type": "stream",
          "text": [
            "Driving....maxSpeed is 200\n",
            "Driving....maxSpeed is 200\n"
          ],
          "name": "stdout"
        }
      ]
    },
    {
      "cell_type": "code",
      "metadata": {
        "ExecuteTime": {
          "end_time": "2018-06-01T08:17:25.380641Z",
          "start_time": "2018-06-01T08:17:25.260823Z"
        },
        "colab": {
          "base_uri": "https://localhost:8080/",
          "height": 212
        },
        "id": "dMKT30rX61wj",
        "outputId": "fa789864-3a54-4c56-a02f-70458d50a55c"
      },
      "source": [
        "class Car:\n",
        "    __maxSpeed = 0\n",
        "    __name = ''\n",
        "    \n",
        "    def __init__(self):\n",
        "        self.__maxSpeed = 200\n",
        "        self.__name = 'Super Car'\n",
        "        \n",
        "    def drive(self):\n",
        "        print('Driving....maxSpeed is', self.__maxSpeed)\n",
        "        \n",
        "myCar = Car()\n",
        "myCar.drive()\n",
        "\n",
        "print(myCar.__maxSpeed)"
      ],
      "execution_count": null,
      "outputs": [
        {
          "output_type": "stream",
          "text": [
            "Driving....maxSpeed is 200\n"
          ],
          "name": "stdout"
        },
        {
          "output_type": "error",
          "ename": "AttributeError",
          "evalue": "ignored",
          "traceback": [
            "\u001b[0;31m---------------------------------------------------------------------------\u001b[0m",
            "\u001b[0;31mAttributeError\u001b[0m                            Traceback (most recent call last)",
            "\u001b[0;32m<ipython-input-60-ee09c3276059>\u001b[0m in \u001b[0;36m<module>\u001b[0;34m()\u001b[0m\n\u001b[1;32m     13\u001b[0m \u001b[0mmyCar\u001b[0m\u001b[0;34m.\u001b[0m\u001b[0mdrive\u001b[0m\u001b[0;34m(\u001b[0m\u001b[0;34m)\u001b[0m\u001b[0;34m\u001b[0m\u001b[0;34m\u001b[0m\u001b[0m\n\u001b[1;32m     14\u001b[0m \u001b[0;34m\u001b[0m\u001b[0m\n\u001b[0;32m---> 15\u001b[0;31m \u001b[0mprint\u001b[0m\u001b[0;34m(\u001b[0m\u001b[0mmyCar\u001b[0m\u001b[0;34m.\u001b[0m\u001b[0m__maxSpeed\u001b[0m\u001b[0;34m)\u001b[0m\u001b[0;34m\u001b[0m\u001b[0;34m\u001b[0m\u001b[0m\n\u001b[0m",
            "\u001b[0;31mAttributeError\u001b[0m: 'Car' object has no attribute '__maxSpeed'"
          ]
        }
      ]
    },
    {
      "cell_type": "markdown",
      "metadata": {
        "id": "ZIxj8dohFIDV"
      },
      "source": [
        "#Special Methods"
      ]
    },
    {
      "cell_type": "markdown",
      "metadata": {
        "id": "_PsOQ9oPFLXe"
      },
      "source": [
        "Finally let's go over special methods. Classes in Python can implement certain operations with special method names. These methods are not actually called directly but by Python specific language syntax. For example let's create a Book class"
      ]
    },
    {
      "cell_type": "code",
      "metadata": {
        "id": "K9O2kB1EFJfe"
      },
      "source": [
        "class Book:\n",
        "    def __init__(self, title, author, pages):\n",
        "        print(\"A book is created\")\n",
        "        self.title = title\n",
        "        self.author = author\n",
        "        self.pages = pages\n",
        "\n",
        "    def __str__(self):\n",
        "        return \"Title: %s, author: %s, pages: %s\" %(self.title, self.author, self.pages)\n",
        "\n",
        "    def __len__(self):\n",
        "        return self.pages\n",
        "\n",
        "    def __del__(self):\n",
        "        print(\"A book is destroyed\")"
      ],
      "execution_count": null,
      "outputs": []
    },
    {
      "cell_type": "code",
      "metadata": {
        "id": "MF2PI4AAFPru",
        "colab": {
          "base_uri": "https://localhost:8080/"
        },
        "outputId": "a92548e9-7054-4140-8e32-a516cb764c59"
      },
      "source": [
        "book = Book(\"Python Rocks!\", \"Jose Portilla\", 159)\n",
        "\n",
        "#Special Methods\n",
        "print(book)\n",
        "print(len(book))\n",
        "del book"
      ],
      "execution_count": null,
      "outputs": [
        {
          "output_type": "stream",
          "text": [
            "A book is created\n",
            "Title: Python Rocks!, author: Jose Portilla, pages: 159\n",
            "159\n",
            "A book is destroyed\n"
          ],
          "name": "stdout"
        }
      ]
    },
    {
      "cell_type": "markdown",
      "metadata": {
        "id": "covZJwi4FSo_"
      },
      "source": [
        "The __init__(), __str__(), __len__() and __del__() methods\n",
        "These special methods are defined by their use of underscores. They allow us to use Python specific functions on objects created through our class."
      ]
    }
  ]
}