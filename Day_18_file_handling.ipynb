{
  "nbformat": 4,
  "nbformat_minor": 0,
  "metadata": {
    "kernelspec": {
      "display_name": "Python 3",
      "language": "python",
      "name": "python3"
    },
    "language_info": {
      "codemirror_mode": {
        "name": "ipython",
        "version": 3
      },
      "file_extension": ".py",
      "mimetype": "text/x-python",
      "name": "python",
      "nbconvert_exporter": "python",
      "pygments_lexer": "ipython3",
      "version": "3.8.3"
    },
    "toc": {
      "nav_menu": {},
      "number_sections": true,
      "sideBar": true,
      "skip_h1_title": false,
      "title_cell": "Table of Contents",
      "title_sidebar": "Contents",
      "toc_cell": false,
      "toc_position": {},
      "toc_section_display": true,
      "toc_window_display": false
    },
    "varInspector": {
      "cols": {
        "lenName": 16,
        "lenType": 16,
        "lenVar": 40
      },
      "kernels_config": {
        "python": {
          "delete_cmd_postfix": "",
          "delete_cmd_prefix": "del ",
          "library": "var_list.py",
          "varRefreshCmd": "print(var_dic_list())"
        },
        "r": {
          "delete_cmd_postfix": ") ",
          "delete_cmd_prefix": "rm(",
          "library": "var_list.r",
          "varRefreshCmd": "cat(var_dic_list()) "
        }
      },
      "types_to_exclude": [
        "module",
        "function",
        "builtin_function_or_method",
        "instance",
        "_Feature"
      ],
      "window_display": false
    },
    "colab": {
      "name": "Day_18_file_handling.ipynb",
      "provenance": []
    }
  },
  "cells": [
    {
      "cell_type": "markdown",
      "metadata": {
        "id": "b657qbKU6lHN"
      },
      "source": [
        "## Opening & Closing a File"
      ]
    },
    {
      "cell_type": "code",
      "metadata": {
        "ExecuteTime": {
          "end_time": "2018-06-06T04:37:28.052812Z",
          "start_time": "2018-06-06T04:37:28.033261Z"
        },
        "id": "-1VcI07A6lHe"
      },
      "source": [
        "f = open('test.txt')"
      ],
      "execution_count": null,
      "outputs": []
    },
    {
      "cell_type": "code",
      "metadata": {
        "ExecuteTime": {
          "end_time": "2018-06-06T04:25:29.032904Z",
          "start_time": "2018-06-06T04:25:29.030397Z"
        },
        "id": "s42uaGH36lHg"
      },
      "source": [
        "f.close()"
      ],
      "execution_count": null,
      "outputs": []
    },
    {
      "cell_type": "markdown",
      "metadata": {
        "id": "UHHeGh1b6lHh"
      },
      "source": [
        "## File Object Properties"
      ]
    },
    {
      "cell_type": "code",
      "metadata": {
        "ExecuteTime": {
          "end_time": "2018-06-06T04:29:39.179147Z",
          "start_time": "2018-06-06T04:29:39.171126Z"
        },
        "id": "f3oj9gSr6lHi",
        "outputId": "48d0d96a-cb2b-4842-936f-d07e01d403f6"
      },
      "source": [
        "f = open(\"test.txt\", 'w')\n",
        "\n",
        "print('File Name: ', f.name)\n",
        "\n",
        "print('File Mode: ', f.mode)\n",
        "\n",
        "print('Is file readable: ', f.readable())\n",
        "\n",
        "print('Is file Writable: ', f.writable())\n",
        "\n",
        "print('Is file closed: ', f.closed)\n",
        "\n",
        "f.close()\n",
        "\n",
        "print('Is file closed: ', f.closed)\n"
      ],
      "execution_count": null,
      "outputs": [
        {
          "output_type": "stream",
          "text": [
            "File Name:  test.txt\n",
            "File Mode:  w\n",
            "Is file readable:  False\n",
            "Is file Writable:  True\n",
            "Is file closed:  False\n",
            "Is file closed:  True\n"
          ],
          "name": "stdout"
        }
      ]
    },
    {
      "cell_type": "markdown",
      "metadata": {
        "id": "HN44y5oZ6lHl"
      },
      "source": [
        "## Read Data from text files"
      ]
    },
    {
      "cell_type": "code",
      "metadata": {
        "ExecuteTime": {
          "end_time": "2018-06-06T04:39:26.673103Z",
          "start_time": "2018-06-06T04:39:26.668088Z"
        },
        "id": "b5E21PQ46lHl"
      },
      "source": [
        "# read() -> read all the data\n",
        "\n",
        "\n",
        "f = open('test.txt','r')\n",
        "\n",
        "data = f.read()\n",
        "\n",
        "print(data)\n",
        "\n",
        "f.close()"
      ],
      "execution_count": null,
      "outputs": []
    },
    {
      "cell_type": "code",
      "metadata": {
        "ExecuteTime": {
          "end_time": "2018-06-06T04:41:27.625547Z",
          "start_time": "2018-06-06T04:41:27.619031Z"
        },
        "id": "9AywWu4J6lHn"
      },
      "source": [
        "# read(n) -> read first n characters\n",
        "\n",
        "f = open('test.txt','r')\n",
        "\n",
        "data = f.read(10)\n",
        "\n",
        "print(data)\n",
        "\n",
        "f.close()"
      ],
      "execution_count": null,
      "outputs": []
    },
    {
      "cell_type": "code",
      "metadata": {
        "ExecuteTime": {
          "end_time": "2018-06-06T04:44:46.691521Z",
          "start_time": "2018-06-06T04:44:46.679490Z"
        },
        "id": "IMpdaSj66lHo"
      },
      "source": [
        "# readline() -> read only one line\n",
        "\n",
        "\n",
        "f = open('test.txt','r')\n",
        "\n",
        "line1 = f.readline()\n",
        "\n",
        "print(line1)\n",
        "\n",
        "line2 = f.readline()\n",
        "\n",
        "print(line2)\n",
        "\n",
        "line3 = f.readline()\n",
        "\n",
        "print(line3)\n",
        "\n",
        "f.close()"
      ],
      "execution_count": null,
      "outputs": []
    },
    {
      "cell_type": "code",
      "metadata": {
        "ExecuteTime": {
          "end_time": "2018-06-06T04:47:45.754270Z",
          "start_time": "2018-06-06T04:47:45.749254Z"
        },
        "id": "RnYOr5L56lHp"
      },
      "source": [
        "# readlines() -> read all the lines into list\n",
        "\n",
        "\n",
        "f = open('test.txt', 'r')\n",
        "\n",
        "lines = f.readlines()\n",
        "\n",
        "print(type(lines))\n",
        "\n",
        "for l in lines:\n",
        "    print(l)\n",
        "    \n",
        "f.close()"
      ],
      "execution_count": null,
      "outputs": []
    },
    {
      "cell_type": "markdown",
      "metadata": {
        "id": "XqJipAQS6lHq"
      },
      "source": [
        "## Write Data to text files"
      ]
    },
    {
      "cell_type": "code",
      "metadata": {
        "ExecuteTime": {
          "end_time": "2018-06-06T04:51:32.495535Z",
          "start_time": "2018-06-06T04:51:32.463449Z"
        },
        "id": "1sDphsqL6lHq"
      },
      "source": [
        "f = open('test.txt', 'a')\n",
        "\n",
        "f.write(\"abc\")\n",
        "\n",
        "f.write(\"xyz\\n\")\n",
        "\n",
        "f.write(\"lmn\")\n",
        "\n",
        "f.close()\n",
        "\n",
        "# f = open('test.txt', 'a')"
      ],
      "execution_count": null,
      "outputs": []
    },
    {
      "cell_type": "code",
      "metadata": {
        "ExecuteTime": {
          "end_time": "2018-06-06T04:57:51.097713Z",
          "start_time": "2018-06-06T04:57:51.065125Z"
        },
        "id": "PUUVZKEG6lHr"
      },
      "source": [
        "# writeline takes a sequence\n",
        "\n",
        "f = open('test.txt', 'w')\n",
        "\n",
        "lines = ['line-1', 'line-2', 'line-3']\n",
        "\n",
        "f.writelines(lines)\n",
        "\n",
        "f.close()"
      ],
      "execution_count": null,
      "outputs": []
    },
    {
      "cell_type": "markdown",
      "metadata": {
        "id": "dvCDToM_6lHs"
      },
      "source": [
        "## r+ Mode"
      ]
    },
    {
      "cell_type": "code",
      "metadata": {
        "ExecuteTime": {
          "end_time": "2018-06-06T04:58:29.790108Z",
          "start_time": "2018-06-06T04:58:29.779079Z"
        },
        "id": "J9Qn0G4N6lHs",
        "outputId": "1e51d2d5-0916-4342-93f9-142eee6d2482"
      },
      "source": [
        "f = open('test.txt','r+')\n",
        "\n",
        "data = f.read()\n",
        "\n",
        "print(data)\n",
        "\n",
        "f.write('asdfghjkl')\n",
        "\n",
        "f.close()"
      ],
      "execution_count": null,
      "outputs": [
        {
          "output_type": "stream",
          "text": [
            "line-1line-2line-3asdfghjkl\n"
          ],
          "name": "stdout"
        }
      ]
    },
    {
      "cell_type": "code",
      "metadata": {
        "ExecuteTime": {
          "end_time": "2018-06-06T04:58:33.086207Z",
          "start_time": "2018-06-06T04:58:33.080191Z"
        },
        "id": "427FMVJv6lHt",
        "outputId": "d1dfd7ac-d266-4c4a-bb64-68739ada39d5"
      },
      "source": [
        "f = open('test.txt')\n",
        "\n",
        "data = f.read()\n",
        "\n",
        "print(data)"
      ],
      "execution_count": null,
      "outputs": [
        {
          "output_type": "stream",
          "text": [
            "line-1line-2line-3asdfghjkl\n"
          ],
          "name": "stdout"
        }
      ]
    },
    {
      "cell_type": "code",
      "metadata": {
        "ExecuteTime": {
          "end_time": "2018-06-06T05:06:20.634323Z",
          "start_time": "2018-06-06T05:06:20.616778Z"
        },
        "id": "ehz4dU2A6lHu"
      },
      "source": [
        "f = open('test.txt','r+')\n",
        "\n",
        "f.write('\\writing\\n')\n",
        "\n",
        "f.close()"
      ],
      "execution_count": null,
      "outputs": []
    },
    {
      "cell_type": "markdown",
      "metadata": {
        "id": "wCWQv66v6lHv"
      },
      "source": [
        "## 'with' Statement"
      ]
    },
    {
      "cell_type": "code",
      "metadata": {
        "ExecuteTime": {
          "end_time": "2018-06-06T05:11:47.426468Z",
          "start_time": "2018-06-06T05:11:47.407402Z"
        },
        "scrolled": false,
        "id": "_ALi3YSy6lHv",
        "outputId": "d1368ca6-e808-4960-8708-e240fde4fba2"
      },
      "source": [
        "with open('test.txt', 'a') as f:\n",
        "    f.write('\\nabc\\n')\n",
        "    f.write('xyz\\n')\n",
        "    print('Is file closed: ', f.closed)\n",
        "print('Is file closed: ', f.closed)"
      ],
      "execution_count": null,
      "outputs": [
        {
          "output_type": "stream",
          "text": [
            "Is file closed:  False\n",
            "Is file closed:  True\n"
          ],
          "name": "stdout"
        }
      ]
    },
    {
      "cell_type": "markdown",
      "metadata": {
        "id": "-Z3UP9WX6lHw"
      },
      "source": [
        "## seek() and tell()"
      ]
    },
    {
      "cell_type": "code",
      "metadata": {
        "ExecuteTime": {
          "end_time": "2018-06-06T05:15:53.119649Z",
          "start_time": "2018-06-06T05:15:53.102596Z"
        },
        "scrolled": true,
        "id": "leizh-bN6lHx",
        "outputId": "b1cecafe-b060-4603-9ac2-00183144119b"
      },
      "source": [
        "f = open('test.txt', 'r')\n",
        "\n",
        "print(f.tell()) # Current Position of the cursor. Print Index\n",
        "\n",
        "print(f.read(4))\n",
        "\n",
        "print(f.tell()) # Current Position of the cursor. Print Index\n",
        "\n",
        "print(f.read(5))\n",
        "\n",
        "print(f.tell()) # Current Position of the cursor. Print Index\n",
        "\n",
        "f.close()"
      ],
      "execution_count": null,
      "outputs": [
        {
          "output_type": "stream",
          "text": [
            "0\n",
            "line\n",
            "4\n",
            "-1lin\n",
            "9\n"
          ],
          "name": "stdout"
        }
      ]
    },
    {
      "cell_type": "code",
      "metadata": {
        "ExecuteTime": {
          "end_time": "2018-06-06T05:20:13.017479Z",
          "start_time": "2018-06-06T05:20:13.002439Z"
        },
        "id": "gvdEfwCb6lHx",
        "outputId": "021c55ec-64a3-401e-a961-7a492993442c"
      },
      "source": [
        "with open('test.txt', 'r+') as f:\n",
        "    print('The current file pointer position: ', f.tell())\n",
        "    \n",
        "    text = f.read()\n",
        "    \n",
        "    print('The current file pointer position: ', f.tell())\n",
        "    \n",
        "    f.seek(2)\n",
        "    \n",
        "    print('The current file pointer position: ', f.tell())\n",
        "    \n",
        "    f.write('HELL NO!')\n",
        "    \n",
        "    print('The current file pointer position: ', f.tell())"
      ],
      "execution_count": null,
      "outputs": [
        {
          "output_type": "stream",
          "text": [
            "The current file pointer position:  0\n",
            "The current file pointer position:  48\n",
            "The current file pointer position:  2\n",
            "The current file pointer position:  10\n"
          ],
          "name": "stdout"
        }
      ]
    },
    {
      "cell_type": "markdown",
      "metadata": {
        "id": "3elANROv6lHz"
      },
      "source": [
        "## Renaming & Deleting files"
      ]
    },
    {
      "cell_type": "code",
      "metadata": {
        "ExecuteTime": {
          "end_time": "2018-06-06T05:22:56.579668Z",
          "start_time": "2018-06-06T05:22:56.573653Z"
        },
        "id": "8HMhCPUa6lHz"
      },
      "source": [
        "import os\n",
        "\n",
        "os.rename('test.txt', 'test-1.txt')"
      ],
      "execution_count": null,
      "outputs": []
    },
    {
      "cell_type": "code",
      "metadata": {
        "ExecuteTime": {
          "end_time": "2018-06-06T05:23:04.326993Z",
          "start_time": "2018-06-06T05:23:04.323484Z"
        },
        "id": "VUBGrlZD6lH0"
      },
      "source": [
        "os.remove('test-1.txt')"
      ],
      "execution_count": null,
      "outputs": []
    },
    {
      "cell_type": "markdown",
      "metadata": {
        "id": "gtcDQ9-46lH0"
      },
      "source": [
        "## Splitting Lines"
      ]
    },
    {
      "cell_type": "code",
      "metadata": {
        "ExecuteTime": {
          "end_time": "2018-06-06T05:26:09.278300Z",
          "start_time": "2018-06-06T05:26:09.270279Z"
        },
        "id": "oALIM1Vp6lH1",
        "outputId": "61dd5402-08ce-4496-fb34-5f4f3bd36531"
      },
      "source": [
        "with open('test.txt', 'r') as f:\n",
        "    lines = f.readlines()\n",
        "    for l in lines:\n",
        "        words = l.split()\n",
        "        print(words)"
      ],
      "execution_count": null,
      "outputs": [
        {
          "output_type": "stream",
          "text": [
            "['line-1line-2line-3']\n"
          ],
          "name": "stdout"
        }
      ]
    },
    {
      "cell_type": "code",
      "metadata": {
        "id": "EfApo2DQ6lH2"
      },
      "source": [
        ""
      ],
      "execution_count": null,
      "outputs": []
    }
  ]
}