{
  "nbformat": 4,
  "nbformat_minor": 0,
  "metadata": {
    "colab": {
      "name": "Day_02_strfrm_Lst_copy(S/D)_dict_tupl_set.ipynb",
      "provenance": [],
      "collapsed_sections": [
        "QNjZ5wrD3lwR",
        "39FljQfj74-1",
        "yLJE7_fA9F10"
      ],
      "toc_visible": true
    },
    "kernelspec": {
      "name": "python3",
      "display_name": "Python 3"
    },
    "language_info": {
      "name": "python"
    }
  },
  "cells": [
    {
      "cell_type": "markdown",
      "metadata": {
        "id": "QNjZ5wrD3lwR"
      },
      "source": [
        "#String Formatting"
      ]
    },
    {
      "cell_type": "markdown",
      "metadata": {
        "id": "ecpovU1e3tEB"
      },
      "source": [
        "**Formatting with placeholders**\n",
        "use %s to inject strings into your print statements. The modulo % is referred to as a \"string formatting operator\"."
      ]
    },
    {
      "cell_type": "code",
      "metadata": {
        "id": "ALIswQ-W2huE",
        "colab": {
          "base_uri": "https://localhost:8080/"
        },
        "outputId": "9b8c9eb9-7181-4f95-f989-988410b4f90a"
      },
      "source": [
        "print(\"This is python %s .\" %'code')"
      ],
      "execution_count": null,
      "outputs": [
        {
          "output_type": "stream",
          "text": [
            "This is python code .\n"
          ],
          "name": "stdout"
        }
      ]
    },
    {
      "cell_type": "markdown",
      "metadata": {
        "id": "gdqGhta430Qu"
      },
      "source": [
        "we can pass multiple items by placing them inside a tuple after the % operator."
      ]
    },
    {
      "cell_type": "code",
      "metadata": {
        "id": "QwtglPGz31m4",
        "colab": {
          "base_uri": "https://localhost:8080/"
        },
        "outputId": "e4d06f6e-fbb3-487b-b9ca-4ff3376e8d33"
      },
      "source": [
        "print(\"This  is  %s code , and python is %s to learn.\" %('python','easy'))"
      ],
      "execution_count": null,
      "outputs": [
        {
          "output_type": "stream",
          "text": [
            "This  is  python code , and python is easy to learn.\n"
          ],
          "name": "stdout"
        }
      ]
    },
    {
      "cell_type": "markdown",
      "metadata": {
        "id": "vdwwvgtP33Hf"
      },
      "source": [
        "we can also pass variable also:"
      ]
    },
    {
      "cell_type": "code",
      "metadata": {
        "id": "4PKu-R6D340m",
        "colab": {
          "base_uri": "https://localhost:8080/"
        },
        "outputId": "c90c350e-fca6-4b90-d431-eb2ea108b44f"
      },
      "source": [
        "x, y = 'python', 'easy'\n",
        "print(\"This  is  %s code , and python is %s to learn.\"%(x,y))"
      ],
      "execution_count": null,
      "outputs": [
        {
          "output_type": "stream",
          "text": [
            "This  is  python code , and python is easy to learn.\n"
          ],
          "name": "stdout"
        }
      ]
    },
    {
      "cell_type": "markdown",
      "metadata": {
        "id": "kdZXuRa138Eu"
      },
      "source": [
        "**Format conversion methods**"
      ]
    },
    {
      "cell_type": "markdown",
      "metadata": {
        "id": "FyqFVSjV4AqG"
      },
      "source": [
        "It should be noted that two methods %s and %r convert any python object to a string using two separate methods: str() and repr(). "
      ]
    },
    {
      "cell_type": "code",
      "metadata": {
        "id": "Es-6wq093_1_",
        "colab": {
          "base_uri": "https://localhost:8080/"
        },
        "outputId": "66a06346-7cb9-480f-e64c-f1401a3982d1"
      },
      "source": [
        "print('python is %s.' %'easy')\n",
        "print('python is %r.' %'easy')\n"
      ],
      "execution_count": null,
      "outputs": [
        {
          "output_type": "stream",
          "text": [
            "python is easy.\n",
            "python is 'easy'.\n"
          ],
          "name": "stdout"
        }
      ]
    },
    {
      "cell_type": "markdown",
      "metadata": {
        "id": "y-QOUE7F4Hge"
      },
      "source": [
        "'\\t' inserts a tab into a string"
      ]
    },
    {
      "cell_type": "code",
      "metadata": {
        "id": "v7NKMEay4ICm",
        "colab": {
          "base_uri": "https://localhost:8080/"
        },
        "outputId": "07b73519-b15c-4250-c84d-c61b0894e1ec"
      },
      "source": [
        "print('python is  %s.' %'\\teasy')\n",
        "print('python is %r.' %'\\teasy')"
      ],
      "execution_count": null,
      "outputs": [
        {
          "output_type": "stream",
          "text": [
            "python is  \teasy.\n",
            "python is '\\teasy'.\n"
          ],
          "name": "stdout"
        }
      ]
    },
    {
      "cell_type": "markdown",
      "metadata": {
        "id": "rOQRvvEz4MGm"
      },
      "source": [
        "The %s operator converts whatever it sees into a string, including integers and floats. \n",
        "The %d operator converts numbers to integers first, without rounding."
      ]
    },
    {
      "cell_type": "code",
      "metadata": {
        "id": "ddADlwWf4NpH",
        "colab": {
          "base_uri": "https://localhost:8080/"
        },
        "outputId": "22a0df20-a5d7-4801-936a-546f3b3f5e38"
      },
      "source": [
        "print('current python version is %s ' %3.6)\n",
        "print('current python version is %d' %3.6)  "
      ],
      "execution_count": null,
      "outputs": [
        {
          "output_type": "stream",
          "text": [
            "current python version is 3.6 \n",
            "current python version is 3\n"
          ],
          "name": "stdout"
        }
      ]
    },
    {
      "cell_type": "markdown",
      "metadata": {
        "id": "2V9jdays4QDG"
      },
      "source": [
        "**Padding and Precision of Floating Point Numbers**"
      ]
    },
    {
      "cell_type": "markdown",
      "metadata": {
        "id": "_X4ds4S34TTG"
      },
      "source": [
        "Floating point numbers use the format %10.2f. Here, 10 would be the minimum number of characters the string should contain; these may be padded with whitespace if the entire number does not have this many digits. Next to this, .2f stands for how many numbers to show past the decimal point. "
      ]
    },
    {
      "cell_type": "code",
      "metadata": {
        "colab": {
          "base_uri": "https://localhost:8080/"
        },
        "id": "sTyeWTD14Vfu",
        "outputId": "7478f6aa-ca23-41e6-9317-ce2ec5813ebf"
      },
      "source": [
        "\n",
        "\n",
        "print('Floating point numbers: %1.0f' %(13.144))\n",
        "\n",
        "print('Floating point numbers: %1.5f' %(13.144))\n",
        "\n",
        "print('Floating point numbers: %10.2f' %(13.144))\n",
        "\n",
        "print('Floating point numbers: %25.2f' %(13.144))\n"
      ],
      "execution_count": null,
      "outputs": [
        {
          "output_type": "stream",
          "text": [
            "Floating point numbers: 13\n",
            "Floating point numbers: 13.14400\n",
            "Floating point numbers:      13.14\n",
            "Floating point numbers:                     13.14\n"
          ],
          "name": "stdout"
        }
      ]
    },
    {
      "cell_type": "markdown",
      "metadata": {
        "id": "SYhH7VAI4jgr"
      },
      "source": [
        "**Multiple Formatting**"
      ]
    },
    {
      "cell_type": "code",
      "metadata": {
        "id": "NW6IUGgL4pAL",
        "colab": {
          "base_uri": "https://localhost:8080/"
        },
        "outputId": "b6e7e993-622d-4a4c-c853-0ed323a1c1ba"
      },
      "source": [
        "print('First: %s, Second: %5.2f, Third: %r' %('hi!',3.1415,'bye!'))"
      ],
      "execution_count": null,
      "outputs": [
        {
          "output_type": "stream",
          "text": [
            "First: hi!, Second:  3.14, Third: 'bye!'\n"
          ],
          "name": "stdout"
        }
      ]
    },
    {
      "cell_type": "markdown",
      "metadata": {
        "id": "kkiNVkqn4sAd"
      },
      "source": [
        "**Formatting with the .format() method**\n",
        "\n",
        "A better way to format objects into your strings for print statements is with the string .format() method."
      ]
    },
    {
      "cell_type": "code",
      "metadata": {
        "id": "xO4LvGo-4vaL",
        "colab": {
          "base_uri": "https://localhost:8080/"
        },
        "outputId": "4ca13276-ade0-4596-ad37-7000c3914b44"
      },
      "source": [
        "print('Python is  {}'.format('easy'))"
      ],
      "execution_count": null,
      "outputs": [
        {
          "output_type": "stream",
          "text": [
            "Python is  easy\n"
          ],
          "name": "stdout"
        }
      ]
    },
    {
      "cell_type": "markdown",
      "metadata": {
        "id": "OkJ4Y6bS4zd3"
      },
      "source": [
        "**The .format() method has several advantages over the %s placeholder method**"
      ]
    },
    {
      "cell_type": "code",
      "metadata": {
        "id": "Q7XQ8CTI428G",
        "colab": {
          "base_uri": "https://localhost:8080/"
        },
        "outputId": "6652970c-8565-4953-de60-55f07363e891"
      },
      "source": [
        "#1. Inserted objects can be called by index position:\n",
        "print(' {2} {1} {0}'.format('python','is',123))\n",
        "\n",
        "#2. Inserted objects can be assigned keywords:\n",
        "print('First Object: {a}, Second Object: {b}, Third Object: {c}'.format(a=1,b='Two',c=12.3))\n",
        "\n",
        "#3. Inserted objects can be reused, avoiding duplication:\n",
        "print('%s is easy and  %s easy to learn .' %('python','python'))\n",
        "\n",
        "print('{p} is  easy {p} easy to learn.'.format(p='python'))\n"
      ],
      "execution_count": null,
      "outputs": [
        {
          "output_type": "stream",
          "text": [
            " 123 is python\n",
            "First Object: 1, Second Object: Two, Third Object: 12.3\n",
            "python is easy and  python easy to learn .\n",
            "python is  easy python easy to learn.\n"
          ],
          "name": "stdout"
        }
      ]
    },
    {
      "cell_type": "markdown",
      "metadata": {
        "id": "lQlhDAoW5CRV"
      },
      "source": [
        "**Alignment, padding and precision with .format()**\n",
        "\n",
        "Within the curly braces we can assign field lengths, left/right alignments, rounding parameters and more.."
      ]
    },
    {
      "cell_type": "code",
      "metadata": {
        "id": "CEUiEXwQ5FeV",
        "colab": {
          "base_uri": "https://localhost:8080/"
        },
        "outputId": "d5a7cb96-bf5e-43a2-847c-200725cd6f68"
      },
      "source": [
        "print('{0:8} | {1:9}'.format('Fruit', 'Quantity'))\n",
        "print('{0:8} | {1:9}'.format('Apples', 3.))\n",
        "print('{0:8} | {1:9}'.format('Oranges', 10))\n",
        "\n"
      ],
      "execution_count": null,
      "outputs": [
        {
          "output_type": "stream",
          "text": [
            "Fruit    | Quantity \n",
            "Apples   |       3.0\n",
            "Oranges  |        10\n"
          ],
          "name": "stdout"
        }
      ]
    },
    {
      "cell_type": "markdown",
      "metadata": {
        "id": "xKS20sI2mhOO"
      },
      "source": [
        "By default, .format() aligns text to the left, numbers to the right. we can pass an optional <,^, or > to set a left, center or right alignment:"
      ]
    },
    {
      "cell_type": "code",
      "metadata": {
        "id": "7xgbpvoW5LsV",
        "colab": {
          "base_uri": "https://localhost:8080/"
        },
        "outputId": "9531828e-f029-4756-9505-cec639c8cd91"
      },
      "source": [
        "print('{0:<8} | {1:^8} | {2:>8}'.format('Left','Center','Right'))\n",
        "print('{0:<8} | {1:^8} | {2:>8}'.format(11,22,33))"
      ],
      "execution_count": null,
      "outputs": [
        {
          "output_type": "stream",
          "text": [
            "Left     |  Center  |    Right\n",
            "11       |    22    |       33\n"
          ],
          "name": "stdout"
        }
      ]
    },
    {
      "cell_type": "code",
      "metadata": {
        "id": "YHsolYR15NA-",
        "colab": {
          "base_uri": "https://localhost:8080/"
        },
        "outputId": "22387225-9c07-49f0-99d0-09c377f83ba1"
      },
      "source": [
        "print('{0:=<8} | {1:-^8} | {2:.>8}'.format('Left','Center','Right'))\n",
        "print('{0:=<8} | {1:-^8} | {2:.>8}'.format(11,22,33))"
      ],
      "execution_count": null,
      "outputs": [
        {
          "output_type": "stream",
          "text": [
            "Left==== | -Center- | ...Right\n",
            "11====== | ---22--- | ......33\n"
          ],
          "name": "stdout"
        }
      ]
    },
    {
      "cell_type": "markdown",
      "metadata": {
        "id": "5W0mgWAR5Om2"
      },
      "source": [
        "Field widths and float precision are handled in a way similar to placeholders. The following two print statements are equivalent"
      ]
    },
    {
      "cell_type": "code",
      "metadata": {
        "id": "SL0i0lTG5QNt",
        "colab": {
          "base_uri": "https://localhost:8080/"
        },
        "outputId": "f11f5638-1cc6-4379-880c-1713a519dffc"
      },
      "source": [
        "print('This is my ten-character, two-decimal number:%10.2f' %13.579)\n",
        "print('This is my ten-character, two-decimal number:{0:10.2f}'.format(13.579))"
      ],
      "execution_count": null,
      "outputs": [
        {
          "output_type": "stream",
          "text": [
            "This is my ten-character, two-decimal number:     13.58\n",
            "This is my ten-character, two-decimal number:     13.58\n"
          ],
          "name": "stdout"
        }
      ]
    },
    {
      "cell_type": "markdown",
      "metadata": {
        "id": "5gKjd43D5T48"
      },
      "source": [
        "**Formatted String Literals (f-strings)**"
      ]
    },
    {
      "cell_type": "code",
      "metadata": {
        "id": "Ja8T0rlW5WZX",
        "colab": {
          "base_uri": "https://localhost:8080/"
        },
        "outputId": "b3a4ee0e-836b-4af4-fed2-fcd2677aca91"
      },
      "source": [
        "name = 'python'\n",
        "\n",
        "print(f\"Now we learing {name}.\")"
      ],
      "execution_count": null,
      "outputs": [
        {
          "output_type": "stream",
          "text": [
            "Now we learing python.\n"
          ],
          "name": "stdout"
        }
      ]
    },
    {
      "cell_type": "markdown",
      "metadata": {
        "id": "Gcl_yhYY5X51"
      },
      "source": [
        "Pass !r to get the string representation:"
      ]
    },
    {
      "cell_type": "code",
      "metadata": {
        "id": "13_9LOSr5ZUN",
        "colab": {
          "base_uri": "https://localhost:8080/"
        },
        "outputId": "19274bd8-4bf8-48c3-ae55-6e5f036de508"
      },
      "source": [
        "print(f\"{name!r} is easy\")"
      ],
      "execution_count": null,
      "outputs": [
        {
          "output_type": "stream",
          "text": [
            "'python' is easy\n"
          ],
          "name": "stdout"
        }
      ]
    },
    {
      "cell_type": "code",
      "metadata": {
        "id": "6ZY3Dpk35gFg",
        "colab": {
          "base_uri": "https://localhost:8080/"
        },
        "outputId": "3b24d3a0-da91-4d2e-9a61-8f09aede6550"
      },
      "source": [
        "num = 23.45\n",
        "print(\"My 10 character, four decimal number is:{0:10.4f}\".format(num))\n",
        "print(f\"My 10 character, four decimal number is:{num:10.4f}\")"
      ],
      "execution_count": null,
      "outputs": [
        {
          "output_type": "stream",
          "text": [
            "My 10 character, four decimal number is:   23.4500\n",
            "My 10 character, four decimal number is:   23.4500\n"
          ],
          "name": "stdout"
        }
      ]
    },
    {
      "cell_type": "markdown",
      "metadata": {
        "id": "TTCOsS5X5mAf"
      },
      "source": [
        "#Lists\n"
      ]
    },
    {
      "cell_type": "markdown",
      "metadata": {
        "id": "vxhVjQIX5qv_"
      },
      "source": [
        "Lists can be thought of the most general version of a sequence in Python. \n",
        "Unlike strings, they are mutable.\n",
        "let we see how to\n",
        "\n",
        "1.   Creating lists\n",
        "2.   Indexing and Slicing Lists\n",
        "3.   Basic List Methods\n",
        "4.   Nesting Lists\n",
        "5.   Introduction to List Comprehensions\n",
        "\n",
        "\n",
        "Lists are constructed with brackets [] and commas separating every element in the list.\n",
        "\n"
      ]
    },
    {
      "cell_type": "code",
      "metadata": {
        "id": "c0EhdPfY5png"
      },
      "source": [
        "my_list = [1,2,3]\n"
      ],
      "execution_count": null,
      "outputs": []
    },
    {
      "cell_type": "markdown",
      "metadata": {
        "id": "f8PWNYRX6Opp"
      },
      "source": [
        "We just created a list of integers, but lists can actually hold different object types."
      ]
    },
    {
      "cell_type": "code",
      "metadata": {
        "id": "UFijFwie6KRi"
      },
      "source": [
        "\n",
        "my_list = ['A string',23,100.232,'o']"
      ],
      "execution_count": null,
      "outputs": []
    },
    {
      "cell_type": "markdown",
      "metadata": {
        "id": "mOOqeocf6P5t"
      },
      "source": [
        "The len() function will tell you how many items are in the sequence of the list."
      ]
    },
    {
      "cell_type": "code",
      "metadata": {
        "id": "Kj1dDX2O6KJd",
        "colab": {
          "base_uri": "https://localhost:8080/"
        },
        "outputId": "0b7a82ec-519b-4220-c550-1f2732df649e"
      },
      "source": [
        "len(my_list)"
      ],
      "execution_count": null,
      "outputs": [
        {
          "output_type": "execute_result",
          "data": {
            "text/plain": [
              "4"
            ]
          },
          "metadata": {
            "tags": []
          },
          "execution_count": 12
        }
      ]
    },
    {
      "cell_type": "code",
      "metadata": {
        "colab": {
          "base_uri": "https://localhost:8080/"
        },
        "id": "UHoldc5_oERy",
        "outputId": "7e52ff07-4c2c-45d0-c4d2-809981295f99"
      },
      "source": [
        "my_list"
      ],
      "execution_count": null,
      "outputs": [
        {
          "output_type": "execute_result",
          "data": {
            "text/plain": [
              "['A string', 23, 100.232, 'o']"
            ]
          },
          "metadata": {
            "tags": []
          },
          "execution_count": 13
        }
      ]
    },
    {
      "cell_type": "markdown",
      "metadata": {
        "id": "26WUzgNu6SzC"
      },
      "source": [
        "**Indexing and Slicing**"
      ]
    },
    {
      "cell_type": "markdown",
      "metadata": {
        "id": "qSHR2HGz6XZ8"
      },
      "source": [
        "Indexing and slicing work just like in strings."
      ]
    },
    {
      "cell_type": "code",
      "metadata": {
        "id": "J89enNJF6Z-a"
      },
      "source": [
        "my_list = ['one','two','three',4,5]"
      ],
      "execution_count": null,
      "outputs": []
    },
    {
      "cell_type": "code",
      "metadata": {
        "id": "-0h6qoJK6bbi",
        "colab": {
          "base_uri": "https://localhost:8080/",
          "height": 36
        },
        "outputId": "8385f1de-8e65-4d71-b01d-804ec76d5058"
      },
      "source": [
        "# Grab element at index 0\n",
        "my_list[0]"
      ],
      "execution_count": null,
      "outputs": [
        {
          "output_type": "execute_result",
          "data": {
            "application/vnd.google.colaboratory.intrinsic+json": {
              "type": "string"
            },
            "text/plain": [
              "'one'"
            ]
          },
          "metadata": {
            "tags": []
          },
          "execution_count": 15
        }
      ]
    },
    {
      "cell_type": "code",
      "metadata": {
        "id": "jhnVWID16cyC",
        "colab": {
          "base_uri": "https://localhost:8080/"
        },
        "outputId": "28f2701e-705f-41b2-be68-759179eaffc3"
      },
      "source": [
        "# Grab index 1 and everything past it\n",
        "my_list[1:]"
      ],
      "execution_count": null,
      "outputs": [
        {
          "output_type": "execute_result",
          "data": {
            "text/plain": [
              "['two', 'three', 4, 5]"
            ]
          },
          "metadata": {
            "tags": []
          },
          "execution_count": 16
        }
      ]
    },
    {
      "cell_type": "code",
      "metadata": {
        "id": "AZRVTeCR6d5a",
        "colab": {
          "base_uri": "https://localhost:8080/"
        },
        "outputId": "d0fb459e-9a80-4dcc-a392-dd0524ab55d0"
      },
      "source": [
        "# Grab everything UP TO index 3\n",
        "my_list[:3]"
      ],
      "execution_count": null,
      "outputs": [
        {
          "output_type": "execute_result",
          "data": {
            "text/plain": [
              "['one', 'two', 'three']"
            ]
          },
          "metadata": {
            "tags": []
          },
          "execution_count": 17
        }
      ]
    },
    {
      "cell_type": "code",
      "metadata": {
        "id": "9SsGVSAc6fQa",
        "colab": {
          "base_uri": "https://localhost:8080/"
        },
        "outputId": "481c08ab-3235-496f-b4ee-7284e4ef8094"
      },
      "source": [
        "my_list + ['new item']"
      ],
      "execution_count": null,
      "outputs": [
        {
          "output_type": "execute_result",
          "data": {
            "text/plain": [
              "['one', 'two', 'three', 4, 5, 'new item']"
            ]
          },
          "metadata": {
            "tags": []
          },
          "execution_count": 19
        }
      ]
    },
    {
      "cell_type": "markdown",
      "metadata": {
        "id": "kH9PHyz46ikk"
      },
      "source": [
        "Note: This doesn't actually change the original list!"
      ]
    },
    {
      "cell_type": "code",
      "metadata": {
        "id": "lTxIzWrR6hS6",
        "colab": {
          "base_uri": "https://localhost:8080/"
        },
        "outputId": "bb7a0454-8e50-4e3d-aa3f-e85ee221e935"
      },
      "source": [
        "my_list"
      ],
      "execution_count": null,
      "outputs": [
        {
          "output_type": "execute_result",
          "data": {
            "text/plain": [
              "['one', 'two', 'three', 4, 5]"
            ]
          },
          "metadata": {
            "tags": []
          },
          "execution_count": 20
        }
      ]
    },
    {
      "cell_type": "markdown",
      "metadata": {
        "id": "UF_94Qxc6m4J"
      },
      "source": [
        "we need to reassign the list to make the change permanent."
      ]
    },
    {
      "cell_type": "code",
      "metadata": {
        "id": "7ZtoMHl-6lUa"
      },
      "source": [
        "\n",
        "\n",
        "# Reassign\n",
        "my_list = my_list + ['add new item ']"
      ],
      "execution_count": null,
      "outputs": []
    },
    {
      "cell_type": "code",
      "metadata": {
        "id": "kvcnUfXX6o8Y",
        "colab": {
          "base_uri": "https://localhost:8080/"
        },
        "outputId": "a6767fb1-3a05-495f-a0e0-5493d06d7250"
      },
      "source": [
        "my_list"
      ],
      "execution_count": null,
      "outputs": [
        {
          "output_type": "execute_result",
          "data": {
            "text/plain": [
              "['one', 'two', 'three', 4, 5, 'add new item ', 'add new item ']"
            ]
          },
          "metadata": {
            "tags": []
          },
          "execution_count": 23
        }
      ]
    },
    {
      "cell_type": "markdown",
      "metadata": {
        "id": "RZrCJmfz6qlS"
      },
      "source": [
        "We can also use the * for a duplication method similar to strings:"
      ]
    },
    {
      "cell_type": "code",
      "metadata": {
        "id": "dHR9KBFG6sNJ",
        "colab": {
          "base_uri": "https://localhost:8080/"
        },
        "outputId": "1270463c-8cb7-42c1-d05a-08ea134661d8"
      },
      "source": [
        "# Make the list double\n",
        "my_list * 2"
      ],
      "execution_count": null,
      "outputs": [
        {
          "output_type": "execute_result",
          "data": {
            "text/plain": [
              "['one',\n",
              " 'two',\n",
              " 'three',\n",
              " 4,\n",
              " 5,\n",
              " 'add new item ',\n",
              " 'add new item ',\n",
              " 'one',\n",
              " 'two',\n",
              " 'three',\n",
              " 4,\n",
              " 5,\n",
              " 'add new item ',\n",
              " 'add new item ']"
            ]
          },
          "metadata": {
            "tags": []
          },
          "execution_count": 24
        }
      ]
    },
    {
      "cell_type": "code",
      "metadata": {
        "id": "IunhJdrf6t42",
        "colab": {
          "base_uri": "https://localhost:8080/"
        },
        "outputId": "2b9af20c-a24d-4506-f545-0f7ed4aa2559"
      },
      "source": [
        "# Again doubling not permanent\n",
        "my_list"
      ],
      "execution_count": null,
      "outputs": [
        {
          "output_type": "execute_result",
          "data": {
            "text/plain": [
              "['one', 'two', 'three', 4, 5, 'add new item ', 'add new item ']"
            ]
          },
          "metadata": {
            "tags": []
          },
          "execution_count": 25
        }
      ]
    },
    {
      "cell_type": "markdown",
      "metadata": {
        "id": "H5ux4fKJ6wap"
      },
      "source": [
        "**Basic List Methods**\n",
        "\n",
        " Lists in python having: \n",
        "  \n",
        "\n",
        "1. no fixed size\n",
        "2. they have no fixed type constraint \n",
        "\n",
        "\n",
        "\n"
      ]
    },
    {
      "cell_type": "code",
      "metadata": {
        "id": "HVzFyfS660e0"
      },
      "source": [
        "# Create a new list\n",
        "list1 = [1,2,3]"
      ],
      "execution_count": null,
      "outputs": []
    },
    {
      "cell_type": "markdown",
      "metadata": {
        "id": "rrDE8v9y623s"
      },
      "source": [
        "Use the append method to permanently add an item to the end of a list:"
      ]
    },
    {
      "cell_type": "code",
      "metadata": {
        "id": "Svm6oTja62BM"
      },
      "source": [
        "# Append\n",
        "list1.append('append me!')"
      ],
      "execution_count": null,
      "outputs": []
    },
    {
      "cell_type": "code",
      "metadata": {
        "colab": {
          "base_uri": "https://localhost:8080/"
        },
        "id": "ANj-T_jK4juP",
        "outputId": "c52b8371-4673-4679-c492-01c618b14b6c"
      },
      "source": [
        "list1"
      ],
      "execution_count": null,
      "outputs": [
        {
          "output_type": "execute_result",
          "data": {
            "text/plain": [
              "[1, 2, 3, 'append me!']"
            ]
          },
          "metadata": {
            "tags": []
          },
          "execution_count": 28
        }
      ]
    },
    {
      "cell_type": "code",
      "metadata": {
        "id": "h9yrDKEw-akw",
        "colab": {
          "base_uri": "https://localhost:8080/"
        },
        "outputId": "d3096b12-c90b-4ff9-d3e2-89a08b366239"
      },
      "source": [
        "lst_one = ['one', 'two', 'three']\n",
        "lst_two = ['four', 'five']\n",
        "\n",
        "# append(), +\n",
        "\n",
        "lst_one.append(lst_two)\n",
        "\n",
        "print(lst_one)"
      ],
      "execution_count": null,
      "outputs": [
        {
          "output_type": "stream",
          "text": [
            "['one', 'two', 'three', ['four', 'five']]\n"
          ],
          "name": "stdout"
        }
      ]
    },
    {
      "cell_type": "code",
      "metadata": {
        "id": "qL0W-_Y0-cKD",
        "colab": {
          "base_uri": "https://localhost:8080/"
        },
        "outputId": "2c40d641-fb49-489e-be3a-4e9868ef17f9"
      },
      "source": [
        "lst_one = ['one', 'two', 'three']\n",
        "lst_two = ['four', 'five']\n",
        "\n",
        "print(lst_one + lst_two)\n"
      ],
      "execution_count": null,
      "outputs": [
        {
          "output_type": "stream",
          "text": [
            "['one', 'two', 'three', 'four', 'five']\n"
          ],
          "name": "stdout"
        }
      ]
    },
    {
      "cell_type": "code",
      "metadata": {
        "colab": {
          "base_uri": "https://localhost:8080/"
        },
        "id": "E2ZPojSp5dED",
        "outputId": "4d501e41-9f9c-447b-ef81-08509bc9b164"
      },
      "source": [
        "lst_one = ['one', 'two', 'three']\n",
        "lst_two = ['four', 'five']\n",
        "\n",
        "print(lst_one.extend(lst_two))"
      ],
      "execution_count": null,
      "outputs": [
        {
          "output_type": "stream",
          "text": [
            "None\n"
          ],
          "name": "stdout"
        }
      ]
    },
    {
      "cell_type": "code",
      "metadata": {
        "id": "qXqZOjco-ktP",
        "colab": {
          "base_uri": "https://localhost:8080/"
        },
        "outputId": "4a3ff471-3336-4149-e7e8-5c074f7cf046"
      },
      "source": [
        "# Program to sort the words in alphabetical order\n",
        "\n",
        "myStr = 'i want to sort this string'\n",
        "\n",
        "words = myStr.split()\n",
        "\n",
        "print(words)\n",
        "\n",
        "words.sort()\n",
        "\n",
        "print(' '.join(words))"
      ],
      "execution_count": null,
      "outputs": [
        {
          "output_type": "stream",
          "text": [
            "['i', 'want', 'to', 'sort', 'this', 'string']\n",
            "i sort string this to want\n"
          ],
          "name": "stdout"
        }
      ]
    },
    {
      "cell_type": "code",
      "metadata": {
        "id": "BTOJ_8Hj-mdf",
        "colab": {
          "base_uri": "https://localhost:8080/"
        },
        "outputId": "edf88f8f-3d42-43df-afe7-16d192061533"
      },
      "source": [
        "# Count even and odd occurences in a List\n",
        "\n",
        "lst_num = [1, 2, 3, 4, 5]\n",
        "even = 0\n",
        "odd = 0\n",
        "\n",
        "for num in lst_num:\n",
        "    if num % 2 == 0:\n",
        "        even = even + 1\n",
        "    else:\n",
        "        odd = odd + 1\n",
        "\n",
        "print('Even Count: ',even)\n",
        "\n",
        "print('Odd Count: ', odd)"
      ],
      "execution_count": null,
      "outputs": [
        {
          "output_type": "stream",
          "text": [
            "Even Count:  2\n",
            "Odd Count:  3\n"
          ],
          "name": "stdout"
        }
      ]
    },
    {
      "cell_type": "markdown",
      "metadata": {
        "id": "JaMk08d77G2e"
      },
      "source": [
        "Use pop to \"pop off\" an item from the list. By default pop takes off the last index, but you can also specify which index to pop off. "
      ]
    },
    {
      "cell_type": "code",
      "metadata": {
        "id": "SfojZ0YA7J8-"
      },
      "source": [
        "# Pop off the 0 indexed item\n",
        "list1.pop(0)"
      ],
      "execution_count": null,
      "outputs": []
    },
    {
      "cell_type": "code",
      "metadata": {
        "id": "cvM9fTQt7MGl",
        "colab": {
          "base_uri": "https://localhost:8080/"
        },
        "outputId": "4b679918-a613-4783-9fe1-dfc37c6a2024"
      },
      "source": [
        "# Show\n",
        "list1"
      ],
      "execution_count": null,
      "outputs": [
        {
          "output_type": "execute_result",
          "data": {
            "text/plain": [
              "[1, 2, 3, 'append me!']"
            ]
          },
          "metadata": {
            "tags": []
          },
          "execution_count": 76
        }
      ]
    },
    {
      "cell_type": "code",
      "metadata": {
        "id": "4-MW6lgn7NQV"
      },
      "source": [
        "# Assign the popped element, remember default popped index is -1\n",
        "popped_item = list1.pop()"
      ],
      "execution_count": null,
      "outputs": []
    },
    {
      "cell_type": "code",
      "metadata": {
        "id": "rUPsxieh7Ox9",
        "colab": {
          "base_uri": "https://localhost:8080/",
          "height": 35
        },
        "outputId": "859de095-2961-474a-f9c8-d09e56043541"
      },
      "source": [
        "popped_item"
      ],
      "execution_count": null,
      "outputs": [
        {
          "output_type": "execute_result",
          "data": {
            "application/vnd.google.colaboratory.intrinsic+json": {
              "type": "string"
            },
            "text/plain": [
              "'append me!'"
            ]
          },
          "metadata": {
            "tags": []
          },
          "execution_count": 78
        }
      ]
    },
    {
      "cell_type": "code",
      "metadata": {
        "id": "tWzUDRkj7QOt",
        "colab": {
          "base_uri": "https://localhost:8080/"
        },
        "outputId": "b5fa3c16-13b9-4062-d3eb-bf7475f064b7"
      },
      "source": [
        "# Show remaining list\n",
        "list1 "
      ],
      "execution_count": null,
      "outputs": [
        {
          "output_type": "execute_result",
          "data": {
            "text/plain": [
              "[1, 2, 3]"
            ]
          },
          "metadata": {
            "tags": []
          },
          "execution_count": 79
        }
      ]
    },
    {
      "cell_type": "markdown",
      "metadata": {
        "id": "YGhrWcdv7R5x"
      },
      "source": [
        "we need to note that lists indexing will return an error if there is no element at that index. For example"
      ]
    },
    {
      "cell_type": "code",
      "metadata": {
        "id": "sjYY6fpR7TSR",
        "colab": {
          "base_uri": "https://localhost:8080/",
          "height": 162
        },
        "outputId": "55856b19-89a5-4e72-9247-7355b82089dc"
      },
      "source": [
        "list1[100]"
      ],
      "execution_count": null,
      "outputs": [
        {
          "output_type": "error",
          "ename": "IndexError",
          "evalue": "ignored",
          "traceback": [
            "\u001b[0;31m---------------------------------------------------------------------------\u001b[0m",
            "\u001b[0;31mIndexError\u001b[0m                                Traceback (most recent call last)",
            "\u001b[0;32m<ipython-input-80-af6d2015fa1f>\u001b[0m in \u001b[0;36m<module>\u001b[0;34m()\u001b[0m\n\u001b[0;32m----> 1\u001b[0;31m \u001b[0mlist1\u001b[0m\u001b[0;34m[\u001b[0m\u001b[0;36m100\u001b[0m\u001b[0;34m]\u001b[0m\u001b[0;34m\u001b[0m\u001b[0;34m\u001b[0m\u001b[0m\n\u001b[0m",
            "\u001b[0;31mIndexError\u001b[0m: list index out of range"
          ]
        }
      ]
    },
    {
      "cell_type": "code",
      "metadata": {
        "id": "_l2tm-SU7U0U",
        "colab": {
          "base_uri": "https://localhost:8080/"
        },
        "outputId": "ff05c278-b6ed-4c8d-9c41-867b3ce1bd49"
      },
      "source": [
        "new_list = ['a','e','i','o','u']\n",
        "\n",
        "#Show\n",
        "new_list\n",
        "\n",
        "# Use reverse to reverse order (this is permanent!)\n",
        "new_list.reverse()\n",
        "\n",
        "new_list"
      ],
      "execution_count": null,
      "outputs": [
        {
          "output_type": "execute_result",
          "data": {
            "text/plain": [
              "['u', 'o', 'i', 'e', 'a']"
            ]
          },
          "metadata": {
            "tags": []
          },
          "execution_count": 35
        }
      ]
    },
    {
      "cell_type": "code",
      "metadata": {
        "id": "dP6rfImJ7a8y",
        "colab": {
          "base_uri": "https://localhost:8080/"
        },
        "outputId": "595cd630-49c9-468a-e385-fcab71016430"
      },
      "source": [
        "# Use sort to sort the list (in this case alphabetical order, but for numbers it will go ascending)\n",
        "new_list.sort(reverse=True)\n",
        "\n",
        "new_list"
      ],
      "execution_count": null,
      "outputs": [
        {
          "output_type": "execute_result",
          "data": {
            "text/plain": [
              "['u', 'o', 'i', 'e', 'a']"
            ]
          },
          "metadata": {
            "tags": []
          },
          "execution_count": 36
        }
      ]
    },
    {
      "cell_type": "markdown",
      "metadata": {
        "id": "2yRUgwwK7eGh"
      },
      "source": [
        "**Nesting Lists**\n",
        "A list inside a list is known as nested list.( data structures within data structures)\n"
      ]
    },
    {
      "cell_type": "code",
      "metadata": {
        "id": "HaNIwFB67kQF",
        "colab": {
          "base_uri": "https://localhost:8080/"
        },
        "outputId": "8fee271c-ad5b-4841-b71c-15b01432fa66"
      },
      "source": [
        "# Let's make three lists\n",
        "lst_1=[1,2,3]\n",
        "lst_2=[4,5,6]\n",
        "lst_3=[7,8,9]\n",
        "\n",
        "# Make a list of lists to form a matrix\n",
        "matrix = [lst_1,lst_2,lst_3]\n",
        "\n",
        "# Show\n",
        "matrix"
      ],
      "execution_count": null,
      "outputs": [
        {
          "output_type": "execute_result",
          "data": {
            "text/plain": [
              "[[1, 2, 3], [4, 5, 6], [7, 8, 9]]"
            ]
          },
          "metadata": {
            "tags": []
          },
          "execution_count": 38
        }
      ]
    },
    {
      "cell_type": "markdown",
      "metadata": {
        "id": "wp8OUWHc7r2-"
      },
      "source": [
        " use indexing to grab elements, but now there are two levels for the index. The items in the matrix object, and then the items inside that list."
      ]
    },
    {
      "cell_type": "code",
      "metadata": {
        "id": "U-zzc8ni7nQ9",
        "colab": {
          "base_uri": "https://localhost:8080/"
        },
        "outputId": "deb4b48e-dd06-4a40-8b5e-bd02794f0101"
      },
      "source": [
        "# Grab first item in matrix object\n",
        "matrix[0]"
      ],
      "execution_count": null,
      "outputs": [
        {
          "output_type": "execute_result",
          "data": {
            "text/plain": [
              "[1, 2, 3]"
            ]
          },
          "metadata": {
            "tags": []
          },
          "execution_count": 39
        }
      ]
    },
    {
      "cell_type": "code",
      "metadata": {
        "id": "x4jIwzjL7o22",
        "colab": {
          "base_uri": "https://localhost:8080/"
        },
        "outputId": "e6703f7f-b927-4517-d897-255bfd0d4db2"
      },
      "source": [
        "# Grab first item of the first item in the matrix object\n",
        "matrix[0][0]"
      ],
      "execution_count": null,
      "outputs": [
        {
          "output_type": "execute_result",
          "data": {
            "text/plain": [
              "1"
            ]
          },
          "metadata": {
            "tags": []
          },
          "execution_count": 40
        }
      ]
    },
    {
      "cell_type": "markdown",
      "metadata": {
        "id": "f79ktSAn7tyq"
      },
      "source": [
        "**List Comprehensions**\n",
        "\n",
        " list comprehensions, allow for quick construction of lists. To fully understand list comprehensions we need to understand for loops."
      ]
    },
    {
      "cell_type": "code",
      "metadata": {
        "id": "3lCRqrq8qIq8"
      },
      "source": [
        "list=[1,2,3]"
      ],
      "execution_count": null,
      "outputs": []
    },
    {
      "cell_type": "code",
      "metadata": {
        "id": "O53AdWMh7veP"
      },
      "source": [
        "first_col=[x[0] for x in matrix]"
      ],
      "execution_count": null,
      "outputs": []
    },
    {
      "cell_type": "code",
      "metadata": {
        "id": "-cdOEEZ57wxL",
        "colab": {
          "base_uri": "https://localhost:8080/"
        },
        "outputId": "0014ed0f-6d3f-438a-b249-f6910f74d685"
      },
      "source": [
        "first_col"
      ],
      "execution_count": null,
      "outputs": [
        {
          "output_type": "execute_result",
          "data": {
            "text/plain": [
              "[1, 4, 7]"
            ]
          },
          "metadata": {
            "tags": []
          },
          "execution_count": 49
        }
      ]
    },
    {
      "cell_type": "markdown",
      "metadata": {
        "id": "_xgvgOsE-wGO"
      },
      "source": [
        "#Shallow Copy & Deep Copy"
      ]
    },
    {
      "cell_type": "code",
      "metadata": {
        "id": "1xJBemPb-zX2",
        "colab": {
          "base_uri": "https://localhost:8080/"
        },
        "outputId": "cd1687a7-c4a4-47ce-a196-d5b45bfff4f3"
      },
      "source": [
        "# copying\n",
        "\n",
        "lst_1 = [1, 2, 3, 4]\n",
        "\n",
        "lst_2 = lst_1.copy() # try l1.copy()\n",
        "\n",
        "# If we perform any change in lst_2, would that change be reflected in lst_1?\n",
        "\n",
        "lst_2[2] = 'Now'\n",
        "\n",
        "print(lst_1)\n",
        "\n",
        "print(lst_2)\n",
        "\n",
        "# '=' aliasing\n",
        "\n",
        "# copy() cloning"
      ],
      "execution_count": null,
      "outputs": [
        {
          "output_type": "stream",
          "text": [
            "[1, 2, 3, 4]\n",
            "[1, 2, 'Now', 4]\n"
          ],
          "name": "stdout"
        }
      ]
    },
    {
      "cell_type": "code",
      "metadata": {
        "id": "Yeudzm5U-1Jt",
        "colab": {
          "base_uri": "https://localhost:8080/"
        },
        "outputId": "dc5d80ea-a0f9-49e6-bd51-60cfa5b983fe"
      },
      "source": [
        "import copy as c\n",
        "\n",
        "lst_1 = [1, 2, [3, 4], 5]\n",
        "\n",
        "lst_2 = c.copy(lst_1)\n",
        "\n",
        "lst_1[2][0] = '8'\n",
        "\n",
        "\n",
        "\n",
        "print(lst_1)\n",
        "\n",
        "print(lst_2)"
      ],
      "execution_count": null,
      "outputs": [
        {
          "output_type": "stream",
          "text": [
            "[1, 2, ['8', 4], 5]\n",
            "[1, 2, ['8', 4], 5]\n"
          ],
          "name": "stdout"
        }
      ]
    },
    {
      "cell_type": "code",
      "metadata": {
        "id": "-SQtH0n5-2r2",
        "colab": {
          "base_uri": "https://localhost:8080/"
        },
        "outputId": "40ea513a-e2b4-4630-e778-09219e5d24b3"
      },
      "source": [
        "import copy as c\n",
        "\n",
        "lst_1 = [1, 2, [3, 4], 5]\n",
        "\n",
        "lst_2 = c.deepcopy(lst_1)\n",
        "\n",
        "lst_1[2][0] = 'Now'\n",
        "\n",
        "print(lst_1)\n",
        "\n",
        "print(lst_2)"
      ],
      "execution_count": null,
      "outputs": [
        {
          "output_type": "stream",
          "text": [
            "[1, 2, ['Now', 4], 5]\n",
            "[1, 2, [3, 4], 5]\n"
          ],
          "name": "stdout"
        }
      ]
    },
    {
      "cell_type": "code",
      "metadata": {
        "id": "mNPfR3TM-4Jl",
        "colab": {
          "base_uri": "https://localhost:8080/"
        },
        "outputId": "69eb72cc-2c6b-4c28-e8ca-926f0d665471"
      },
      "source": [
        "lst_1 = [1,2,[3,4],5]\n",
        "\n",
        "lst_2 = lst_1.copy()\n",
        "\n",
        "lst_1[2][0] = 'Now'\n",
        "\n",
        "print(lst_1)\n",
        "\n",
        "print(lst_2)"
      ],
      "execution_count": null,
      "outputs": [
        {
          "output_type": "stream",
          "text": [
            "[1, 2, ['Now', 4], 5]\n",
            "[1, 2, ['Now', 4], 5]\n"
          ],
          "name": "stdout"
        }
      ]
    },
    {
      "cell_type": "markdown",
      "metadata": {
        "id": "39FljQfj74-1"
      },
      "source": [
        "# Dictionaries"
      ]
    },
    {
      "cell_type": "markdown",
      "metadata": {
        "id": "shKa9Sr379lX"
      },
      "source": [
        "we going to learn about mappings in Python.\n",
        "let we see\n",
        "\n",
        "1.) Constructing a Dictionary<br>\n",
        "2.) Accessing objects from a dictionary<br>\n",
        "3.) Nesting Dictionaries<br>\n",
        "4.) Basic Dictionary Methods<br>\n",
        "\n",
        "So what are mappings? Mappings are a collection of objects that are stored by a key, unlike a sequence that stored objects by their relative position. This is an important distinction, since mappings won't retain order since they have objects defined by a key.\n",
        "\n",
        "A Python dictionary consists of a key and then an associated value. That value can be almost any Python object."
      ]
    },
    {
      "cell_type": "markdown",
      "metadata": {
        "id": "CBy3RosQsIo8"
      },
      "source": [
        "**what is mapping?**\n",
        "\n",
        " Mappings are a collection of objects that are stored by a key, unlike a sequence that stored objects by their relative position. This is an important distinction, since mappings won't retain order since they have objects defined by a key.\n"
      ]
    },
    {
      "cell_type": "markdown",
      "metadata": {
        "id": "2Yb7KO0q7_fh"
      },
      "source": [
        "Constructing a Dictionary\n"
      ]
    },
    {
      "cell_type": "code",
      "metadata": {
        "id": "XZfPf2Hp_7yN",
        "colab": {
          "base_uri": "https://localhost:8080/"
        },
        "outputId": "b2524a56-f0a1-4b2b-d7fa-d8e51cf3fab8"
      },
      "source": [
        "# initialization\n",
        "\n",
        "dict = {}\n",
        "\n",
        "print(type(dict))"
      ],
      "execution_count": null,
      "outputs": [
        {
          "output_type": "stream",
          "text": [
            "<class 'dict'>\n"
          ],
          "name": "stdout"
        }
      ]
    },
    {
      "cell_type": "code",
      "metadata": {
        "id": "8j1EU-5e_9U1",
        "colab": {
          "base_uri": "https://localhost:8080/"
        },
        "outputId": "8fa6dd1b-39d7-4f66-dc47-7e6d0a0dc28a"
      },
      "source": [
        "dict = {1:'abc', 2:'efg', 'name':'xyz'}\n",
        "\n",
        "print(dict)"
      ],
      "execution_count": null,
      "outputs": [
        {
          "output_type": "stream",
          "text": [
            "{1: 'abc', 2: 'efg', 'name': 'xyz'}\n"
          ],
          "name": "stdout"
        }
      ]
    },
    {
      "cell_type": "code",
      "metadata": {
        "id": "_QdusrWi8Brp"
      },
      "source": [
        "# Make a dictionary with {} and : to signify a key and a value\n",
        "my_dict = {'key1':'value1','key2':'value2'}"
      ],
      "execution_count": null,
      "outputs": []
    },
    {
      "cell_type": "code",
      "metadata": {
        "id": "_zQsEiy-8B9z",
        "colab": {
          "base_uri": "https://localhost:8080/",
          "height": 36
        },
        "outputId": "be9ad647-c675-40dc-aa3d-2311c8911865"
      },
      "source": [
        "# Call values by their key\n",
        "my_dict['key2']"
      ],
      "execution_count": null,
      "outputs": [
        {
          "output_type": "execute_result",
          "data": {
            "application/vnd.google.colaboratory.intrinsic+json": {
              "type": "string"
            },
            "text/plain": [
              "'value2'"
            ]
          },
          "metadata": {
            "tags": []
          },
          "execution_count": 55
        }
      ]
    },
    {
      "cell_type": "markdown",
      "metadata": {
        "id": "TlGkbuoT8E88"
      },
      "source": [
        "Ddictionaries are very flexible in the data types they can hold. "
      ]
    },
    {
      "cell_type": "code",
      "metadata": {
        "id": "WRYkGACe8GCy"
      },
      "source": [
        "my_dict = {'key1':123,'key2':[12,23,33],'key3':['item0','item1','item2']}"
      ],
      "execution_count": null,
      "outputs": []
    },
    {
      "cell_type": "code",
      "metadata": {
        "id": "fTGs5CCQ8HKp",
        "colab": {
          "base_uri": "https://localhost:8080/"
        },
        "outputId": "99ed7b33-e68e-446f-b92b-a5c4585e1dee"
      },
      "source": [
        "# L items from the dictionary\n",
        "my_dict['key3']"
      ],
      "execution_count": null,
      "outputs": [
        {
          "output_type": "execute_result",
          "data": {
            "text/plain": [
              "['item0', 'item1', 'item2']"
            ]
          },
          "metadata": {
            "tags": []
          },
          "execution_count": 58
        }
      ]
    },
    {
      "cell_type": "code",
      "metadata": {
        "id": "5fwj6BuD8IkN",
        "colab": {
          "base_uri": "https://localhost:8080/",
          "height": 35
        },
        "outputId": "1ffbc51f-7f0c-4e01-af4e-7e21c26953c6"
      },
      "source": [
        "#  index on that value\n",
        "my_dict['key3'][0]"
      ],
      "execution_count": null,
      "outputs": [
        {
          "output_type": "execute_result",
          "data": {
            "application/vnd.google.colaboratory.intrinsic+json": {
              "type": "string"
            },
            "text/plain": [
              "'item0'"
            ]
          },
          "metadata": {
            "tags": []
          },
          "execution_count": 134
        }
      ]
    },
    {
      "cell_type": "code",
      "metadata": {
        "id": "FZR7cKZX8J7c",
        "colab": {
          "base_uri": "https://localhost:8080/",
          "height": 36
        },
        "outputId": "eb11231f-6380-4aab-fbf4-f941d3534a23"
      },
      "source": [
        "# call methods on that value\n",
        "my_dict['key3'][0].upper()"
      ],
      "execution_count": null,
      "outputs": [
        {
          "output_type": "execute_result",
          "data": {
            "application/vnd.google.colaboratory.intrinsic+json": {
              "type": "string"
            },
            "text/plain": [
              "'ITEM0'"
            ]
          },
          "metadata": {
            "tags": []
          },
          "execution_count": 59
        }
      ]
    },
    {
      "cell_type": "markdown",
      "metadata": {
        "id": "S6pohjBG8Mnp"
      },
      "source": [
        "We can affect the values of a key as well. "
      ]
    },
    {
      "cell_type": "code",
      "metadata": {
        "id": "zxi8OvFf8LQS",
        "colab": {
          "base_uri": "https://localhost:8080/"
        },
        "outputId": "69ac3883-6e4a-42d4-d96f-79dba53d8525"
      },
      "source": [
        "my_dict['key1']"
      ],
      "execution_count": null,
      "outputs": [
        {
          "output_type": "execute_result",
          "data": {
            "text/plain": [
              "123"
            ]
          },
          "metadata": {
            "tags": []
          },
          "execution_count": 60
        }
      ]
    },
    {
      "cell_type": "code",
      "metadata": {
        "id": "3AZL3qRZ8Ot-"
      },
      "source": [
        "# Subtract 123 from the value\n",
        "my_dict['key1'] = my_dict['key1'] - 123"
      ],
      "execution_count": null,
      "outputs": []
    },
    {
      "cell_type": "code",
      "metadata": {
        "id": "Q1lRvBYy8P3B",
        "colab": {
          "base_uri": "https://localhost:8080/"
        },
        "outputId": "9d3a20cc-d976-4774-9528-da3d345f1b00"
      },
      "source": [
        "#Check\n",
        "my_dict['key1']"
      ],
      "execution_count": null,
      "outputs": [
        {
          "output_type": "execute_result",
          "data": {
            "text/plain": [
              "0"
            ]
          },
          "metadata": {
            "tags": []
          },
          "execution_count": 62
        }
      ]
    },
    {
      "cell_type": "code",
      "metadata": {
        "id": "PY7YKogP8SvZ",
        "colab": {
          "base_uri": "https://localhost:8080/"
        },
        "outputId": "63040a16-95b8-4329-ddaf-d07c6153936e"
      },
      "source": [
        "# Set the object equal to itself minus 123 \n",
        "my_dict['key1'] -= 123\n",
        "my_dict['key1']"
      ],
      "execution_count": null,
      "outputs": [
        {
          "output_type": "execute_result",
          "data": {
            "text/plain": [
              "-123"
            ]
          },
          "metadata": {
            "tags": []
          },
          "execution_count": 63
        }
      ]
    },
    {
      "cell_type": "markdown",
      "metadata": {
        "id": "P7nSYIse8UVJ"
      },
      "source": [
        "We can also create keys by assignment. For instance if we started off with an empty dictionary, we could continually add to it:"
      ]
    },
    {
      "cell_type": "code",
      "metadata": {
        "id": "zQgytdbh8VwZ"
      },
      "source": [
        "# Create a new dictionary\n",
        "d = {}"
      ],
      "execution_count": null,
      "outputs": []
    },
    {
      "cell_type": "code",
      "metadata": {
        "id": "s8UJGJtB8W-B"
      },
      "source": [
        "# Create a new key through assignment\n",
        "d['animal'] = 'Dog'"
      ],
      "execution_count": null,
      "outputs": []
    },
    {
      "cell_type": "code",
      "metadata": {
        "id": "eIw-fBH28YBC"
      },
      "source": [
        "# Can do this with any object\n",
        "d['answer'] = 42"
      ],
      "execution_count": null,
      "outputs": []
    },
    {
      "cell_type": "code",
      "metadata": {
        "id": "rb6zQGKP8ZH5",
        "colab": {
          "base_uri": "https://localhost:8080/"
        },
        "outputId": "1120f3df-39c6-4f21-daba-a458e6d43e9a"
      },
      "source": [
        "#Show\n",
        "d"
      ],
      "execution_count": null,
      "outputs": [
        {
          "output_type": "execute_result",
          "data": {
            "text/plain": [
              "{'animal': 'Dog', 'answer': 42}"
            ]
          },
          "metadata": {
            "tags": []
          },
          "execution_count": 67
        }
      ]
    },
    {
      "cell_type": "code",
      "metadata": {
        "colab": {
          "base_uri": "https://localhost:8080/"
        },
        "id": "L9yy_1hA_-6Z",
        "outputId": "cbe02c99-9a94-45ff-d1d5-7483fd3bbcd0"
      },
      "source": [
        "dict = {1:'abc', 2:'efg', 'name':'xyz'}\n",
        "\n",
        "print(dict)"
      ],
      "execution_count": null,
      "outputs": [
        {
          "output_type": "stream",
          "text": [
            "{1: 'abc', 2: 'efg', 'name': 'xyz'}\n"
          ],
          "name": "stdout"
        }
      ]
    },
    {
      "cell_type": "code",
      "metadata": {
        "id": "vtnIu04rAIHu",
        "colab": {
          "base_uri": "https://localhost:8080/",
          "height": 257
        },
        "outputId": "0b20cb4a-ee33-4b41-b2e3-73788f9ff16d"
      },
      "source": [
        "# # updating dictionary\n",
        "\n",
        "print(dict)\n",
        "\n",
        "dict['name'] = 'lmn'\n",
        "\n",
        "dict['age'] = 20\n",
        "\n",
        "print(dict)"
      ],
      "execution_count": null,
      "outputs": [
        {
          "output_type": "stream",
          "text": [
            "<class 'dict'>\n"
          ],
          "name": "stdout"
        },
        {
          "output_type": "error",
          "ename": "TypeError",
          "evalue": "ignored",
          "traceback": [
            "\u001b[0;31m---------------------------------------------------------------------------\u001b[0m",
            "\u001b[0;31mTypeError\u001b[0m                                 Traceback (most recent call last)",
            "\u001b[0;32m<ipython-input-75-21ab3907c853>\u001b[0m in \u001b[0;36m<module>\u001b[0;34m()\u001b[0m\n\u001b[1;32m      3\u001b[0m \u001b[0mprint\u001b[0m\u001b[0;34m(\u001b[0m\u001b[0mdict\u001b[0m\u001b[0;34m)\u001b[0m\u001b[0;34m\u001b[0m\u001b[0;34m\u001b[0m\u001b[0m\n\u001b[1;32m      4\u001b[0m \u001b[0;34m\u001b[0m\u001b[0m\n\u001b[0;32m----> 5\u001b[0;31m \u001b[0mdict\u001b[0m\u001b[0;34m[\u001b[0m\u001b[0;34m'name'\u001b[0m\u001b[0;34m]\u001b[0m \u001b[0;34m=\u001b[0m \u001b[0;34m'lmn'\u001b[0m\u001b[0;34m\u001b[0m\u001b[0;34m\u001b[0m\u001b[0m\n\u001b[0m\u001b[1;32m      6\u001b[0m \u001b[0;34m\u001b[0m\u001b[0m\n\u001b[1;32m      7\u001b[0m \u001b[0mdict\u001b[0m\u001b[0;34m[\u001b[0m\u001b[0;34m'age'\u001b[0m\u001b[0;34m]\u001b[0m \u001b[0;34m=\u001b[0m \u001b[0;36m20\u001b[0m\u001b[0;34m\u001b[0m\u001b[0;34m\u001b[0m\u001b[0m\n",
            "\u001b[0;31mTypeError\u001b[0m: 'type' object does not support item assignment"
          ]
        }
      ]
    },
    {
      "cell_type": "code",
      "metadata": {
        "id": "yls_m7QaAJyD",
        "colab": {
          "base_uri": "https://localhost:8080/"
        },
        "outputId": "82d9ae25-010c-485a-c68f-2eebc923abb6"
      },
      "source": [
        "# Deleting elements\n",
        "\n",
        "del dict['name']\n",
        "print(dict)\n",
        "\n",
        "dict.clear()\n",
        "print(dict)\n",
        "\n"
      ],
      "execution_count": null,
      "outputs": [
        {
          "output_type": "stream",
          "text": [
            "{1: 'abc', 2: 'efg'}\n",
            "{}\n"
          ],
          "name": "stdout"
        }
      ]
    },
    {
      "cell_type": "code",
      "metadata": {
        "id": "7SEXNrk7ALZV",
        "colab": {
          "base_uri": "https://localhost:8080/"
        },
        "outputId": "83265bca-5491-4dc7-b640-4c7245acb0fc"
      },
      "source": [
        "# No duplicate keys\n",
        "\n",
        "dict = {1:'abc', 2:'efg', 'name':'xyz', 1:'ABC'}\n",
        "\n",
        "print(dict)"
      ],
      "execution_count": null,
      "outputs": [
        {
          "output_type": "stream",
          "text": [
            "{1: 'ABC', 2: 'efg', 'name': 'xyz'}\n"
          ],
          "name": "stdout"
        }
      ]
    },
    {
      "cell_type": "markdown",
      "metadata": {
        "id": "4iDg7Dx_8nc3"
      },
      "source": [
        "**Nesting with Dictionaries**"
      ]
    },
    {
      "cell_type": "code",
      "metadata": {
        "id": "SUf1H_bm8len"
      },
      "source": [
        "\n",
        "\n",
        "\n",
        "# Dictionary nested inside a dictionary nested inside a dictionary\n",
        "d = {'key1':{'nestkey':{'subnestkey':'value'}}}\n",
        "\n"
      ],
      "execution_count": null,
      "outputs": []
    },
    {
      "cell_type": "code",
      "metadata": {
        "colab": {
          "base_uri": "https://localhost:8080/"
        },
        "id": "Phz999a4vs1v",
        "outputId": "adcf307a-4ee0-400a-ae7d-d30b4f546a40"
      },
      "source": [
        "\n",
        "#  calling the keys\n",
        "d['key1']['nestkey']"
      ],
      "execution_count": null,
      "outputs": [
        {
          "output_type": "execute_result",
          "data": {
            "text/plain": [
              "{'subnestkey': 'value'}"
            ]
          },
          "metadata": {
            "tags": []
          },
          "execution_count": 83
        }
      ]
    },
    {
      "cell_type": "code",
      "metadata": {
        "id": "f4X9IuYD8toG",
        "colab": {
          "base_uri": "https://localhost:8080/",
          "height": 36
        },
        "outputId": "095f54e9-1c86-486b-ead4-6c19a7a90ddc"
      },
      "source": [
        "\n",
        "#  calling the keys\n",
        "d['key1']['nestkey']['subnestkey']"
      ],
      "execution_count": null,
      "outputs": [
        {
          "output_type": "execute_result",
          "data": {
            "application/vnd.google.colaboratory.intrinsic+json": {
              "type": "string"
            },
            "text/plain": [
              "'value'"
            ]
          },
          "metadata": {
            "tags": []
          },
          "execution_count": 84
        }
      ]
    },
    {
      "cell_type": "markdown",
      "metadata": {
        "id": "paef_1xZ82pO"
      },
      "source": [
        "**A few Dictionary Methods**\n",
        "\n",
        "There are a few methods we can call on a dictionary. \n"
      ]
    },
    {
      "cell_type": "code",
      "metadata": {
        "id": "TaxJds9C863t"
      },
      "source": [
        "# Create a typical dictionary\n",
        "d = {'key1':1,'key2':2,'key3':3}\n",
        "\n",
        "\n"
      ],
      "execution_count": null,
      "outputs": []
    },
    {
      "cell_type": "code",
      "metadata": {
        "id": "CcNOrqS788LU",
        "colab": {
          "base_uri": "https://localhost:8080/"
        },
        "outputId": "df8a348c-16d2-4a7f-816f-20b038de77c8"
      },
      "source": [
        "\n",
        "# Method to return a list of all keys \n",
        "d.keys()\n"
      ],
      "execution_count": null,
      "outputs": [
        {
          "output_type": "execute_result",
          "data": {
            "text/plain": [
              "dict_keys(['key1', 'key2', 'key3'])"
            ]
          },
          "metadata": {
            "tags": []
          },
          "execution_count": 86
        }
      ]
    },
    {
      "cell_type": "code",
      "metadata": {
        "id": "oWAkadJh884h",
        "colab": {
          "base_uri": "https://localhost:8080/"
        },
        "outputId": "0b1cc1be-f1f3-46ec-d5b8-1eb93285d2d5"
      },
      "source": [
        "\n",
        "# Method to grab all values\n",
        "d.values()"
      ],
      "execution_count": null,
      "outputs": [
        {
          "output_type": "execute_result",
          "data": {
            "text/plain": [
              "dict_values([1, 2, 3])"
            ]
          },
          "metadata": {
            "tags": []
          },
          "execution_count": 87
        }
      ]
    },
    {
      "cell_type": "code",
      "metadata": {
        "id": "-ERBD2qP881_",
        "colab": {
          "base_uri": "https://localhost:8080/"
        },
        "outputId": "45f0517e-ae50-449b-92b8-94103d6ed033"
      },
      "source": [
        "# Method to return tuples of all items  (we'll learn about tuples soon)\n",
        "d.items()"
      ],
      "execution_count": null,
      "outputs": [
        {
          "output_type": "execute_result",
          "data": {
            "text/plain": [
              "dict_items([('key1', 1), ('key2', 2), ('key3', 3)])"
            ]
          },
          "metadata": {
            "tags": []
          },
          "execution_count": 88
        }
      ]
    },
    {
      "cell_type": "markdown",
      "metadata": {
        "id": "yLJE7_fA9F10"
      },
      "source": [
        "#Tuples"
      ]
    },
    {
      "cell_type": "markdown",
      "metadata": {
        "id": "XK4P3Lqb9LV9"
      },
      "source": [
        "In Python tuples are very similar to lists, however, unlike lists they are *immutable* meaning they can not be changed. You would use tuples to present things that shouldn't be changed, such as days of the week, or dates on a calendar. \n",
        "\n",
        "let see about\n",
        "\n",
        "    1.) Constructing Tuples\n",
        "    2.) Basic Tuple Methods\n",
        "    3.) Immutability\n",
        "    4.) When to Use Tuples\n",
        "\n"
      ]
    },
    {
      "cell_type": "markdown",
      "metadata": {
        "id": "8hJ27QTe9Nqs"
      },
      "source": [
        "**Constructing Tuples**\n",
        "\n",
        "The construction of a tuples use () with elements separated by commas. "
      ]
    },
    {
      "cell_type": "code",
      "metadata": {
        "id": "yEvvyaQD-7mN",
        "colab": {
          "base_uri": "https://localhost:8080/"
        },
        "outputId": "444cee97-9b74-4cce-e14d-adaddb0dc416"
      },
      "source": [
        "#initialization\n",
        "\n",
        "t = ()\n",
        "\n",
        "print(type(t))"
      ],
      "execution_count": null,
      "outputs": [
        {
          "output_type": "stream",
          "text": [
            "<class 'tuple'>\n"
          ],
          "name": "stdout"
        }
      ]
    },
    {
      "cell_type": "code",
      "metadata": {
        "id": "qgMOeuh--_Ty",
        "colab": {
          "base_uri": "https://localhost:8080/"
        },
        "outputId": "2e79303f-7544-4abe-9a16-4ceac1dbacd5"
      },
      "source": [
        "t = tuple()\n",
        "\n",
        "print(type(t))"
      ],
      "execution_count": null,
      "outputs": [
        {
          "output_type": "stream",
          "text": [
            "<class 'tuple'>\n"
          ],
          "name": "stdout"
        }
      ]
    },
    {
      "cell_type": "code",
      "metadata": {
        "id": "UcwzjyPq9P-i"
      },
      "source": [
        "# Create a tuple\n",
        "t = (1,2,3)"
      ],
      "execution_count": null,
      "outputs": []
    },
    {
      "cell_type": "code",
      "metadata": {
        "id": "JuLqLgOT9Qya",
        "colab": {
          "base_uri": "https://localhost:8080/"
        },
        "outputId": "49012b1c-f347-4938-fe3b-7ecb629575dc"
      },
      "source": [
        "#  len \n",
        "len(t)"
      ],
      "execution_count": null,
      "outputs": [
        {
          "output_type": "execute_result",
          "data": {
            "text/plain": [
              "3"
            ]
          },
          "metadata": {
            "tags": []
          },
          "execution_count": 166
        }
      ]
    },
    {
      "cell_type": "code",
      "metadata": {
        "id": "Mt7JZn5a9Qth",
        "colab": {
          "base_uri": "https://localhost:8080/"
        },
        "outputId": "da6da64e-ea00-4f70-abb1-d3fc8dea800f"
      },
      "source": [
        "#  mix object types\n",
        "t = ('one',2)\n",
        "\n",
        "# Show\n",
        "t"
      ],
      "execution_count": null,
      "outputs": [
        {
          "output_type": "execute_result",
          "data": {
            "text/plain": [
              "('one', 2)"
            ]
          },
          "metadata": {
            "tags": []
          },
          "execution_count": 167
        }
      ]
    },
    {
      "cell_type": "code",
      "metadata": {
        "id": "6B2u6O8j9QrL",
        "colab": {
          "base_uri": "https://localhost:8080/",
          "height": 35
        },
        "outputId": "3456f994-4220-4215-8681-394d29dab916"
      },
      "source": [
        "# Use indexing s\n",
        "t[0]"
      ],
      "execution_count": null,
      "outputs": [
        {
          "output_type": "execute_result",
          "data": {
            "application/vnd.google.colaboratory.intrinsic+json": {
              "type": "string"
            },
            "text/plain": [
              "'one'"
            ]
          },
          "metadata": {
            "tags": []
          },
          "execution_count": 168
        }
      ]
    },
    {
      "cell_type": "code",
      "metadata": {
        "id": "MbbLCqv79Qlp",
        "colab": {
          "base_uri": "https://localhost:8080/"
        },
        "outputId": "9b99653b-4680-4474-be78-7c2b838aab03"
      },
      "source": [
        "# Slicing \n",
        "t[-1]"
      ],
      "execution_count": null,
      "outputs": [
        {
          "output_type": "execute_result",
          "data": {
            "text/plain": [
              "2"
            ]
          },
          "metadata": {
            "tags": []
          },
          "execution_count": 169
        }
      ]
    },
    {
      "cell_type": "markdown",
      "metadata": {
        "id": "C0Y_eWX59YUN"
      },
      "source": [
        "**Basic Tuple Methods**\n",
        "\n",
        "Tuples have built-in methods, but not as many as lists do. "
      ]
    },
    {
      "cell_type": "code",
      "metadata": {
        "id": "9cVVcjMp9QjA",
        "colab": {
          "base_uri": "https://localhost:8080/"
        },
        "outputId": "215f328d-4d48-4257-b48d-2c3ea2de45f5"
      },
      "source": [
        "# .index to enter a value and return the index\n",
        "t.index('one')"
      ],
      "execution_count": null,
      "outputs": [
        {
          "output_type": "execute_result",
          "data": {
            "text/plain": [
              "0"
            ]
          },
          "metadata": {
            "tags": []
          },
          "execution_count": 170
        }
      ]
    },
    {
      "cell_type": "code",
      "metadata": {
        "id": "48RIafWK9aKJ",
        "colab": {
          "base_uri": "https://localhost:8080/"
        },
        "outputId": "d79bf0e7-547a-4fae-cb9a-795f8c225d83"
      },
      "source": [
        "# .count to count the number of times a value appears\n",
        "t.count('one')"
      ],
      "execution_count": null,
      "outputs": [
        {
          "output_type": "execute_result",
          "data": {
            "text/plain": [
              "1"
            ]
          },
          "metadata": {
            "tags": []
          },
          "execution_count": 171
        }
      ]
    },
    {
      "cell_type": "markdown",
      "metadata": {
        "id": "79GCguJv9d0N"
      },
      "source": [
        "**Immutability**\n"
      ]
    },
    {
      "cell_type": "code",
      "metadata": {
        "id": "NS6urYqw9aw6",
        "colab": {
          "base_uri": "https://localhost:8080/",
          "height": 162
        },
        "outputId": "d0527c26-af61-43bf-954b-5e516f39d91f"
      },
      "source": [
        "t[0]= 'change'"
      ],
      "execution_count": null,
      "outputs": [
        {
          "output_type": "error",
          "ename": "TypeError",
          "evalue": "ignored",
          "traceback": [
            "\u001b[0;31m---------------------------------------------------------------------------\u001b[0m",
            "\u001b[0;31mTypeError\u001b[0m                                 Traceback (most recent call last)",
            "\u001b[0;32m<ipython-input-172-1257c0aa9edd>\u001b[0m in \u001b[0;36m<module>\u001b[0;34m()\u001b[0m\n\u001b[0;32m----> 1\u001b[0;31m \u001b[0mt\u001b[0m\u001b[0;34m[\u001b[0m\u001b[0;36m0\u001b[0m\u001b[0;34m]\u001b[0m\u001b[0;34m=\u001b[0m \u001b[0;34m'change'\u001b[0m\u001b[0;34m\u001b[0m\u001b[0;34m\u001b[0m\u001b[0m\n\u001b[0m",
            "\u001b[0;31mTypeError\u001b[0m: 'tuple' object does not support item assignment"
          ]
        }
      ]
    },
    {
      "cell_type": "code",
      "metadata": {
        "id": "ijtOD-5i9auA",
        "colab": {
          "base_uri": "https://localhost:8080/",
          "height": 162
        },
        "outputId": "9eb3442a-e652-4515-bb22-e699acac61f9"
      },
      "source": [
        "t.append('nope')"
      ],
      "execution_count": null,
      "outputs": [
        {
          "output_type": "error",
          "ename": "AttributeError",
          "evalue": "ignored",
          "traceback": [
            "\u001b[0;31m---------------------------------------------------------------------------\u001b[0m",
            "\u001b[0;31mAttributeError\u001b[0m                            Traceback (most recent call last)",
            "\u001b[0;32m<ipython-input-173-b75f5b09ac19>\u001b[0m in \u001b[0;36m<module>\u001b[0;34m()\u001b[0m\n\u001b[0;32m----> 1\u001b[0;31m \u001b[0mt\u001b[0m\u001b[0;34m.\u001b[0m\u001b[0mappend\u001b[0m\u001b[0;34m(\u001b[0m\u001b[0;34m'nope'\u001b[0m\u001b[0;34m)\u001b[0m\u001b[0;34m\u001b[0m\u001b[0;34m\u001b[0m\u001b[0m\n\u001b[0m",
            "\u001b[0;31mAttributeError\u001b[0m: 'tuple' object has no attribute 'append'"
          ]
        }
      ]
    },
    {
      "cell_type": "code",
      "metadata": {
        "id": "SmbmAlbV_Krq",
        "colab": {
          "base_uri": "https://localhost:8080/"
        },
        "outputId": "93e78c49-eb0c-47b7-9b94-ff3db49bee0f"
      },
      "source": [
        "t = (1, 2, 3, 4, 5, 6, 7, 1, 2, 1)\n",
        "\n",
        "# count(element)\n",
        "print(t.count(1))\n",
        "\n",
        "\n"
      ],
      "execution_count": null,
      "outputs": [
        {
          "output_type": "stream",
          "text": [
            "3\n"
          ],
          "name": "stdout"
        }
      ]
    },
    {
      "cell_type": "code",
      "metadata": {
        "id": "iMPv5Bwawt-B"
      },
      "source": [
        "\n",
        "# index(element)\n",
        "print(t.index(7))"
      ],
      "execution_count": null,
      "outputs": []
    },
    {
      "cell_type": "code",
      "metadata": {
        "id": "M_gdp3E-wvjv"
      },
      "source": [
        "# len()\n",
        "print(len(t))\n",
        "\n"
      ],
      "execution_count": null,
      "outputs": []
    },
    {
      "cell_type": "code",
      "metadata": {
        "id": "5xQKdme2wwxC"
      },
      "source": [
        "# min()\n",
        "print(min(t))\n"
      ],
      "execution_count": null,
      "outputs": []
    },
    {
      "cell_type": "code",
      "metadata": {
        "id": "uVRIGFNhwySL"
      },
      "source": [
        "\n",
        "# max()\n",
        "print(max(t))\n"
      ],
      "execution_count": null,
      "outputs": []
    },
    {
      "cell_type": "code",
      "metadata": {
        "id": "Fhw-nNoSwzQK"
      },
      "source": [
        "\n",
        "# sum()\n",
        "print(sum(t))\n",
        "\n"
      ],
      "execution_count": null,
      "outputs": []
    },
    {
      "cell_type": "code",
      "metadata": {
        "id": "_ekzHg23w0UZ"
      },
      "source": [
        "# del the tuple\n",
        "del t"
      ],
      "execution_count": null,
      "outputs": []
    },
    {
      "cell_type": "markdown",
      "metadata": {
        "id": "aYB92-ni9iiY"
      },
      "source": [
        "When to use Tuples\n",
        "\n",
        " Tuples are not used as often as lists in programming, but are used when immutability is necessary. If in your program you are passing around an object and need to make sure it does not get changed, then a tuple becomes your solution. It provides a convenient source of data integrity.\n",
        "\n",
        "\n"
      ]
    },
    {
      "cell_type": "markdown",
      "metadata": {
        "id": "PEyQz5zs9o-X"
      },
      "source": [
        "#Set "
      ]
    },
    {
      "cell_type": "markdown",
      "metadata": {
        "id": "jtIrDJB_9n4m"
      },
      "source": [
        "\n",
        "\n",
        "**Sets**\n",
        "\n",
        "Sets are an unordered collection of unique elements. We can construct them by using the set() function."
      ]
    },
    {
      "cell_type": "code",
      "metadata": {
        "id": "6rh_s8lp_XFc",
        "colab": {
          "base_uri": "https://localhost:8080/"
        },
        "outputId": "b743d1b6-5853-4335-f03c-9c99b3b1f9a5"
      },
      "source": [
        "# initialization\n",
        "\n",
        "s = set()\n",
        "\n",
        "print(type(s))"
      ],
      "execution_count": null,
      "outputs": [
        {
          "output_type": "stream",
          "text": [
            "<class 'set'>\n"
          ],
          "name": "stdout"
        }
      ]
    },
    {
      "cell_type": "code",
      "metadata": {
        "id": "EfDi0HDz_ao7"
      },
      "source": [
        "s = {}\n",
        "\n",
        "print(type(s))\n",
        "\n",
        "s = {1, 2, 3}\n",
        "\n",
        "print(s)\n",
        "\n",
        "print(type(s))"
      ],
      "execution_count": null,
      "outputs": []
    },
    {
      "cell_type": "code",
      "metadata": {
        "id": "4OXa6mfm9aqd",
        "colab": {
          "base_uri": "https://localhost:8080/"
        },
        "outputId": "768832c9-3a3a-4d8f-8307-d317695f0393"
      },
      "source": [
        "x = set()\n",
        "\n",
        "# We add to sets with the add() method\n",
        "x.add(1)\n",
        "\n",
        "#Show\n",
        "x"
      ],
      "execution_count": null,
      "outputs": [
        {
          "output_type": "execute_result",
          "data": {
            "text/plain": [
              "{1}"
            ]
          },
          "metadata": {
            "tags": []
          },
          "execution_count": 178
        }
      ]
    },
    {
      "cell_type": "markdown",
      "metadata": {
        "id": "p5w4Tsm-9v-e"
      },
      "source": [
        "Note the curly brackets. This does not indicate a dictionary! Although you can draw analogies as a set being a dictionary with only keys.\n",
        "\n",
        "We need to know that a set has only unique entries."
      ]
    },
    {
      "cell_type": "code",
      "metadata": {
        "id": "1oX7e18G9aiH"
      },
      "source": [
        "# Add a different element\n",
        "x.add(2)"
      ],
      "execution_count": null,
      "outputs": []
    },
    {
      "cell_type": "code",
      "metadata": {
        "id": "1o2_wF799zNj",
        "colab": {
          "base_uri": "https://localhost:8080/"
        },
        "outputId": "910f9c49-10ce-4ab8-ea8b-f7637b23cfb5"
      },
      "source": [
        "# Add a different element\n",
        "x.add(2)\n",
        "\n",
        "#Show\n",
        "x"
      ],
      "execution_count": null,
      "outputs": [
        {
          "output_type": "execute_result",
          "data": {
            "text/plain": [
              "{1, 2}"
            ]
          },
          "metadata": {
            "tags": []
          },
          "execution_count": 179
        }
      ]
    },
    {
      "cell_type": "code",
      "metadata": {
        "id": "obffODdd99fa",
        "colab": {
          "base_uri": "https://localhost:8080/"
        },
        "outputId": "d1c08df6-dcac-4d40-9010-2bd0cb4a5cf1"
      },
      "source": [
        "# Try to add the same element\n",
        "x.add(1)\n",
        "\n",
        "x"
      ],
      "execution_count": null,
      "outputs": [
        {
          "output_type": "execute_result",
          "data": {
            "text/plain": [
              "{1, 2}"
            ]
          },
          "metadata": {
            "tags": []
          },
          "execution_count": 182
        }
      ]
    },
    {
      "cell_type": "markdown",
      "metadata": {
        "id": "QyxEg1j9-AZ5"
      },
      "source": [
        "Notice how it won't place another 1 there. That's because a set is only concerned with unique elements. "
      ]
    },
    {
      "cell_type": "code",
      "metadata": {
        "id": "z4-vDGaT-CSx"
      },
      "source": [
        "# Create a list with repeats\n",
        "list1 = [1,1,2,2,3,4,5,6,1,1]"
      ],
      "execution_count": null,
      "outputs": []
    },
    {
      "cell_type": "code",
      "metadata": {
        "id": "voaTCS8C-ETo",
        "colab": {
          "base_uri": "https://localhost:8080/"
        },
        "outputId": "2255bf51-1e0c-4c83-e043-e00b89da952f"
      },
      "source": [
        "# Cast as set to get unique values\n",
        "set(list1)"
      ],
      "execution_count": null,
      "outputs": [
        {
          "output_type": "execute_result",
          "data": {
            "text/plain": [
              "{1, 2, 3}"
            ]
          },
          "metadata": {
            "tags": []
          },
          "execution_count": 183
        }
      ]
    },
    {
      "cell_type": "code",
      "metadata": {
        "id": "Nax1gn8j-ERa",
        "colab": {
          "base_uri": "https://localhost:8080/"
        },
        "outputId": "1c158ec4-daea-4a97-bd34-59b991af592b"
      },
      "source": [
        "# Set from list\n",
        "l = [1, 2, 3, 4, 1 , 5, 2]\n",
        "\n",
        "s = set(l)\n",
        "\n",
        "print(s)"
      ],
      "execution_count": null,
      "outputs": [
        {
          "output_type": "stream",
          "text": [
            "{1, 2, 3, 4, 5}\n"
          ],
          "name": "stdout"
        }
      ]
    },
    {
      "cell_type": "code",
      "metadata": {
        "id": "GlrHoIzY-EOy",
        "colab": {
          "base_uri": "https://localhost:8080/",
          "height": 195
        },
        "outputId": "a7d5b2d0-2794-4779-e471-c04644f13ff0"
      },
      "source": [
        "# try index\n",
        "s = {1, 2, 3}\n",
        "\n",
        "print(s[1])"
      ],
      "execution_count": null,
      "outputs": [
        {
          "output_type": "error",
          "ename": "TypeError",
          "evalue": "ignored",
          "traceback": [
            "\u001b[0;31m---------------------------------------------------------------------------\u001b[0m",
            "\u001b[0;31mTypeError\u001b[0m                                 Traceback (most recent call last)",
            "\u001b[0;32m<ipython-input-188-36661d3a089b>\u001b[0m in \u001b[0;36m<module>\u001b[0;34m()\u001b[0m\n\u001b[1;32m      2\u001b[0m \u001b[0ms\u001b[0m \u001b[0;34m=\u001b[0m \u001b[0;34m{\u001b[0m\u001b[0;36m1\u001b[0m\u001b[0;34m,\u001b[0m \u001b[0;36m2\u001b[0m\u001b[0;34m,\u001b[0m \u001b[0;36m3\u001b[0m\u001b[0;34m}\u001b[0m\u001b[0;34m\u001b[0m\u001b[0;34m\u001b[0m\u001b[0m\n\u001b[1;32m      3\u001b[0m \u001b[0;34m\u001b[0m\u001b[0m\n\u001b[0;32m----> 4\u001b[0;31m \u001b[0mprint\u001b[0m\u001b[0;34m(\u001b[0m\u001b[0ms\u001b[0m\u001b[0;34m[\u001b[0m\u001b[0;36m1\u001b[0m\u001b[0;34m]\u001b[0m\u001b[0;34m)\u001b[0m\u001b[0;34m\u001b[0m\u001b[0;34m\u001b[0m\u001b[0m\n\u001b[0m",
            "\u001b[0;31mTypeError\u001b[0m: 'set' object is not subscriptable"
          ]
        }
      ]
    },
    {
      "cell_type": "code",
      "metadata": {
        "id": "V6QFJnPq-EMq",
        "colab": {
          "base_uri": "https://localhost:8080/"
        },
        "outputId": "e36d801f-7635-43f6-a1db-f7685a29418e"
      },
      "source": [
        "s.update([5, 6, 7, 1])\n",
        "\n",
        "print(s)"
      ],
      "execution_count": null,
      "outputs": [
        {
          "output_type": "stream",
          "text": [
            "{1, 2, 3, 5, 6, 7}\n"
          ],
          "name": "stdout"
        }
      ]
    },
    {
      "cell_type": "code",
      "metadata": {
        "id": "A6sknPyU-EJs",
        "colab": {
          "base_uri": "https://localhost:8080/"
        },
        "outputId": "8f33aaf5-6939-4dd9-e2db-085880d3a68c"
      },
      "source": [
        "s.discard(5)\n",
        "\n",
        "print(s)"
      ],
      "execution_count": null,
      "outputs": [
        {
          "output_type": "stream",
          "text": [
            "{1, 2, 3, 6, 7}\n"
          ],
          "name": "stdout"
        }
      ]
    },
    {
      "cell_type": "code",
      "metadata": {
        "id": "OqWhq8dZ_qfE",
        "colab": {
          "base_uri": "https://localhost:8080/"
        },
        "outputId": "74a0e194-edbe-4b3b-a659-5a0a0a490d53"
      },
      "source": [
        "s.remove(3)\n",
        "\n",
        "print(s)"
      ],
      "execution_count": null,
      "outputs": [
        {
          "output_type": "stream",
          "text": [
            "{1, 2, 6, 7}\n"
          ],
          "name": "stdout"
        }
      ]
    },
    {
      "cell_type": "code",
      "metadata": {
        "id": "8alj5j_n_xKg",
        "colab": {
          "base_uri": "https://localhost:8080/"
        },
        "outputId": "5b1cd013-cd7b-4e5f-8c49-510907b42032"
      },
      "source": [
        "s = {1, 2, 3, 4, 5, 6, 7, 8}\n",
        "\n",
        "s.pop()\n",
        "\n",
        "print(s)"
      ],
      "execution_count": null,
      "outputs": [
        {
          "output_type": "stream",
          "text": [
            "{2, 3, 4, 5, 6, 7, 8}\n"
          ],
          "name": "stdout"
        }
      ]
    },
    {
      "cell_type": "code",
      "metadata": {
        "colab": {
          "base_uri": "https://localhost:8080/"
        },
        "id": "hVO7xTwqxj_D",
        "outputId": "ae90375e-6ae0-4dd4-bf60-ff4967f8c101"
      },
      "source": [
        "s.pop()\n",
        "\n",
        "print(s)"
      ],
      "execution_count": null,
      "outputs": [
        {
          "output_type": "stream",
          "text": [
            "{3, 4, 5, 6, 7, 8}\n"
          ],
          "name": "stdout"
        }
      ]
    },
    {
      "cell_type": "code",
      "metadata": {
        "id": "-J6bOFzc_xH9",
        "colab": {
          "base_uri": "https://localhost:8080/"
        },
        "outputId": "05276eb8-1255-44de-b2d7-8cde978378fa"
      },
      "source": [
        "# Set Operations\n",
        "\n",
        "set1 = {1, 2, 3}\n",
        "set2 = {3, 4, 5}\n",
        "\n"
      ],
      "execution_count": null,
      "outputs": [
        {
          "output_type": "stream",
          "text": [
            "{1, 2, 3, 4, 5}\n",
            "{1, 2, 3, 4, 5}\n",
            "{3}\n",
            "{3}\n",
            "{1, 2}\n",
            "{1, 2}\n",
            "{1, 2, 4, 5}\n",
            "{1, 2, 4, 5}\n"
          ],
          "name": "stdout"
        }
      ]
    },
    {
      "cell_type": "code",
      "metadata": {
        "id": "IlIxpdYoxoS7"
      },
      "source": [
        "print(set1 | set2)\n"
      ],
      "execution_count": null,
      "outputs": []
    },
    {
      "cell_type": "code",
      "metadata": {
        "id": "NwXD-PltxssK"
      },
      "source": [
        "\n",
        "print(set1.union(set2))\n"
      ],
      "execution_count": null,
      "outputs": []
    },
    {
      "cell_type": "code",
      "metadata": {
        "id": "h01bvx8BxuEl"
      },
      "source": [
        "\n",
        "print(set1 & set2)\n"
      ],
      "execution_count": null,
      "outputs": []
    },
    {
      "cell_type": "code",
      "metadata": {
        "id": "uD41PvgFxvOq"
      },
      "source": [
        "\n",
        "print(set1.intersection(set2))\n"
      ],
      "execution_count": null,
      "outputs": []
    },
    {
      "cell_type": "code",
      "metadata": {
        "id": "_k34PnDLxw_Y"
      },
      "source": [
        "\n",
        "print(set1 - set2)\n"
      ],
      "execution_count": null,
      "outputs": []
    },
    {
      "cell_type": "code",
      "metadata": {
        "id": "so5rTsJqxyFp"
      },
      "source": [
        "\n",
        "print(set1.difference(set2))\n"
      ],
      "execution_count": null,
      "outputs": []
    },
    {
      "cell_type": "code",
      "metadata": {
        "id": "33vXb6rixzVk"
      },
      "source": [
        "\n",
        "print(set1 ^ set2)\n"
      ],
      "execution_count": null,
      "outputs": []
    },
    {
      "cell_type": "code",
      "metadata": {
        "id": "Xt_FlRM9x0HV"
      },
      "source": [
        "\n",
        "print(set1.symmetric_difference(set2))"
      ],
      "execution_count": null,
      "outputs": []
    },
    {
      "cell_type": "code",
      "metadata": {
        "id": "7UhBBCJK_xFv",
        "colab": {
          "base_uri": "https://localhost:8080/"
        },
        "outputId": "4fa5a184-6c89-4ecf-b43d-d087a09adb8f"
      },
      "source": [
        "#issubset() & issuperset()\n",
        "\n",
        "set1 = {'a', 'b', 'c', 'd', 'e'}\n",
        "set2 = {'c', 'e'}\n",
        "\n",
        "print(set2.issubset(set1))\n",
        "\n",
        "print(set1.issubset(set2))\n",
        "\n",
        "print(set1.issuperset(set2))"
      ],
      "execution_count": null,
      "outputs": [
        {
          "output_type": "stream",
          "text": [
            "True\n",
            "False\n",
            "True\n"
          ],
          "name": "stdout"
        }
      ]
    }
  ]
}