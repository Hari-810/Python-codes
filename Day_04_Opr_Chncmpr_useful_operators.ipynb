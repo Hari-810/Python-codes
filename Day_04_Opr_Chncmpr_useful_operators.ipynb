{
  "nbformat": 4,
  "nbformat_minor": 0,
  "metadata": {
    "kernelspec": {
      "display_name": "Python 3",
      "language": "python",
      "name": "python3"
    },
    "language_info": {
      "codemirror_mode": {
        "name": "ipython",
        "version": 3
      },
      "file_extension": ".py",
      "mimetype": "text/x-python",
      "name": "python",
      "nbconvert_exporter": "python",
      "pygments_lexer": "ipython3",
      "version": "3.8.3"
    },
    "colab": {
      "name": "Day_04_Opr_Chncmpr_useful_operators.ipynb",
      "provenance": [],
      "collapsed_sections": [
        "uwW52QZgocJO",
        "13U8H7yspEn2",
        "lSqANJtsp7AM"
      ],
      "toc_visible": true
    }
  },
  "cells": [
    {
      "cell_type": "markdown",
      "metadata": {
        "id": "6eztjyS8jgf3"
      },
      "source": [
        "# Comparison Operators "
      ]
    },
    {
      "cell_type": "markdown",
      "metadata": {
        "id": "8fUzzGRFjFkR"
      },
      "source": [
        "\n",
        "\n",
        "Operators will allow us to compare variables and output a Boolean value (True or False). \n",
        "\n",
        "\n",
        "<h2> Table of Comparison Operators </h2><p>  In the table below, a=10 and b=20.</p>\n",
        "\n",
        "<table class=\"table table-bordered\">\n",
        "<tr>\n",
        "<th style=\"width:10%\" >Operator</th><th style=\"width:45%\" \">Description</th><th>Example</th>\n",
        "</tr>\n",
        "<tr>\n",
        "<td>==</td>\n",
        "<td>If the values of two operands are equal, then the condition becomes true.</td>\n",
        "<td> (a == b) is not true.</td>\n",
        "</tr>\n",
        "<tr>\n",
        "<td>!=</td>\n",
        "<td>If values of two operands are not equal, then condition becomes true.</td>\n",
        "<td>(a != b) is true</td>\n",
        "</tr>\n",
        "<tr>\n",
        "<td>&gt;</td>\n",
        "<td>If the value of left operand is greater than the value of right operand, then condition becomes true.</td>\n",
        "<td> (a &gt; b) is not true.</td>\n",
        "</tr>\n",
        "<tr>\n",
        "<td>&lt;</td>\n",
        "<td>If the value of left operand is less than the value of right operand, then condition becomes true.</td>\n",
        "<td> (a &lt; b) is true.</td>\n",
        "</tr>\n",
        "<tr>\n",
        "<td>&gt;=</td>\n",
        "<td>If the value of left operand is greater than or equal to the value of right operand, then condition becomes true.</td>\n",
        "<td> (a &gt;= b) is not true. </td>\n",
        "</tr>\n",
        "<tr>\n",
        "<td>&lt;=</td>\n",
        "<td>If the value of left operand is less than or equal to the value of right operand, then condition becomes true.</td>\n",
        "<td> (a &lt;= b) is true. </td>\n",
        "</tr>\n",
        "</table>"
      ]
    },
    {
      "cell_type": "markdown",
      "metadata": {
        "id": "wfTlYYkrjFkX"
      },
      "source": [
        "**Equal**"
      ]
    },
    {
      "cell_type": "code",
      "metadata": {
        "id": "5Bylj489jFkZ",
        "colab": {
          "base_uri": "https://localhost:8080/"
        },
        "outputId": "f6219533-dc87-4142-ad80-2038f314b929"
      },
      "source": [
        "2 == 2"
      ],
      "execution_count": 55,
      "outputs": [
        {
          "output_type": "execute_result",
          "data": {
            "text/plain": [
              "True"
            ]
          },
          "metadata": {
            "tags": []
          },
          "execution_count": 55
        }
      ]
    },
    {
      "cell_type": "code",
      "metadata": {
        "id": "0l_m9dUMjFkc",
        "colab": {
          "base_uri": "https://localhost:8080/"
        },
        "outputId": "c9419185-9660-4677-e07f-9cd0a4401e85"
      },
      "source": [
        "1 == 0"
      ],
      "execution_count": 56,
      "outputs": [
        {
          "output_type": "execute_result",
          "data": {
            "text/plain": [
              "False"
            ]
          },
          "metadata": {
            "tags": []
          },
          "execution_count": 56
        }
      ]
    },
    {
      "cell_type": "markdown",
      "metadata": {
        "id": "TdUTw8KSjFkd"
      },
      "source": [
        "<code>==</code> is a <em>comparison</em> operator, while <code>=</code> is an <em>assignment</em> operator."
      ]
    },
    {
      "cell_type": "markdown",
      "metadata": {
        "id": "LSvitS4QjFke"
      },
      "source": [
        "**Not Equal**"
      ]
    },
    {
      "cell_type": "code",
      "metadata": {
        "id": "3drGxzN8jFkf",
        "colab": {
          "base_uri": "https://localhost:8080/"
        },
        "outputId": "27a46775-9781-4dd4-aab2-03c0fb8c35eb"
      },
      "source": [
        "2 != 1"
      ],
      "execution_count": 57,
      "outputs": [
        {
          "output_type": "execute_result",
          "data": {
            "text/plain": [
              "True"
            ]
          },
          "metadata": {
            "tags": []
          },
          "execution_count": 57
        }
      ]
    },
    {
      "cell_type": "code",
      "metadata": {
        "id": "JkMYnllbjFkg",
        "colab": {
          "base_uri": "https://localhost:8080/"
        },
        "outputId": "a9949334-fe3d-480d-f602-e088f6f4f350"
      },
      "source": [
        "2 != 2"
      ],
      "execution_count": 58,
      "outputs": [
        {
          "output_type": "execute_result",
          "data": {
            "text/plain": [
              "False"
            ]
          },
          "metadata": {
            "tags": []
          },
          "execution_count": 58
        }
      ]
    },
    {
      "cell_type": "markdown",
      "metadata": {
        "id": "WP27-8XIjFkh"
      },
      "source": [
        "**Greater Than**"
      ]
    },
    {
      "cell_type": "code",
      "metadata": {
        "id": "1a1fhIAbjFkh",
        "colab": {
          "base_uri": "https://localhost:8080/"
        },
        "outputId": "fd3be5dd-9e34-45b3-bfae-d78296959233"
      },
      "source": [
        "2 > 1"
      ],
      "execution_count": 59,
      "outputs": [
        {
          "output_type": "execute_result",
          "data": {
            "text/plain": [
              "True"
            ]
          },
          "metadata": {
            "tags": []
          },
          "execution_count": 59
        }
      ]
    },
    {
      "cell_type": "code",
      "metadata": {
        "id": "I8ZsVCgMjFki",
        "colab": {
          "base_uri": "https://localhost:8080/"
        },
        "outputId": "e5e881c4-b922-4935-ee37-527d575370d6"
      },
      "source": [
        "2 > 4"
      ],
      "execution_count": 60,
      "outputs": [
        {
          "output_type": "execute_result",
          "data": {
            "text/plain": [
              "False"
            ]
          },
          "metadata": {
            "tags": []
          },
          "execution_count": 60
        }
      ]
    },
    {
      "cell_type": "markdown",
      "metadata": {
        "id": "_4-bkaCVjFkj"
      },
      "source": [
        "**Less Than**"
      ]
    },
    {
      "cell_type": "code",
      "metadata": {
        "id": "QryzDsOvjFkk",
        "colab": {
          "base_uri": "https://localhost:8080/"
        },
        "outputId": "9cc33b9c-6c9b-4b1d-a1ec-7fc81b98e933"
      },
      "source": [
        "2 < 4"
      ],
      "execution_count": 61,
      "outputs": [
        {
          "output_type": "execute_result",
          "data": {
            "text/plain": [
              "True"
            ]
          },
          "metadata": {
            "tags": []
          },
          "execution_count": 61
        }
      ]
    },
    {
      "cell_type": "code",
      "metadata": {
        "id": "7z_ghIrNjFkk",
        "colab": {
          "base_uri": "https://localhost:8080/"
        },
        "outputId": "987146fd-0fc0-41d1-8602-3ac02329eab9"
      },
      "source": [
        "2 < 1"
      ],
      "execution_count": 62,
      "outputs": [
        {
          "output_type": "execute_result",
          "data": {
            "text/plain": [
              "False"
            ]
          },
          "metadata": {
            "tags": []
          },
          "execution_count": 62
        }
      ]
    },
    {
      "cell_type": "markdown",
      "metadata": {
        "id": "cQsabZQmjFkl"
      },
      "source": [
        "**Greater Than or Equal to**"
      ]
    },
    {
      "cell_type": "code",
      "metadata": {
        "id": "wsM_ZswkjFkm",
        "colab": {
          "base_uri": "https://localhost:8080/"
        },
        "outputId": "64b306fd-795a-499f-8d5f-3c496e392872"
      },
      "source": [
        "2 >= 2"
      ],
      "execution_count": 63,
      "outputs": [
        {
          "output_type": "execute_result",
          "data": {
            "text/plain": [
              "True"
            ]
          },
          "metadata": {
            "tags": []
          },
          "execution_count": 63
        }
      ]
    },
    {
      "cell_type": "code",
      "metadata": {
        "id": "mdxyBjG3jFkm",
        "colab": {
          "base_uri": "https://localhost:8080/"
        },
        "outputId": "edac1d6b-7849-4496-e0a8-48269ec75f42"
      },
      "source": [
        "2 >= 1"
      ],
      "execution_count": 64,
      "outputs": [
        {
          "output_type": "execute_result",
          "data": {
            "text/plain": [
              "True"
            ]
          },
          "metadata": {
            "tags": []
          },
          "execution_count": 64
        }
      ]
    },
    {
      "cell_type": "markdown",
      "metadata": {
        "id": "Rf-QWlgmjFkn"
      },
      "source": [
        "**Less than or Equal to**"
      ]
    },
    {
      "cell_type": "code",
      "metadata": {
        "id": "pgiif1vzjFko",
        "colab": {
          "base_uri": "https://localhost:8080/"
        },
        "outputId": "865cb4e5-0269-4d2a-919d-5e257618a080"
      },
      "source": [
        "2 <= 2"
      ],
      "execution_count": 65,
      "outputs": [
        {
          "output_type": "execute_result",
          "data": {
            "text/plain": [
              "True"
            ]
          },
          "metadata": {
            "tags": []
          },
          "execution_count": 65
        }
      ]
    },
    {
      "cell_type": "code",
      "metadata": {
        "id": "hjUtO4wijFko",
        "colab": {
          "base_uri": "https://localhost:8080/"
        },
        "outputId": "afb1cfae-a3d8-4f63-a385-a2fa9edb15a7"
      },
      "source": [
        "2 <= 4"
      ],
      "execution_count": 66,
      "outputs": [
        {
          "output_type": "execute_result",
          "data": {
            "text/plain": [
              "True"
            ]
          },
          "metadata": {
            "tags": []
          },
          "execution_count": 66
        }
      ]
    },
    {
      "cell_type": "markdown",
      "metadata": {
        "id": "Kt64oMbFjFkp"
      },
      "source": [
        "#chained comparison operators"
      ]
    },
    {
      "cell_type": "code",
      "metadata": {
        "id": "qFcrWrPKk-Xm",
        "colab": {
          "base_uri": "https://localhost:8080/"
        },
        "outputId": "64c61140-2ddf-4215-d08c-055aa604d40a"
      },
      "source": [
        "10 < 20 < 30"
      ],
      "execution_count": 1,
      "outputs": [
        {
          "output_type": "execute_result",
          "data": {
            "text/plain": [
              "True"
            ]
          },
          "metadata": {
            "tags": []
          },
          "execution_count": 1
        }
      ]
    },
    {
      "cell_type": "markdown",
      "metadata": {
        "id": "N4vIw2NAlB1x"
      },
      "source": [
        "The above statement checks if 10 was less than 20 **and** if 20 was less than 30."
      ]
    },
    {
      "cell_type": "code",
      "metadata": {
        "id": "yps8ftGJlO29",
        "colab": {
          "base_uri": "https://localhost:8080/"
        },
        "outputId": "23b643d5-c59f-4456-f0b6-5e3cba44c851"
      },
      "source": [
        "10<20 and 20<30"
      ],
      "execution_count": 67,
      "outputs": [
        {
          "output_type": "execute_result",
          "data": {
            "text/plain": [
              "True"
            ]
          },
          "metadata": {
            "tags": []
          },
          "execution_count": 67
        }
      ]
    },
    {
      "cell_type": "markdown",
      "metadata": {
        "id": "J3NKhAY5lRM9"
      },
      "source": [
        "The **and** is used to make sure two checks have to be true in order for the total check to be true."
      ]
    },
    {
      "cell_type": "code",
      "metadata": {
        "id": "9zrlX76zlZf1",
        "colab": {
          "base_uri": "https://localhost:8080/"
        },
        "outputId": "9463ebc3-8849-474d-b008-07384d41d589"
      },
      "source": [
        "1 < 3 > 2"
      ],
      "execution_count": 68,
      "outputs": [
        {
          "output_type": "execute_result",
          "data": {
            "text/plain": [
              "True"
            ]
          },
          "metadata": {
            "tags": []
          },
          "execution_count": 68
        }
      ]
    },
    {
      "cell_type": "code",
      "metadata": {
        "id": "dYGN5BYhlgDR",
        "colab": {
          "base_uri": "https://localhost:8080/"
        },
        "outputId": "c4702a44-d067-4fad-e07c-65c678e9cb8a"
      },
      "source": [
        "1<3 and 3>2"
      ],
      "execution_count": 69,
      "outputs": [
        {
          "output_type": "execute_result",
          "data": {
            "text/plain": [
              "True"
            ]
          },
          "metadata": {
            "tags": []
          },
          "execution_count": 69
        }
      ]
    },
    {
      "cell_type": "code",
      "metadata": {
        "id": "2jFWdo5QlonK",
        "colab": {
          "base_uri": "https://localhost:8080/"
        },
        "outputId": "b091f926-5a78-4c37-d8bd-27b4aebfa33d"
      },
      "source": [
        "1==2 or 2<3"
      ],
      "execution_count": 70,
      "outputs": [
        {
          "output_type": "execute_result",
          "data": {
            "text/plain": [
              "True"
            ]
          },
          "metadata": {
            "tags": []
          },
          "execution_count": 70
        }
      ]
    },
    {
      "cell_type": "code",
      "metadata": {
        "id": "_kxGkWc1lyXk",
        "colab": {
          "base_uri": "https://localhost:8080/"
        },
        "outputId": "bb5053ea-8d47-4f37-dfd8-1f3f6b1a7c2c"
      },
      "source": [
        "1==1 or 100==1"
      ],
      "execution_count": 71,
      "outputs": [
        {
          "output_type": "execute_result",
          "data": {
            "text/plain": [
              "True"
            ]
          },
          "metadata": {
            "tags": []
          },
          "execution_count": 71
        }
      ]
    },
    {
      "cell_type": "markdown",
      "metadata": {
        "id": "RNJ2DWGnmX10"
      },
      "source": [
        "#If Else statements"
      ]
    },
    {
      "cell_type": "markdown",
      "metadata": {
        "id": "9dShn5rWmksj"
      },
      "source": [
        "if case1:\n",
        "    perform action1\n",
        "elif case2:\n",
        "    perform action2\n",
        "else: \n",
        "    perform action3"
      ]
    },
    {
      "cell_type": "code",
      "metadata": {
        "id": "9QLqqaAVmi65",
        "colab": {
          "base_uri": "https://localhost:8080/"
        },
        "outputId": "9ac634cc-28e5-4bd3-f7f2-ee0d53f9f567"
      },
      "source": [
        "if True:\n",
        "    print('It was true!')"
      ],
      "execution_count": 72,
      "outputs": [
        {
          "output_type": "stream",
          "text": [
            "It was true!\n"
          ],
          "name": "stdout"
        }
      ]
    },
    {
      "cell_type": "code",
      "metadata": {
        "id": "XZPgvYiEmm8y",
        "colab": {
          "base_uri": "https://localhost:8080/"
        },
        "outputId": "55d3c46d-5cfa-4ab2-d33a-95389a998d17"
      },
      "source": [
        "x = False\n",
        "\n",
        "if x:\n",
        "    print('x was True!')\n",
        "else:\n",
        "    print('I will be printed in any case where x is not true')"
      ],
      "execution_count": 73,
      "outputs": [
        {
          "output_type": "stream",
          "text": [
            "I will be printed in any case where x is not true\n"
          ],
          "name": "stdout"
        }
      ]
    },
    {
      "cell_type": "code",
      "metadata": {
        "id": "hr3oZ06Umo1a",
        "colab": {
          "base_uri": "https://localhost:8080/"
        },
        "outputId": "18dcac49-bec7-45b9-a26b-70648afb10d8"
      },
      "source": [
        "loc = 'Bank'\n",
        "\n",
        "if loc == 'Auto Shop':\n",
        "    print('Welcome to the Auto Shop!')\n",
        "elif loc == 'Bank':\n",
        "    print('Welcome to the bank!')\n",
        "else:\n",
        "    print('Where are you?')"
      ],
      "execution_count": 74,
      "outputs": [
        {
          "output_type": "stream",
          "text": [
            "Welcome to the bank!\n"
          ],
          "name": "stdout"
        }
      ]
    },
    {
      "cell_type": "code",
      "metadata": {
        "id": "q7YhkOHymqnp",
        "colab": {
          "base_uri": "https://localhost:8080/"
        },
        "outputId": "eabd71aa-f408-47ef-9ee3-36cf9cef7097"
      },
      "source": [
        "person = 'Sammy'\n",
        "\n",
        "if person == 'Sammy':\n",
        "    print('Welcome Sammy!')\n",
        "else:\n",
        "    print(\"Welcome, what's your name?\")"
      ],
      "execution_count": 10,
      "outputs": [
        {
          "output_type": "stream",
          "text": [
            "Welcome Sammy!\n"
          ],
          "name": "stdout"
        }
      ]
    },
    {
      "cell_type": "code",
      "metadata": {
        "id": "niNdJtDYmrXc",
        "colab": {
          "base_uri": "https://localhost:8080/"
        },
        "outputId": "0bdb22f8-4357-44f4-82f7-35729f1346ef"
      },
      "source": [
        "person = 'George'\n",
        "\n",
        "if person == 'Sammy':\n",
        "    print('Welcome Sammy!')\n",
        "elif person =='George':\n",
        "    print('Welcome George!')\n",
        "else:\n",
        "    print(\"Welcome, what's your name?\")"
      ],
      "execution_count": 11,
      "outputs": [
        {
          "output_type": "stream",
          "text": [
            "Welcome George!\n"
          ],
          "name": "stdout"
        }
      ]
    },
    {
      "cell_type": "markdown",
      "metadata": {
        "id": "jv9Lwj9fmx44"
      },
      "source": [
        "#For loop"
      ]
    },
    {
      "cell_type": "markdown",
      "metadata": {
        "id": "I2sFnzWvmx0R"
      },
      "source": [
        "for item in object:\n",
        "    statements to do stuff"
      ]
    },
    {
      "cell_type": "code",
      "metadata": {
        "id": "jJ_3xDVCmrVd"
      },
      "source": [
        "# We'll learn how to automate this sort of list in the next lecture\n",
        "list1 = [1,2,3,4,5,6,7,8,9,10]"
      ],
      "execution_count": 75,
      "outputs": []
    },
    {
      "cell_type": "code",
      "metadata": {
        "id": "AClW9RrjmrSj",
        "colab": {
          "base_uri": "https://localhost:8080/"
        },
        "outputId": "96d0b739-5f33-448b-f1a3-2aad0738cf03"
      },
      "source": [
        "for x in list1:\n",
        "    print(x)"
      ],
      "execution_count": 76,
      "outputs": [
        {
          "output_type": "stream",
          "text": [
            "1\n",
            "2\n",
            "3\n",
            "4\n",
            "5\n",
            "6\n",
            "7\n",
            "8\n",
            "9\n",
            "10\n"
          ],
          "name": "stdout"
        }
      ]
    },
    {
      "cell_type": "code",
      "metadata": {
        "id": "oG2SYCComrOX",
        "colab": {
          "base_uri": "https://localhost:8080/"
        },
        "outputId": "3e4609fb-6116-4d83-affb-6ba5c91cabcd"
      },
      "source": [
        "for num in list1:\n",
        "    if num % 2 == 0:\n",
        "        print(num)"
      ],
      "execution_count": 77,
      "outputs": [
        {
          "output_type": "stream",
          "text": [
            "2\n",
            "4\n",
            "6\n",
            "8\n",
            "10\n"
          ],
          "name": "stdout"
        }
      ]
    },
    {
      "cell_type": "code",
      "metadata": {
        "id": "vj2IdfchmrLy",
        "colab": {
          "base_uri": "https://localhost:8080/"
        },
        "outputId": "5b057c16-2cea-45f4-c7f1-3953a0f5525c"
      },
      "source": [
        "for num in list1:\n",
        "    if num % 2 == 0:\n",
        "        print(num)\n",
        "    else:\n",
        "        print('Odd number')"
      ],
      "execution_count": 78,
      "outputs": [
        {
          "output_type": "stream",
          "text": [
            "Odd number\n",
            "2\n",
            "Odd number\n",
            "4\n",
            "Odd number\n",
            "6\n",
            "Odd number\n",
            "8\n",
            "Odd number\n",
            "10\n"
          ],
          "name": "stdout"
        }
      ]
    },
    {
      "cell_type": "code",
      "metadata": {
        "id": "hcqhRCsamrJL",
        "colab": {
          "base_uri": "https://localhost:8080/"
        },
        "outputId": "e2f43e5b-f801-4a99-be8a-99682ff4b4fd"
      },
      "source": [
        "# Start sum at zero\n",
        "list_sum = 0 \n",
        "\n",
        "for num in list1:\n",
        "    list_sum = list_sum + num\n",
        "\n",
        "print(list_sum)"
      ],
      "execution_count": 16,
      "outputs": [
        {
          "output_type": "stream",
          "text": [
            "55\n"
          ],
          "name": "stdout"
        }
      ]
    },
    {
      "cell_type": "code",
      "metadata": {
        "id": "fUOqqaYUnAhd",
        "colab": {
          "base_uri": "https://localhost:8080/"
        },
        "outputId": "06446836-57c0-4d23-faed-3201a63561e7"
      },
      "source": [
        "for letter in 'This is a string.':\n",
        "    print(letter)"
      ],
      "execution_count": 18,
      "outputs": [
        {
          "output_type": "stream",
          "text": [
            "T\n",
            "h\n",
            "i\n",
            "s\n",
            " \n",
            "i\n",
            "s\n",
            " \n",
            "a\n",
            " \n",
            "s\n",
            "t\n",
            "r\n",
            "i\n",
            "n\n",
            "g\n",
            ".\n"
          ],
          "name": "stdout"
        }
      ]
    },
    {
      "cell_type": "code",
      "metadata": {
        "id": "GyyOXr9CnAeZ",
        "colab": {
          "base_uri": "https://localhost:8080/"
        },
        "outputId": "e19df3ef-7e95-4250-c8cd-cd0298f5f9ab"
      },
      "source": [
        "tup = (1,2,3,4,5)\n",
        "\n",
        "for t in tup:\n",
        "    print(t)"
      ],
      "execution_count": 79,
      "outputs": [
        {
          "output_type": "stream",
          "text": [
            "1\n",
            "2\n",
            "3\n",
            "4\n",
            "5\n"
          ],
          "name": "stdout"
        }
      ]
    },
    {
      "cell_type": "code",
      "metadata": {
        "id": "KRO-7rimnAcB"
      },
      "source": [
        "list2 = [(2,4),(6,8),(10,12)]"
      ],
      "execution_count": 80,
      "outputs": []
    },
    {
      "cell_type": "code",
      "metadata": {
        "id": "Mo5PCtMynAZt",
        "colab": {
          "base_uri": "https://localhost:8080/"
        },
        "outputId": "5c74b64f-623b-4b8f-fb55-3b550fa4380d"
      },
      "source": [
        "for tup in list2:\n",
        "    print(tup)"
      ],
      "execution_count": 81,
      "outputs": [
        {
          "output_type": "stream",
          "text": [
            "(2, 4)\n",
            "(6, 8)\n",
            "(10, 12)\n"
          ],
          "name": "stdout"
        }
      ]
    },
    {
      "cell_type": "code",
      "metadata": {
        "id": "q87KO6l-nAXc",
        "colab": {
          "base_uri": "https://localhost:8080/"
        },
        "outputId": "28251fcb-1dc8-4274-8a43-44467bd04d82"
      },
      "source": [
        "# Now with unpacking!\n",
        "for (t1,t2) in list2:\n",
        "    print(t1)\n",
        "    print(t2)"
      ],
      "execution_count": 82,
      "outputs": [
        {
          "output_type": "stream",
          "text": [
            "2\n",
            "4\n",
            "6\n",
            "8\n",
            "10\n",
            "12\n"
          ],
          "name": "stdout"
        }
      ]
    },
    {
      "cell_type": "code",
      "metadata": {
        "id": "2zcKx_UTnAUg"
      },
      "source": [
        "d = {'k1':1,'k2':2,'k3':3}"
      ],
      "execution_count": 83,
      "outputs": []
    },
    {
      "cell_type": "code",
      "metadata": {
        "id": "nZBhgS__nMlq",
        "colab": {
          "base_uri": "https://localhost:8080/"
        },
        "outputId": "ad67372b-5d47-4647-c185-62beeb9a85e5"
      },
      "source": [
        "for item in d:\n",
        "    print(item)"
      ],
      "execution_count": 84,
      "outputs": [
        {
          "output_type": "stream",
          "text": [
            "k1\n",
            "k2\n",
            "k3\n"
          ],
          "name": "stdout"
        }
      ]
    },
    {
      "cell_type": "code",
      "metadata": {
        "id": "Kr6W6JSVnMgP",
        "colab": {
          "base_uri": "https://localhost:8080/"
        },
        "outputId": "d3ea1742-05c9-4ea2-9698-4b9d4c03d4c1"
      },
      "source": [
        "# Create a dictionary view object\n",
        "d.items()"
      ],
      "execution_count": 85,
      "outputs": [
        {
          "output_type": "execute_result",
          "data": {
            "text/plain": [
              "dict_items([('k1', 1), ('k2', 2), ('k3', 3)])"
            ]
          },
          "metadata": {
            "tags": []
          },
          "execution_count": 85
        }
      ]
    },
    {
      "cell_type": "code",
      "metadata": {
        "id": "jDzp2yDPnMdo",
        "colab": {
          "base_uri": "https://localhost:8080/"
        },
        "outputId": "622d0a8a-e0be-4e7b-b1ba-6f9ee0e02a10"
      },
      "source": [
        "# Dictionary unpacking\n",
        "for k,v in d.items():\n",
        "    print(k)\n",
        "    print(v) "
      ],
      "execution_count": 86,
      "outputs": [
        {
          "output_type": "stream",
          "text": [
            "k1\n",
            "1\n",
            "k2\n",
            "2\n",
            "k3\n",
            "3\n"
          ],
          "name": "stdout"
        }
      ]
    },
    {
      "cell_type": "code",
      "metadata": {
        "id": "Wgh2aieDnMa0",
        "colab": {
          "base_uri": "https://localhost:8080/"
        },
        "outputId": "4b3f4b68-b96c-4cbc-e43e-712d3cf45871"
      },
      "source": [
        "list(d.keys())"
      ],
      "execution_count": 87,
      "outputs": [
        {
          "output_type": "execute_result",
          "data": {
            "text/plain": [
              "['k1', 'k2', 'k3']"
            ]
          },
          "metadata": {
            "tags": []
          },
          "execution_count": 87
        }
      ]
    },
    {
      "cell_type": "code",
      "metadata": {
        "id": "JBcyIRg-nS8l",
        "colab": {
          "base_uri": "https://localhost:8080/"
        },
        "outputId": "3722c169-b681-4526-9e99-6bddcb39d7c5"
      },
      "source": [
        "sorted(d.values())"
      ],
      "execution_count": 88,
      "outputs": [
        {
          "output_type": "execute_result",
          "data": {
            "text/plain": [
              "[1, 2, 3]"
            ]
          },
          "metadata": {
            "tags": []
          },
          "execution_count": 88
        }
      ]
    },
    {
      "cell_type": "markdown",
      "metadata": {
        "id": "oiRcCz3pncXI"
      },
      "source": [
        "#while Loops"
      ]
    },
    {
      "cell_type": "markdown",
      "metadata": {
        "id": "jvTMDluundkw"
      },
      "source": [
        "The general format of a while loop is:\n",
        "\n",
        "while test:\n",
        "    code statements\n",
        "else:\n",
        "    final code statements"
      ]
    },
    {
      "cell_type": "code",
      "metadata": {
        "id": "RiBble6qng2I",
        "colab": {
          "base_uri": "https://localhost:8080/"
        },
        "outputId": "7b32fafc-9f54-4b61-f9ca-72ae129c5c4b"
      },
      "source": [
        "x = 0\n",
        "\n",
        "while x < 10:\n",
        "    print('x is currently: ',x)\n",
        "    print(' x is still less than 10, adding 1 to x')\n",
        "    x+=1"
      ],
      "execution_count": 89,
      "outputs": [
        {
          "output_type": "stream",
          "text": [
            "x is currently:  0\n",
            " x is still less than 10, adding 1 to x\n",
            "x is currently:  1\n",
            " x is still less than 10, adding 1 to x\n",
            "x is currently:  2\n",
            " x is still less than 10, adding 1 to x\n",
            "x is currently:  3\n",
            " x is still less than 10, adding 1 to x\n",
            "x is currently:  4\n",
            " x is still less than 10, adding 1 to x\n",
            "x is currently:  5\n",
            " x is still less than 10, adding 1 to x\n",
            "x is currently:  6\n",
            " x is still less than 10, adding 1 to x\n",
            "x is currently:  7\n",
            " x is still less than 10, adding 1 to x\n",
            "x is currently:  8\n",
            " x is still less than 10, adding 1 to x\n",
            "x is currently:  9\n",
            " x is still less than 10, adding 1 to x\n"
          ],
          "name": "stdout"
        }
      ]
    },
    {
      "cell_type": "code",
      "metadata": {
        "id": "inM3ZSXWnhiD",
        "colab": {
          "base_uri": "https://localhost:8080/"
        },
        "outputId": "35371dad-64bb-4978-d605-f20fcf3e5ed3"
      },
      "source": [
        "x = 0\n",
        "\n",
        "while x < 10:\n",
        "    print('x is currently: ',x)\n",
        "    print(' x is still less than 10, adding 1 to x')\n",
        "    x+=1\n",
        "    \n",
        "else:\n",
        "    print('All Done!')"
      ],
      "execution_count": 90,
      "outputs": [
        {
          "output_type": "stream",
          "text": [
            "x is currently:  0\n",
            " x is still less than 10, adding 1 to x\n",
            "x is currently:  1\n",
            " x is still less than 10, adding 1 to x\n",
            "x is currently:  2\n",
            " x is still less than 10, adding 1 to x\n",
            "x is currently:  3\n",
            " x is still less than 10, adding 1 to x\n",
            "x is currently:  4\n",
            " x is still less than 10, adding 1 to x\n",
            "x is currently:  5\n",
            " x is still less than 10, adding 1 to x\n",
            "x is currently:  6\n",
            " x is still less than 10, adding 1 to x\n",
            "x is currently:  7\n",
            " x is still less than 10, adding 1 to x\n",
            "x is currently:  8\n",
            " x is still less than 10, adding 1 to x\n",
            "x is currently:  9\n",
            " x is still less than 10, adding 1 to x\n",
            "All Done!\n"
          ],
          "name": "stdout"
        }
      ]
    },
    {
      "cell_type": "markdown",
      "metadata": {
        "id": "kJmtm3G7nr3s"
      },
      "source": [
        "**break, continue, pass**"
      ]
    },
    {
      "cell_type": "markdown",
      "metadata": {
        "id": "dwvJEDo3nqod"
      },
      "source": [
        "\n",
        "We can use break, continue, and pass statements in our loops to add additional functionality for various cases. The three statements are defined by:\n",
        "\n",
        "**break**: Breaks out of the current closest enclosing loop.<br>\n",
        "**continue**: Goes to the top of the closest enclosing loop.<br>\n",
        "**pass**: Does nothing at all.<br>\n",
        "\n",
        "break and continue statements can appear anywhere inside the loop’s body, but we will usually put them further nested in conjunction with an if statement to perform an action based on some condition."
      ]
    },
    {
      "cell_type": "code",
      "metadata": {
        "id": "lSnS_V3onhfN"
      },
      "source": [
        "while test: \n",
        "    code statement\n",
        "    if test: \n",
        "        break\n",
        "    if test: \n",
        "        continue \n",
        "else:"
      ],
      "execution_count": null,
      "outputs": []
    },
    {
      "cell_type": "code",
      "metadata": {
        "id": "xjNJzDJGnhc_",
        "colab": {
          "base_uri": "https://localhost:8080/"
        },
        "outputId": "516ddbf2-9ec1-4a7a-d17d-b3aac342bbe7"
      },
      "source": [
        "x = 0\n",
        "\n",
        "while x < 10:\n",
        "    print('x is currently: ',x)\n",
        "    print(' x is still less than 10, adding 1 to x')\n",
        "    x+=1\n",
        "    if x==3:\n",
        "        print('x==3')\n",
        "    else:\n",
        "        print('continuing...')\n",
        "        continue"
      ],
      "execution_count": 91,
      "outputs": [
        {
          "output_type": "stream",
          "text": [
            "x is currently:  0\n",
            " x is still less than 10, adding 1 to x\n",
            "continuing...\n",
            "x is currently:  1\n",
            " x is still less than 10, adding 1 to x\n",
            "continuing...\n",
            "x is currently:  2\n",
            " x is still less than 10, adding 1 to x\n",
            "x==3\n",
            "x is currently:  3\n",
            " x is still less than 10, adding 1 to x\n",
            "continuing...\n",
            "x is currently:  4\n",
            " x is still less than 10, adding 1 to x\n",
            "continuing...\n",
            "x is currently:  5\n",
            " x is still less than 10, adding 1 to x\n",
            "continuing...\n",
            "x is currently:  6\n",
            " x is still less than 10, adding 1 to x\n",
            "continuing...\n",
            "x is currently:  7\n",
            " x is still less than 10, adding 1 to x\n",
            "continuing...\n",
            "x is currently:  8\n",
            " x is still less than 10, adding 1 to x\n",
            "continuing...\n",
            "x is currently:  9\n",
            " x is still less than 10, adding 1 to x\n",
            "continuing...\n"
          ],
          "name": "stdout"
        }
      ]
    },
    {
      "cell_type": "code",
      "metadata": {
        "id": "3DIrzHQZnhaf",
        "colab": {
          "base_uri": "https://localhost:8080/"
        },
        "outputId": "e1d2e6bb-0f99-4fa0-b545-f9df4321b6e0"
      },
      "source": [
        "x = 0\n",
        "\n",
        "while x < 10:\n",
        "    print('x is currently: ',x)\n",
        "    print(' x is still less than 10, adding 1 to x')\n",
        "    x+=1\n",
        "    if x==3:\n",
        "        print('Breaking because x==3')\n",
        "        break\n",
        "    else:\n",
        "        print('continuing...')\n",
        "        continue"
      ],
      "execution_count": 92,
      "outputs": [
        {
          "output_type": "stream",
          "text": [
            "x is currently:  0\n",
            " x is still less than 10, adding 1 to x\n",
            "continuing...\n",
            "x is currently:  1\n",
            " x is still less than 10, adding 1 to x\n",
            "continuing...\n",
            "x is currently:  2\n",
            " x is still less than 10, adding 1 to x\n",
            "Breaking because x==3\n"
          ],
          "name": "stdout"
        }
      ]
    },
    {
      "cell_type": "code",
      "metadata": {
        "id": "gCVOdqrSnhVb"
      },
      "source": [
        "\n",
        "\n",
        "# DO NOT RUN THIS CODE!!!! \n",
        "\"\"\"\n",
        "while True:\n",
        "   print(\"I'm stuck in an infinite loop!\")\n",
        "\n",
        "\"\"\"   "
      ],
      "execution_count": null,
      "outputs": []
    },
    {
      "cell_type": "markdown",
      "metadata": {
        "id": "uwW52QZgocJO"
      },
      "source": [
        "#Operators"
      ]
    },
    {
      "cell_type": "markdown",
      "metadata": {
        "id": "_rjQa0FUoi7a"
      },
      "source": [
        "**range**\n",
        "\n",
        "The range function allows you to quickly generate a list of integers, this comes in handy a lot, so take note of how to use it! There are 3 parameters you can pass, a start, a stop, and a step size. Let's see some examples:"
      ]
    },
    {
      "cell_type": "code",
      "metadata": {
        "id": "fs6p-093nhSR",
        "colab": {
          "base_uri": "https://localhost:8080/"
        },
        "outputId": "cd9deb99-a5b5-4e76-a950-c77326ee5658"
      },
      "source": [
        "range(0,11)"
      ],
      "execution_count": 93,
      "outputs": [
        {
          "output_type": "execute_result",
          "data": {
            "text/plain": [
              "range(0, 11)"
            ]
          },
          "metadata": {
            "tags": []
          },
          "execution_count": 93
        }
      ]
    },
    {
      "cell_type": "code",
      "metadata": {
        "id": "zMTO_FF2o97X",
        "colab": {
          "base_uri": "https://localhost:8080/"
        },
        "outputId": "512d19e8-f3ca-453b-fb56-e336cab21adf"
      },
      "source": [
        "# Notice how 11 is not included, up to but not including 11, just like slice notation!\n",
        "list(range(0,11))"
      ],
      "execution_count": 94,
      "outputs": [
        {
          "output_type": "execute_result",
          "data": {
            "text/plain": [
              "[0, 1, 2, 3, 4, 5, 6, 7, 8, 9, 10]"
            ]
          },
          "metadata": {
            "tags": []
          },
          "execution_count": 94
        }
      ]
    },
    {
      "cell_type": "code",
      "metadata": {
        "id": "kIvExu_qpAzu",
        "colab": {
          "base_uri": "https://localhost:8080/"
        },
        "outputId": "e61a9df9-b5d1-4dee-cbe7-19d52794c0a6"
      },
      "source": [
        "# Third parameter is step size!\n",
        "# step size just means how big of a jump/leap/step you \n",
        "# take from the starting number to get to the next number.\n",
        "\n",
        "list(range(0,11,2))"
      ],
      "execution_count": 95,
      "outputs": [
        {
          "output_type": "execute_result",
          "data": {
            "text/plain": [
              "[0, 2, 4, 6, 8, 10]"
            ]
          },
          "metadata": {
            "tags": []
          },
          "execution_count": 95
        }
      ]
    },
    {
      "cell_type": "code",
      "metadata": {
        "id": "KtKXYutppC8T",
        "colab": {
          "base_uri": "https://localhost:8080/"
        },
        "outputId": "5172d80a-5ccf-48b2-b66e-b67f603c93db"
      },
      "source": [
        "list(range(0,101,10))"
      ],
      "execution_count": 96,
      "outputs": [
        {
          "output_type": "execute_result",
          "data": {
            "text/plain": [
              "[0, 10, 20, 30, 40, 50, 60, 70, 80, 90, 100]"
            ]
          },
          "metadata": {
            "tags": []
          },
          "execution_count": 96
        }
      ]
    },
    {
      "cell_type": "markdown",
      "metadata": {
        "id": "13U8H7yspEn2"
      },
      "source": [
        "#enumerate"
      ]
    },
    {
      "cell_type": "code",
      "metadata": {
        "id": "lpi8CIScpGhN",
        "colab": {
          "base_uri": "https://localhost:8080/"
        },
        "outputId": "2976f1d2-a9d1-4411-9d9d-89398ef15270"
      },
      "source": [
        "index_count = 0\n",
        "\n",
        "for letter in 'abcde':\n",
        "    print(\"At index {} the letter is {}\".format(index_count,letter))\n",
        "    index_count += 1"
      ],
      "execution_count": 97,
      "outputs": [
        {
          "output_type": "stream",
          "text": [
            "At index 0 the letter is a\n",
            "At index 1 the letter is b\n",
            "At index 2 the letter is c\n",
            "At index 3 the letter is d\n",
            "At index 4 the letter is e\n"
          ],
          "name": "stdout"
        }
      ]
    },
    {
      "cell_type": "code",
      "metadata": {
        "id": "E3etDB7TpItt",
        "colab": {
          "base_uri": "https://localhost:8080/"
        },
        "outputId": "bc5e0277-3130-4450-fd14-789e5160f3ce"
      },
      "source": [
        "# Notice the tuple unpacking!\n",
        "\n",
        "for i,letter in enumerate('abcde'):\n",
        "    print(\"At index {} the letter is {}\".format(i,letter))"
      ],
      "execution_count": 98,
      "outputs": [
        {
          "output_type": "stream",
          "text": [
            "At index 0 the letter is a\n",
            "At index 1 the letter is b\n",
            "At index 2 the letter is c\n",
            "At index 3 the letter is d\n",
            "At index 4 the letter is e\n"
          ],
          "name": "stdout"
        }
      ]
    },
    {
      "cell_type": "code",
      "metadata": {
        "colab": {
          "base_uri": "https://localhost:8080/"
        },
        "id": "qgwzslgIEyfR",
        "outputId": "b0fc01ac-6eef-461d-b0f6-ef4b37b87a49"
      },
      "source": [
        "list(enumerate('abcde'))\n"
      ],
      "execution_count": 100,
      "outputs": [
        {
          "output_type": "execute_result",
          "data": {
            "text/plain": [
              "[(0, 'a'), (1, 'b'), (2, 'c'), (3, 'd'), (4, 'e')]"
            ]
          },
          "metadata": {
            "tags": []
          },
          "execution_count": 100
        }
      ]
    },
    {
      "cell_type": "markdown",
      "metadata": {
        "id": "Zrrast6MpcLW"
      },
      "source": [
        "#zip"
      ]
    },
    {
      "cell_type": "markdown",
      "metadata": {
        "id": "E6m72_DBpoCo"
      },
      "source": [
        "It was a list of tuples, meaning we could use tuple unpacking during our for loop. This data structure is actually very common in Python , especially when working with outside libraries. You can use the zip() function to quickly create a list of tuples by \"zipping\" up together two lists"
      ]
    },
    {
      "cell_type": "code",
      "metadata": {
        "id": "-R9A1E1qpp5Y"
      },
      "source": [
        "mylist1 = [1,2,3,4,5]\n",
        "mylist2 = ['a','b','c','d','e']"
      ],
      "execution_count": 105,
      "outputs": []
    },
    {
      "cell_type": "code",
      "metadata": {
        "id": "ZU1UjLLopsgV",
        "colab": {
          "base_uri": "https://localhost:8080/"
        },
        "outputId": "59039651-8174-464b-9090-a716ba70ba83"
      },
      "source": [
        "# This one is also a generator! We will explain this later, but for now let's transform it to a list\n",
        "zip(mylist1,mylist2)"
      ],
      "execution_count": 102,
      "outputs": [
        {
          "output_type": "execute_result",
          "data": {
            "text/plain": [
              "<zip at 0x7efebb005f50>"
            ]
          },
          "metadata": {
            "tags": []
          },
          "execution_count": 102
        }
      ]
    },
    {
      "cell_type": "code",
      "metadata": {
        "id": "fvZuT4kapumW",
        "colab": {
          "base_uri": "https://localhost:8080/"
        },
        "outputId": "0418e706-c521-48b1-d881-19e2ef8099b3"
      },
      "source": [
        "list(zip(mylist1,mylist2))"
      ],
      "execution_count": 106,
      "outputs": [
        {
          "output_type": "execute_result",
          "data": {
            "text/plain": [
              "[(1, 'a'), (2, 'b'), (3, 'c'), (4, 'd'), (5, 'e')]"
            ]
          },
          "metadata": {
            "tags": []
          },
          "execution_count": 106
        }
      ]
    },
    {
      "cell_type": "code",
      "metadata": {
        "id": "NBMsoEuoFWK_"
      },
      "source": [
        "mylist1 = [1,2,3,4,5,6,7]\n",
        "mylist2 = ['a','b','c','d','e']"
      ],
      "execution_count": null,
      "outputs": []
    },
    {
      "cell_type": "code",
      "metadata": {
        "id": "YoB6268bFXWJ"
      },
      "source": [
        "list(zip(mylist1,mylist2))"
      ],
      "execution_count": null,
      "outputs": []
    },
    {
      "cell_type": "code",
      "metadata": {
        "id": "w0Z5INBWpxgk",
        "colab": {
          "base_uri": "https://localhost:8080/"
        },
        "outputId": "11c13b10-ae2d-4274-e47e-2840b914b8e4"
      },
      "source": [
        "for item1, item2 in zip(mylist1,mylist2):\n",
        "    print('For this tuple, first item was {} and second item was {}'.format(item1,item2))"
      ],
      "execution_count": 104,
      "outputs": [
        {
          "output_type": "stream",
          "text": [
            "For this tuple, first item was 1 and second item was a\n",
            "For this tuple, first item was 2 and second item was b\n",
            "For this tuple, first item was 3 and second item was c\n",
            "For this tuple, first item was 4 and second item was d\n",
            "For this tuple, first item was 5 and second item was e\n"
          ],
          "name": "stdout"
        }
      ]
    },
    {
      "cell_type": "markdown",
      "metadata": {
        "id": "U8oe7j5lpzWT"
      },
      "source": [
        "#in operator"
      ]
    },
    {
      "cell_type": "code",
      "metadata": {
        "id": "6YVAo7mep3X4",
        "colab": {
          "base_uri": "https://localhost:8080/"
        },
        "outputId": "1527e2d1-6def-422d-e591-4944ae1d0d01"
      },
      "source": [
        "'x' in ['x','y','z']"
      ],
      "execution_count": 107,
      "outputs": [
        {
          "output_type": "execute_result",
          "data": {
            "text/plain": [
              "True"
            ]
          },
          "metadata": {
            "tags": []
          },
          "execution_count": 107
        }
      ]
    },
    {
      "cell_type": "code",
      "metadata": {
        "id": "jRZOLnVfp4zQ",
        "colab": {
          "base_uri": "https://localhost:8080/"
        },
        "outputId": "d4d1cb87-587c-4bf1-8c43-0a62cba9e641"
      },
      "source": [
        "'x' in [1,2,3]"
      ],
      "execution_count": 108,
      "outputs": [
        {
          "output_type": "execute_result",
          "data": {
            "text/plain": [
              "False"
            ]
          },
          "metadata": {
            "tags": []
          },
          "execution_count": 108
        }
      ]
    },
    {
      "cell_type": "markdown",
      "metadata": {
        "id": "lSqANJtsp7AM"
      },
      "source": [
        "#not in"
      ]
    },
    {
      "cell_type": "code",
      "metadata": {
        "id": "-MzjQa2Up87o",
        "colab": {
          "base_uri": "https://localhost:8080/"
        },
        "outputId": "f6b56005-5750-4ee2-bd10-e300f7fe1d65"
      },
      "source": [
        "'x' not in ['x','y','z']"
      ],
      "execution_count": 109,
      "outputs": [
        {
          "output_type": "execute_result",
          "data": {
            "text/plain": [
              "False"
            ]
          },
          "metadata": {
            "tags": []
          },
          "execution_count": 109
        }
      ]
    },
    {
      "cell_type": "code",
      "metadata": {
        "id": "aty9eBo8p-zC",
        "colab": {
          "base_uri": "https://localhost:8080/"
        },
        "outputId": "54d17f5b-9383-49e1-e09e-1d72354ef445"
      },
      "source": [
        "'x' not in [1,2,3]"
      ],
      "execution_count": 110,
      "outputs": [
        {
          "output_type": "execute_result",
          "data": {
            "text/plain": [
              "True"
            ]
          },
          "metadata": {
            "tags": []
          },
          "execution_count": 110
        }
      ]
    },
    {
      "cell_type": "markdown",
      "metadata": {
        "id": "towW03KRqAoo"
      },
      "source": [
        "#min and max"
      ]
    },
    {
      "cell_type": "code",
      "metadata": {
        "id": "GTU4YalwqDhi"
      },
      "source": [
        "mylist = [10,20,30,40,100]"
      ],
      "execution_count": 37,
      "outputs": []
    },
    {
      "cell_type": "code",
      "metadata": {
        "id": "-AUMffEwqE-w",
        "colab": {
          "base_uri": "https://localhost:8080/"
        },
        "outputId": "0c4a8a5a-b5f6-4010-a03e-327038d81b67"
      },
      "source": [
        "min(mylist)"
      ],
      "execution_count": 38,
      "outputs": [
        {
          "output_type": "execute_result",
          "data": {
            "text/plain": [
              "10"
            ]
          },
          "metadata": {
            "tags": []
          },
          "execution_count": 38
        }
      ]
    },
    {
      "cell_type": "code",
      "metadata": {
        "id": "zaUnZKTvqHPF",
        "colab": {
          "base_uri": "https://localhost:8080/"
        },
        "outputId": "d995c5a7-34c1-4d28-ba1c-24b7c8b36f0c"
      },
      "source": [
        "max(mylist)"
      ],
      "execution_count": 39,
      "outputs": [
        {
          "output_type": "execute_result",
          "data": {
            "text/plain": [
              "100"
            ]
          },
          "metadata": {
            "tags": []
          },
          "execution_count": 39
        }
      ]
    },
    {
      "cell_type": "markdown",
      "metadata": {
        "id": "EosIHVXpqKB9"
      },
      "source": [
        "#random"
      ]
    },
    {
      "cell_type": "code",
      "metadata": {
        "id": "0Xh4gmX0F2n4"
      },
      "source": [
        "mylist = [10,20,30,40,100]"
      ],
      "execution_count": 112,
      "outputs": []
    },
    {
      "cell_type": "code",
      "metadata": {
        "id": "5DiVjPsbqMRh"
      },
      "source": [
        "from random import shuffle"
      ],
      "execution_count": 113,
      "outputs": []
    },
    {
      "cell_type": "code",
      "metadata": {
        "id": "JDu8PLVLqNvR"
      },
      "source": [
        "# This shuffles the list \"in-place\" meaning it won't return\n",
        "# anything, instead it will effect the list passed\n",
        "shuffle(mylist)"
      ],
      "execution_count": 114,
      "outputs": []
    },
    {
      "cell_type": "code",
      "metadata": {
        "id": "IphCDsTHqPC0",
        "colab": {
          "base_uri": "https://localhost:8080/"
        },
        "outputId": "dfdb691a-a63d-425d-d670-87cbb1418caa"
      },
      "source": [
        "mylist"
      ],
      "execution_count": 115,
      "outputs": [
        {
          "output_type": "execute_result",
          "data": {
            "text/plain": [
              "[30, 20, 10, 40, 100]"
            ]
          },
          "metadata": {
            "tags": []
          },
          "execution_count": 115
        }
      ]
    },
    {
      "cell_type": "code",
      "metadata": {
        "id": "TQ1yCx9iqQZR"
      },
      "source": [
        "from random import randint"
      ],
      "execution_count": 116,
      "outputs": []
    },
    {
      "cell_type": "code",
      "metadata": {
        "id": "FZz7VybtqSK0",
        "colab": {
          "base_uri": "https://localhost:8080/"
        },
        "outputId": "00784b61-7665-4abc-fe07-c06fa91e2fe3"
      },
      "source": [
        "# Return random integer in range [a, b], including both end points.\n",
        "randint(0,100)"
      ],
      "execution_count": 117,
      "outputs": [
        {
          "output_type": "execute_result",
          "data": {
            "text/plain": [
              "27"
            ]
          },
          "metadata": {
            "tags": []
          },
          "execution_count": 117
        }
      ]
    },
    {
      "cell_type": "code",
      "metadata": {
        "id": "Nss8RKgRqT_e",
        "colab": {
          "base_uri": "https://localhost:8080/"
        },
        "outputId": "4a862775-6b17-4e54-99de-d9c6f4a50aca"
      },
      "source": [
        "# Return random integer in range [a, b], including both end points.\n",
        "randint(0,100)"
      ],
      "execution_count": 118,
      "outputs": [
        {
          "output_type": "execute_result",
          "data": {
            "text/plain": [
              "0"
            ]
          },
          "metadata": {
            "tags": []
          },
          "execution_count": 118
        }
      ]
    },
    {
      "cell_type": "markdown",
      "metadata": {
        "id": "uKunaaOlqcsa"
      },
      "source": [
        "# List Comprehensions"
      ]
    },
    {
      "cell_type": "code",
      "metadata": {
        "id": "9T9GTdB_qfAE"
      },
      "source": [
        "# Grab every letter in string\n",
        "lst = [x for x in 'word']"
      ],
      "execution_count": 45,
      "outputs": []
    },
    {
      "cell_type": "code",
      "metadata": {
        "id": "VoT--_DAqgVI",
        "colab": {
          "base_uri": "https://localhost:8080/"
        },
        "outputId": "c5c7516e-8138-421e-d36f-59a9dee75e31"
      },
      "source": [
        "# Check\n",
        "lst"
      ],
      "execution_count": 46,
      "outputs": [
        {
          "output_type": "execute_result",
          "data": {
            "text/plain": [
              "['w', 'o', 'r', 'd']"
            ]
          },
          "metadata": {
            "tags": []
          },
          "execution_count": 46
        }
      ]
    },
    {
      "cell_type": "code",
      "metadata": {
        "id": "xFeMjVMlqiOl",
        "colab": {
          "base_uri": "https://localhost:8080/"
        },
        "outputId": "8556659c-d9ff-4e43-c9e2-8ac7b2232d12"
      },
      "source": [
        "# Square numbers in range and turn into list\n",
        "lst = [x**2 for x in range(0,11)]\n",
        "lst"
      ],
      "execution_count": 54,
      "outputs": [
        {
          "output_type": "execute_result",
          "data": {
            "text/plain": [
              "[0, 1, 4, 9, 16, 25, 36, 49, 64, 81, 100]"
            ]
          },
          "metadata": {
            "tags": []
          },
          "execution_count": 54
        }
      ]
    },
    {
      "cell_type": "code",
      "metadata": {
        "colab": {
          "base_uri": "https://localhost:8080/"
        },
        "id": "1YjtntKo3GFG",
        "outputId": "b608da93-6ecf-4273-d03e-057a11ee17ac"
      },
      "source": [
        "lst = [ x**2 for x in [x**2 for x in range(11)]]\n",
        "lst"
      ],
      "execution_count": 53,
      "outputs": [
        {
          "output_type": "execute_result",
          "data": {
            "text/plain": [
              "[0, 1, 16, 81, 256, 625, 1296, 2401, 4096, 6561, 10000]"
            ]
          },
          "metadata": {
            "tags": []
          },
          "execution_count": 53
        }
      ]
    },
    {
      "cell_type": "code",
      "metadata": {
        "id": "Ue_0ZyBkqmeq"
      },
      "source": [
        "# Check for even numbers in a range\n",
        "lst = [x for x in range(11) if x % 2 == 0]"
      ],
      "execution_count": 49,
      "outputs": []
    },
    {
      "cell_type": "code",
      "metadata": {
        "id": "SXNlpoXqqoH3",
        "colab": {
          "base_uri": "https://localhost:8080/"
        },
        "outputId": "2778554b-07a3-434b-9092-1253c3a78320"
      },
      "source": [
        "lst"
      ],
      "execution_count": 50,
      "outputs": [
        {
          "output_type": "execute_result",
          "data": {
            "text/plain": [
              "[0, 2, 4, 6, 8, 10]"
            ]
          },
          "metadata": {
            "tags": []
          },
          "execution_count": 50
        }
      ]
    },
    {
      "cell_type": "code",
      "metadata": {
        "id": "lyo2QQ3UqqDD",
        "colab": {
          "base_uri": "https://localhost:8080/"
        },
        "outputId": "4447f2d1-87a2-47a4-a4bc-6a30844865ac"
      },
      "source": [
        "# Convert Celsius to Fahrenheit\n",
        "celsius = [0,10,20.1,34.5]\n",
        "\n",
        "fahrenheit = [((9/5)*temp + 32) for temp in celsius ]\n",
        "\n",
        "fahrenheit"
      ],
      "execution_count": 51,
      "outputs": [
        {
          "output_type": "execute_result",
          "data": {
            "text/plain": [
              "[32.0, 50.0, 68.18, 94.1]"
            ]
          },
          "metadata": {
            "tags": []
          },
          "execution_count": 51
        }
      ]
    }
  ]
}