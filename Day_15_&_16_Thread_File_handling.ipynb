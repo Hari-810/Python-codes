{
  "nbformat": 4,
  "nbformat_minor": 0,
  "metadata": {
    "colab": {
      "name": "Untitled1.ipynb",
      "provenance": []
    },
    "kernelspec": {
      "name": "python3",
      "display_name": "Python 3"
    },
    "language_info": {
      "name": "python"
    }
  },
  "cells": [
    {
      "cell_type": "markdown",
      "metadata": {
        "id": "Crq9ks5M_ovb"
      },
      "source": [
        "#Threading"
      ]
    },
    {
      "cell_type": "markdown",
      "metadata": {
        "id": "rWMJzUU5_mxD"
      },
      "source": [
        "\n",
        "A thread is an entity within a process that can be scheduled for execution. Also, it is the smallest unit of processing that can be performed in an OS (Operating System).\n",
        "\n",
        "Threads are used in cases where the execution of a task involves some waiting"
      ]
    },
    {
      "cell_type": "code",
      "metadata": {
        "colab": {
          "base_uri": "https://localhost:8080/"
        },
        "id": "CP3tDbsP_fF6",
        "outputId": "4cb7d0a9-8a82-469b-bad8-2f32bc9ed8eb"
      },
      "source": [
        "import threading\n",
        "\n",
        "print('Current executing Thread: ', threading.current_thread())\n",
        "\n",
        "print('Name of the Thread ', threading.current_thread().getName())\n",
        "\n",
        "print('Identification Number: ', threading.current_thread().ident)\n",
        "\n",
        "# current_thread() returns the current thread object\n",
        "# We can see the name of current thread object using getName() method"
      ],
      "execution_count": 12,
      "outputs": [
        {
          "output_type": "stream",
          "text": [
            "Current executing Thread:  <_MainThread(MainThread, started 140017217075072)>\n",
            "Name of the Thread  MainThread\n",
            "Identification Number:  140017217075072\n"
          ],
          "name": "stdout"
        }
      ]
    },
    {
      "cell_type": "code",
      "metadata": {
        "colab": {
          "base_uri": "https://localhost:8080/"
        },
        "id": "Wtt8GjRg_4P6",
        "outputId": "6efc2242-3d84-4262-b204-d17bb6349cff"
      },
      "source": [
        "from threading import *\n",
        "\n",
        "print('Current executing Thread: ', current_thread().getName())\n",
        "\n",
        "current_thread().setName('my_new_thread')\n",
        "\n",
        "print('Current executing Thread: ', current_thread().getName())\n"
      ],
      "execution_count": 13,
      "outputs": [
        {
          "output_type": "stream",
          "text": [
            "Current executing Thread:  MainThread\n",
            "Current executing Thread:  my_new_thread\n"
          ],
          "name": "stdout"
        }
      ]
    },
    {
      "cell_type": "markdown",
      "metadata": {
        "id": "a_KVCNcY_8va"
      },
      "source": [
        "**A Minimal Example with Function Call**\n",
        "\n",
        "\n",
        "Make a thread that prints numbers from 1-10 and waits a second between each print:"
      ]
    },
    {
      "cell_type": "code",
      "metadata": {
        "id": "HiwlWdfLABAj"
      },
      "source": [
        "import threading\n",
        "import time\n",
        "\n",
        "def loop1_10():\n",
        "    for i in range(1, 11):\n",
        "        time.sleep(5)\n",
        "        print(i)\n",
        "\n",
        "threading.Thread(target=loop1_10).start()"
      ],
      "execution_count": 14,
      "outputs": []
    },
    {
      "cell_type": "markdown",
      "metadata": {
        "id": "D2VMEJ6YAFS8"
      },
      "source": [
        "**Creating the Thread (Functional Programming way)**"
      ]
    },
    {
      "cell_type": "code",
      "metadata": {
        "colab": {
          "base_uri": "https://localhost:8080/"
        },
        "id": "7RG4eIE_AE3y",
        "outputId": "ba84838f-99d4-44aa-e8cd-449557bd0cf2"
      },
      "source": [
        "from threading import *\n",
        "\n",
        "def display():\n",
        "    print('Child executing thread: ', current_thread().getName())\n",
        "    \n",
        "# Lets execute display() as seperate thread\n",
        "\n",
        "t = Thread(target = display)\n",
        "# MainThread creates child thread object\n",
        "\n",
        "t.start()\n",
        "\n",
        "print('Main executing thread: ', current_thread().getName())"
      ],
      "execution_count": 15,
      "outputs": [
        {
          "output_type": "stream",
          "text": [
            "Child executing thread:  Thread-12Main executing thread:  \n",
            "my_new_thread\n"
          ],
          "name": "stdout"
        }
      ]
    },
    {
      "cell_type": "code",
      "metadata": {
        "colab": {
          "base_uri": "https://localhost:8080/"
        },
        "id": "eTyHxN9UAJcz",
        "outputId": "2fa9542b-5c13-4310-be54-3c057b168875"
      },
      "source": [
        "from threading import *\n",
        "\n",
        "def display():\n",
        "    for i in range(10):\n",
        "        print('Child Thread')\n",
        "        \n",
        "t = Thread(target = display)\n",
        "\n",
        "t.start()\n"
      ],
      "execution_count": 16,
      "outputs": [
        {
          "output_type": "stream",
          "text": [
            "Child Thread"
          ],
          "name": "stdout"
        }
      ]
    },
    {
      "cell_type": "markdown",
      "metadata": {
        "id": "eZXJ469qALFD"
      },
      "source": [
        "Creating the Thread (OOP way)"
      ]
    },
    {
      "cell_type": "code",
      "metadata": {
        "colab": {
          "base_uri": "https://localhost:8080/"
        },
        "id": "kBBtlQJZANZN",
        "outputId": "2f2a19b5-0a55-45de-b70f-8bab134d8529"
      },
      "source": [
        "from threading import *\n",
        "\n",
        "class MyThread(Thread):\n",
        "    def run(self):\n",
        "        print('Child executing thread: ', current_thread().getName())\n",
        "            \n",
        "# Lets execute display() as seperate thread\n",
        "\n",
        "t = MyThread()\n",
        "# MainThread creates child thread object\n",
        "\n",
        "t.start()\n",
        "\n",
        "print('Main executing thread: ', current_thread().getName())"
      ],
      "execution_count": 17,
      "outputs": [
        {
          "output_type": "stream",
          "text": [
            "\n",
            "Child Thread\n",
            "Child Thread\n",
            "Child Thread\n",
            "Child Thread\n",
            "Child Thread\n",
            "Child Thread\n",
            "Child Thread\n",
            "Child Thread\n",
            "Child Thread\n",
            "Child executing thread: Main executing thread:  my_new_thread\n"
          ],
          "name": "stdout"
        }
      ]
    },
    {
      "cell_type": "markdown",
      "metadata": {
        "id": "MEvczE1WATEL"
      },
      "source": [
        "Without Multi-threading"
      ]
    },
    {
      "cell_type": "code",
      "metadata": {
        "colab": {
          "base_uri": "https://localhost:8080/"
        },
        "id": "hYYu5c5hLcy1",
        "outputId": "293d0340-a399-437b-ffaf-bea17269c84b"
      },
      "source": [
        "import time\n",
        "\n",
        "def double(num):\n",
        "    for n in num:\n",
        "        time.sleep(1)\n",
        "        print('Double: ', 2*n)\n",
        "        \n",
        "def square(num):\n",
        "    for n in num:\n",
        "        time.sleep(1)\n",
        "        print('Square: ', n*n)\n",
        "        \n",
        "num = [1, 2, 3, 4, 5, 6]\n",
        "\n",
        "begintime = time.time()\n",
        "\n",
        "double(num)\n",
        "\n",
        "square(num)\n",
        "\n",
        "endtime = time.time()\n",
        "print('Time taken: ', endtime - begintime)"
      ],
      "execution_count": 18,
      "outputs": [
        {
          "output_type": "stream",
          "text": [
            " Thread-14\n",
            "Double:  2\n",
            "Double:  4\n",
            "Double:  6\n",
            "Double:  8\n",
            "1\n",
            "Double:  10\n",
            "Double:  12\n",
            "Square:  1\n",
            "Square:  4\n",
            "Square:  9\n",
            "2\n",
            "Square:  16\n",
            "Square:  25\n",
            "Square:  36\n",
            "Time taken:  12.019601345062256\n"
          ],
          "name": "stdout"
        }
      ]
    },
    {
      "cell_type": "markdown",
      "metadata": {
        "id": "8sAoOJUGLhpG"
      },
      "source": [
        "**With Multi-threading**"
      ]
    },
    {
      "cell_type": "markdown",
      "metadata": {
        "id": "UjucSGsALjJl"
      },
      "source": [
        "Thread class provides the join() method which allows one thread to wait until another thread completes its execution."
      ]
    },
    {
      "cell_type": "code",
      "metadata": {
        "colab": {
          "base_uri": "https://localhost:8080/"
        },
        "id": "tGw1Jc79LlOl",
        "outputId": "285bf7a4-97a8-45ae-cd92-065c118b0ec7"
      },
      "source": [
        "from threading import *\n",
        "import time\n",
        "\n",
        "def double(num):\n",
        "    for n in num:\n",
        "        time.sleep(1)\n",
        "        print('Double: ', 2*n)\n",
        "def square(num):\n",
        "    for n in num:\n",
        "        time.sleep(1)\n",
        "        print('Square: ', n*n)\n",
        "    \n",
        "num = [1, 2, 3, 4, 5, 6]\n",
        "\n",
        "begintime = time.time()\n",
        "\n",
        "# double(num)\n",
        "t1 = Thread(target = double, args = (num,))\n",
        "\n",
        "# square(num)\n",
        "t2 = Thread(target = square, args = (num,))\n",
        "\n",
        "t1.start()\n",
        "t2.start()\n",
        "\n",
        "t1.join()\n",
        "t2.join()\n",
        "\n",
        "endtime = time.time()\n",
        "print('Time taken: ', endtime - begintime)"
      ],
      "execution_count": 19,
      "outputs": [
        {
          "output_type": "stream",
          "text": [
            "Double:  2Square: \n",
            " 1\n",
            "Double:  4\n",
            "Square:  4\n",
            "3\n",
            "Double:  6\n",
            "Square:  9\n",
            "Double:  8\n",
            "Square:  16\n",
            "Double:  10\n",
            "Square:  25\n",
            "Double:  12\n",
            "Square:  36\n",
            "Time taken:  6.020456314086914\n"
          ],
          "name": "stdout"
        }
      ]
    },
    {
      "cell_type": "markdown",
      "metadata": {
        "id": "tyudbVTSL1L1"
      },
      "source": [
        "#File Handling\n"
      ]
    },
    {
      "cell_type": "markdown",
      "metadata": {
        "id": "nfib_EORLwKt"
      },
      "source": [
        "Opening & Closing a File"
      ]
    },
    {
      "cell_type": "code",
      "metadata": {
        "id": "WpIRZNe9L-gW"
      },
      "source": [
        "f = open('test.txt')"
      ],
      "execution_count": 20,
      "outputs": []
    },
    {
      "cell_type": "code",
      "metadata": {
        "id": "s1asmsgeL_sV"
      },
      "source": [
        "f.close()"
      ],
      "execution_count": 21,
      "outputs": []
    },
    {
      "cell_type": "markdown",
      "metadata": {
        "id": "7zn0QZDJL8M2"
      },
      "source": [
        "File Object Properties"
      ]
    },
    {
      "cell_type": "code",
      "metadata": {
        "colab": {
          "base_uri": "https://localhost:8080/"
        },
        "id": "s7kb8Og2MB-I",
        "outputId": "c54e789a-f022-4996-d3d9-7d9f4c74ad8b"
      },
      "source": [
        "f = open(\"test.txt\", 'w')\n",
        "\n",
        "print('File Name: ', f.name)\n",
        "\n",
        "print('File Mode: ', f.mode)\n",
        "\n",
        "print('Is file readable: ', f.readable())\n",
        "\n",
        "print('Is file Writable: ', f.writable())\n",
        "\n",
        "print('Is file closed: ', f.closed)\n",
        "\n",
        "f.close()\n",
        "\n",
        "print('Is file closed: ', f.closed)\n"
      ],
      "execution_count": 22,
      "outputs": [
        {
          "output_type": "stream",
          "text": [
            "File Name:  test.txt\n",
            "File Mode:  w\n",
            "Is file readable:  False\n",
            "Is file Writable:  True\n",
            "Is file closed:  False\n",
            "Is file closed:  True\n"
          ],
          "name": "stdout"
        }
      ]
    },
    {
      "cell_type": "markdown",
      "metadata": {
        "id": "wnVqPqX1MElQ"
      },
      "source": [
        "**Read Data from text files**"
      ]
    },
    {
      "cell_type": "code",
      "metadata": {
        "colab": {
          "base_uri": "https://localhost:8080/"
        },
        "id": "rJUg04SkMDfn",
        "outputId": "f58a7855-bc15-4a96-ac1f-95b4be0ca52f"
      },
      "source": [
        "# read() -> read all the data\n",
        "\n",
        "\n",
        "f = open('test.txt','r')\n",
        "\n",
        "data = f.read()\n",
        "\n",
        "print(data)\n",
        "\n",
        "f.close()"
      ],
      "execution_count": 23,
      "outputs": [
        {
          "output_type": "stream",
          "text": [
            "\n"
          ],
          "name": "stdout"
        }
      ]
    },
    {
      "cell_type": "code",
      "metadata": {
        "colab": {
          "base_uri": "https://localhost:8080/"
        },
        "id": "jdP20LRCMJH3",
        "outputId": "44de7580-2a90-455d-c321-b73b96806356"
      },
      "source": [
        "# read(n) -> read first n characters\n",
        "\n",
        "f = open('test.txt','r')\n",
        "\n",
        "data = f.read(10)\n",
        "\n",
        "print(data)\n",
        "\n",
        "f.close()"
      ],
      "execution_count": 24,
      "outputs": [
        {
          "output_type": "stream",
          "text": [
            "\n"
          ],
          "name": "stdout"
        }
      ]
    },
    {
      "cell_type": "code",
      "metadata": {
        "colab": {
          "base_uri": "https://localhost:8080/"
        },
        "id": "6G19OSkkML2Q",
        "outputId": "9468ac7c-a57a-4128-fee3-b1ce1b908bec"
      },
      "source": [
        "# readline() -> read only one line\n",
        "\n",
        "\n",
        "f = open('test.txt','r')\n",
        "\n",
        "line1 = f.readline()\n",
        "\n",
        "print(line1)\n",
        "\n",
        "line2 = f.readline()\n",
        "\n",
        "print(line2)\n",
        "\n",
        "line3 = f.readline()\n",
        "\n",
        "print(line3)\n",
        "\n",
        "f.close()"
      ],
      "execution_count": 25,
      "outputs": [
        {
          "output_type": "stream",
          "text": [
            "\n",
            "\n",
            "\n"
          ],
          "name": "stdout"
        }
      ]
    },
    {
      "cell_type": "code",
      "metadata": {
        "colab": {
          "base_uri": "https://localhost:8080/"
        },
        "id": "Dq4G_tZVMPUw",
        "outputId": "756cd48c-c7e0-4b72-faeb-76d0bda9effa"
      },
      "source": [
        "# readlines() -> read all the lines into list\n",
        "\n",
        "\n",
        "f = open('test.txt', 'r')\n",
        "\n",
        "lines = f.readlines()\n",
        "\n",
        "print(type(lines))\n",
        "\n",
        "for l in lines:\n",
        "    print(l)\n",
        "    \n",
        "f.close()"
      ],
      "execution_count": 26,
      "outputs": [
        {
          "output_type": "stream",
          "text": [
            "<class 'list'>\n"
          ],
          "name": "stdout"
        }
      ]
    },
    {
      "cell_type": "markdown",
      "metadata": {
        "id": "yGJ3ZPgGMRL-"
      },
      "source": [
        "**Write Data to text files**"
      ]
    },
    {
      "cell_type": "code",
      "metadata": {
        "id": "TuIjKKwUMS_V"
      },
      "source": [
        "f = open('test.txt', 'a')\n",
        "\n",
        "f.write(\"abc\")\n",
        "\n",
        "f.write(\"xyz\\n\")\n",
        "\n",
        "f.write(\"lmn\")\n",
        "\n",
        "f.close()\n",
        "\n",
        "# f = open('test.txt', 'a')"
      ],
      "execution_count": 27,
      "outputs": []
    },
    {
      "cell_type": "code",
      "metadata": {
        "id": "pAhZ_ypIMfc9"
      },
      "source": [
        "# writeline takes a sequence\n",
        "\n",
        "f = open('test.txt', 'w')\n",
        "\n",
        "lines = ['line-1', 'line-2', 'line-3']\n",
        "\n",
        "f.writelines(lines)\n",
        "\n",
        "f.close()"
      ],
      "execution_count": 28,
      "outputs": []
    },
    {
      "cell_type": "markdown",
      "metadata": {
        "id": "y8gqENe8MhSf"
      },
      "source": [
        "**r+ Mode**"
      ]
    },
    {
      "cell_type": "code",
      "metadata": {
        "colab": {
          "base_uri": "https://localhost:8080/"
        },
        "id": "biz4AxYAMjaW",
        "outputId": "609cadb2-757a-4fd0-b01c-9c293f9728a0"
      },
      "source": [
        "f = open('test.txt','r+')\n",
        "\n",
        "data = f.read()\n",
        "\n",
        "print(data)\n",
        "\n",
        "f.write('asdfghjkl')\n",
        "\n",
        "f.close()"
      ],
      "execution_count": 29,
      "outputs": [
        {
          "output_type": "stream",
          "text": [
            "line-1line-2line-3\n"
          ],
          "name": "stdout"
        }
      ]
    },
    {
      "cell_type": "code",
      "metadata": {
        "colab": {
          "base_uri": "https://localhost:8080/"
        },
        "id": "cTsZD9zhMm-9",
        "outputId": "cf5098f2-5e9b-4987-8d0b-def2859ec4f8"
      },
      "source": [
        "f = open('test.txt')\n",
        "\n",
        "data = f.read()\n",
        "\n",
        "print(data)"
      ],
      "execution_count": 30,
      "outputs": [
        {
          "output_type": "stream",
          "text": [
            "line-1line-2line-3asdfghjkl\n"
          ],
          "name": "stdout"
        }
      ]
    },
    {
      "cell_type": "code",
      "metadata": {
        "id": "t1xgoGpeMoqe"
      },
      "source": [
        "f = open('test.txt','r+')\n",
        "\n",
        "f.write('\\nqwertyuiop\\n')\n",
        "\n",
        "f.close()"
      ],
      "execution_count": 31,
      "outputs": []
    },
    {
      "cell_type": "markdown",
      "metadata": {
        "id": "YDyPtrvnMsVF"
      },
      "source": [
        "**'with' Statement**"
      ]
    },
    {
      "cell_type": "code",
      "metadata": {
        "colab": {
          "base_uri": "https://localhost:8080/"
        },
        "id": "4Zsx4SaxTkJQ",
        "outputId": "189abe85-5c53-49a5-f733-97da4d21f780"
      },
      "source": [
        "with open('test.txt', 'a') as f:\n",
        "    f.write('\\nabc\\n')\n",
        "    f.write('xyz\\n')\n",
        "    print('Is file closed: ', f.closed)\n",
        "print('Is file closed: ', f.closed)"
      ],
      "execution_count": 32,
      "outputs": [
        {
          "output_type": "stream",
          "text": [
            "Is file closed:  False\n",
            "Is file closed:  True\n"
          ],
          "name": "stdout"
        }
      ]
    },
    {
      "cell_type": "markdown",
      "metadata": {
        "id": "JluMew3DUG5R"
      },
      "source": [
        "**seek() and tell()**"
      ]
    },
    {
      "cell_type": "code",
      "metadata": {
        "colab": {
          "base_uri": "https://localhost:8080/"
        },
        "id": "OAXANVAVUJM3",
        "outputId": "eb71c329-937e-4df4-e43e-c222495d1db5"
      },
      "source": [
        "f = open('test.txt', 'r')\n",
        "\n",
        "print(f.tell()) # Current Position of the cursor. Print Index\n",
        "\n",
        "print(f.read(4))\n",
        "\n",
        "print(f.tell()) # Current Position of the cursor. Print Index\n",
        "\n",
        "print(f.read(5))\n",
        "\n",
        "print(f.tell()) # Current Position of the cursor. Print Index\n",
        "\n",
        "f.close()"
      ],
      "execution_count": 33,
      "outputs": [
        {
          "output_type": "stream",
          "text": [
            "0\n",
            "\n",
            "qwe\n",
            "4\n",
            "rtyui\n",
            "9\n"
          ],
          "name": "stdout"
        }
      ]
    },
    {
      "cell_type": "code",
      "metadata": {
        "colab": {
          "base_uri": "https://localhost:8080/"
        },
        "id": "krf55_jrUKtY",
        "outputId": "5810b054-cc74-4710-8298-32371b7b2f09"
      },
      "source": [
        "with open('test.txt', 'r+') as f:\n",
        "    print('The current file pointer position: ', f.tell())\n",
        "    \n",
        "    text = f.read()\n",
        "    \n",
        "    print('The current file pointer position: ', f.tell())\n",
        "    \n",
        "    f.seek(2)\n",
        "    \n",
        "    print('The current file pointer position: ', f.tell())\n",
        "    \n",
        "    f.write('HELL NO!')\n",
        "    \n",
        "    print('The current file pointer position: ', f.tell())"
      ],
      "execution_count": 34,
      "outputs": [
        {
          "output_type": "stream",
          "text": [
            "The current file pointer position:  0\n",
            "The current file pointer position:  36\n",
            "The current file pointer position:  2\n",
            "The current file pointer position:  10\n"
          ],
          "name": "stdout"
        }
      ]
    },
    {
      "cell_type": "markdown",
      "metadata": {
        "id": "4MwgnND4VFwa"
      },
      "source": [
        "**Renaming & Deleting files**"
      ]
    },
    {
      "cell_type": "code",
      "metadata": {
        "id": "-XQfCk1kUN2Q"
      },
      "source": [
        "import os\n",
        "\n",
        "os.rename('test.txt', 'test-1.txt')"
      ],
      "execution_count": 36,
      "outputs": []
    },
    {
      "cell_type": "code",
      "metadata": {
        "id": "EC5R6wN-UPK3"
      },
      "source": [
        "os.remove('test-1.txt')"
      ],
      "execution_count": 37,
      "outputs": []
    },
    {
      "cell_type": "markdown",
      "metadata": {
        "id": "ZXQSme3TURmg"
      },
      "source": [
        "**Splitting Lines**"
      ]
    },
    {
      "cell_type": "code",
      "metadata": {
        "id": "MV1uyev8UTSo"
      },
      "source": [
        "with open('test.txt', 'r') as f:\n",
        "    lines = f.readlines()\n",
        "    for l in lines:\n",
        "        words = l.split()\n",
        "        print(words)"
      ],
      "execution_count": null,
      "outputs": []
    }
  ]
}