{
  "nbformat": 4,
  "nbformat_minor": 0,
  "metadata": {
    "colab": {
      "name": "Day_06_lmda_scpe_args/krgs_errorhandl.ipynb",
      "provenance": [],
      "collapsed_sections": [
        "f3NuJQaWef21"
      ],
      "toc_visible": true
    },
    "kernelspec": {
      "name": "python3",
      "display_name": "Python 3"
    },
    "language_info": {
      "name": "python"
    }
  },
  "cells": [
    {
      "cell_type": "markdown",
      "metadata": {
        "id": "CpBfFQ0id_sw"
      },
      "source": [
        "# **Lambda expression**"
      ]
    },
    {
      "cell_type": "markdown",
      "metadata": {
        "id": "CK6_b_DlcSev"
      },
      "source": [
        "**lambda expression**\n",
        "\n",
        "lambda expressions allow us to create \"anonymous\" functions.\n",
        "\n",
        "we can quickly make ad-hoc functions without needing to properly define a function using def.\n",
        "\n",
        "\n",
        "\n",
        "lambda's body is a single expression, not a block of statements.\n",
        "\n",
        "syntax:\n",
        "\n",
        "    lambda arguments : expression\n"
      ]
    },
    {
      "cell_type": "code",
      "metadata": {
        "colab": {
          "base_uri": "https://localhost:8080/"
        },
        "id": "Xf6PTVN-c6ZK",
        "outputId": "3583a67e-5782-4d05-ad2b-a5f7e94ff1d4"
      },
      "source": [
        "def square(num):\n",
        "    return num**2 \n",
        "\n",
        "\n",
        "square(5)   "
      ],
      "execution_count": null,
      "outputs": [
        {
          "output_type": "execute_result",
          "data": {
            "text/plain": [
              "25"
            ]
          },
          "metadata": {
            "tags": []
          },
          "execution_count": 1
        }
      ]
    },
    {
      "cell_type": "code",
      "metadata": {
        "colab": {
          "base_uri": "https://localhost:8080/"
        },
        "id": "0FJeTKIadAnp",
        "outputId": "124518e6-28d9-4e24-d2aa-98690ed0589d"
      },
      "source": [
        "def square(num): return num**2\n",
        "\n",
        "square(8)"
      ],
      "execution_count": null,
      "outputs": [
        {
          "output_type": "execute_result",
          "data": {
            "text/plain": [
              "64"
            ]
          },
          "metadata": {
            "tags": []
          },
          "execution_count": 2
        }
      ]
    },
    {
      "cell_type": "code",
      "metadata": {
        "id": "1qB9dG2HdIB9"
      },
      "source": [
        "square = lambda num: num **2"
      ],
      "execution_count": null,
      "outputs": []
    },
    {
      "cell_type": "code",
      "metadata": {
        "id": "Rl9UJr4Q9nhT",
        "colab": {
          "base_uri": "https://localhost:8080/"
        },
        "outputId": "9f86503f-0c27-42ae-e850-bf4821ddbbb8"
      },
      "source": [
        "square(8)"
      ],
      "execution_count": null,
      "outputs": [
        {
          "output_type": "execute_result",
          "data": {
            "text/plain": [
              "64"
            ]
          },
          "metadata": {
            "tags": []
          },
          "execution_count": 4
        }
      ]
    },
    {
      "cell_type": "code",
      "metadata": {
        "id": "3mYrPJpE9m9r"
      },
      "source": [
        "x = lambda a : a + 10\n",
        "print(x(5))"
      ],
      "execution_count": null,
      "outputs": []
    },
    {
      "cell_type": "code",
      "metadata": {
        "id": "DCmAwALD9rTZ"
      },
      "source": [
        "x = lambda a, b : a * b\n",
        "print(x(5, 6))"
      ],
      "execution_count": null,
      "outputs": []
    },
    {
      "cell_type": "markdown",
      "metadata": {
        "id": "MmcYqfEydaGC"
      },
      "source": [
        "When and why would use this?\n",
        "\n",
        "Many function calls need a function passed in, such as map and filter. Often you only need to use the function you are passing in once, so instead of formally defining it, you just use the lambda expression. "
      ]
    },
    {
      "cell_type": "code",
      "metadata": {
        "id": "byjbq-HddfTo"
      },
      "source": [
        "my_nums=[1,2,3,4,5]"
      ],
      "execution_count": null,
      "outputs": []
    },
    {
      "cell_type": "code",
      "metadata": {
        "colab": {
          "base_uri": "https://localhost:8080/"
        },
        "id": "NQOzHuIDdd-f",
        "outputId": "deb9449b-58d8-47ed-cb27-552a91183b98"
      },
      "source": [
        "list(map(lambda num: num ** 2, my_nums))"
      ],
      "execution_count": null,
      "outputs": [
        {
          "output_type": "execute_result",
          "data": {
            "text/plain": [
              "[1, 4, 9, 16, 25]"
            ]
          },
          "metadata": {
            "tags": []
          },
          "execution_count": 9
        }
      ]
    },
    {
      "cell_type": "code",
      "metadata": {
        "colab": {
          "base_uri": "https://localhost:8080/"
        },
        "id": "F3KxaywNdl2a",
        "outputId": "a4975e53-7c7f-435e-a99a-183a742aeac8"
      },
      "source": [
        "list(filter(lambda n: n % 2 == 0,my_nums))"
      ],
      "execution_count": null,
      "outputs": [
        {
          "output_type": "execute_result",
          "data": {
            "text/plain": [
              "[2, 4]"
            ]
          },
          "metadata": {
            "tags": []
          },
          "execution_count": 12
        }
      ]
    },
    {
      "cell_type": "markdown",
      "metadata": {
        "id": "f3NuJQaWef21"
      },
      "source": [
        "#Nested Statements and Scope"
      ]
    },
    {
      "cell_type": "markdown",
      "metadata": {
        "id": "C6Qrjv_wfIGR"
      },
      "source": [
        "**LEGB Rule:**\n",
        "\n",
        "L: Local — Names assigned in any way within a function (def or lambda), and not declared global in that function.\n",
        "\n",
        "E: Enclosing function locals — Names in the local scope of any and all enclosing functions (def or lambda), from inner to outer.\n",
        "\n",
        "G: Global (module) — Names assigned at the top-level of a module file, or declared global in a def within the file.\n",
        "\n",
        "B: Built-in (Python) — Names preassigned in the built-in names module : open, range, SyntaxError,..."
      ]
    },
    {
      "cell_type": "code",
      "metadata": {
        "id": "7zKrQg9EdyhU"
      },
      "source": [
        "x = 25\n",
        "\n",
        "def printer():\n",
        "    x = 50\n",
        "    return x\n"
      ],
      "execution_count": null,
      "outputs": []
    },
    {
      "cell_type": "markdown",
      "metadata": {
        "id": "AkEQqjcNeu_4"
      },
      "source": [
        "what is the output of printer() is? 25 or 50? \n",
        "\n",
        "What is the output of print x? 25 or 50?\n",
        "\n",
        "What is the output of print(printer(x))? 25 or 50?"
      ]
    },
    {
      "cell_type": "code",
      "metadata": {
        "id": "pafKQA4ten6C",
        "colab": {
          "base_uri": "https://localhost:8080/"
        },
        "outputId": "32b5e41a-419f-4d9a-bf43-d29657dba4db"
      },
      "source": [
        "print(x)"
      ],
      "execution_count": null,
      "outputs": [
        {
          "output_type": "stream",
          "text": [
            "25\n"
          ],
          "name": "stdout"
        }
      ]
    },
    {
      "cell_type": "code",
      "metadata": {
        "id": "AGtFZs_Se0hr",
        "colab": {
          "base_uri": "https://localhost:8080/"
        },
        "outputId": "1b1271f7-56d9-4c47-e6eb-0e3ad4b8bafb"
      },
      "source": [
        "printer()"
      ],
      "execution_count": null,
      "outputs": [
        {
          "output_type": "execute_result",
          "data": {
            "text/plain": [
              "50"
            ]
          },
          "metadata": {
            "tags": []
          },
          "execution_count": 8
        }
      ]
    },
    {
      "cell_type": "code",
      "metadata": {
        "id": "kTFIEc1de5Rs",
        "colab": {
          "base_uri": "https://localhost:8080/"
        },
        "outputId": "11d4c18c-9e20-4e8d-8ba4-f2e2af3648a5"
      },
      "source": [
        "print(printer())"
      ],
      "execution_count": null,
      "outputs": [
        {
          "output_type": "stream",
          "text": [
            "50\n"
          ],
          "name": "stdout"
        }
      ]
    },
    {
      "cell_type": "markdown",
      "metadata": {
        "id": "6vnyK5Ttfarz"
      },
      "source": [
        "** Local**"
      ]
    },
    {
      "cell_type": "code",
      "metadata": {
        "id": "1y4H9Bw3fYrU"
      },
      "source": [
        "# x is local here:\n",
        "f = lambda x:x**2"
      ],
      "execution_count": null,
      "outputs": []
    },
    {
      "cell_type": "markdown",
      "metadata": {
        "id": "fAyYz9Orfe72"
      },
      "source": [
        "**Enclosing function locals**\n",
        "\n",
        "This occurs when we have a function inside a function (nested functions)"
      ]
    },
    {
      "cell_type": "code",
      "metadata": {
        "id": "kwr0R-jUfj0q"
      },
      "source": [
        "name = 'This is a global '\n",
        "\n",
        "def greet():\n",
        "    # Enclosing function\n",
        "    name = 'maddy'\n",
        "    \n",
        "    def hello():\n",
        "        print('Hello '+name)\n",
        "    \n",
        "    hello()\n",
        "\n",
        "\n",
        "\n",
        "\n"
      ],
      "execution_count": null,
      "outputs": []
    },
    {
      "cell_type": "code",
      "metadata": {
        "id": "HHM2vpnZ-Bq5",
        "colab": {
          "base_uri": "https://localhost:8080/"
        },
        "outputId": "aaf40541-7c74-4a24-cb0d-4aada39ab810"
      },
      "source": [
        "greet()"
      ],
      "execution_count": null,
      "outputs": [
        {
          "output_type": "stream",
          "text": [
            "Hello maddy\n"
          ],
          "name": "stdout"
        }
      ]
    },
    {
      "cell_type": "code",
      "metadata": {
        "colab": {
          "base_uri": "https://localhost:8080/"
        },
        "id": "1uuUQyY9nErq",
        "outputId": "dc153e26-b841-4bcb-ea8b-e3e4fb16730d"
      },
      "source": [
        "name"
      ],
      "execution_count": null,
      "outputs": [
        {
          "output_type": "execute_result",
          "data": {
            "application/vnd.google.colaboratory.intrinsic+json": {
              "type": "string"
            },
            "text/plain": [
              "'This is a global '"
            ]
          },
          "metadata": {
            "tags": []
          },
          "execution_count": 12
        }
      ]
    },
    {
      "cell_type": "markdown",
      "metadata": {
        "id": "z0T0aWv1fvGt"
      },
      "source": [
        "here maddy was used, because the hello() function was enclosed inside of the greet function"
      ]
    },
    {
      "cell_type": "code",
      "metadata": {
        "id": "KONmDNqsf4kY"
      },
      "source": [
        "print(name)"
      ],
      "execution_count": null,
      "outputs": []
    },
    {
      "cell_type": "markdown",
      "metadata": {
        "id": "BW5VyACQgHSJ"
      },
      "source": [
        "**Local Variables**"
      ]
    },
    {
      "cell_type": "markdown",
      "metadata": {
        "id": "kbJXSRqfgFAq"
      },
      "source": [
        "When you declare variables inside a function definition, they are not related in any way to other variables with the same names used outside the function\n",
        "\n",
        "variable names are local to the function. This is called the scope of the variable.\n",
        "\n",
        " All variables have the scope of the block they are declared in starting from the point of definition of the name."
      ]
    },
    {
      "cell_type": "code",
      "metadata": {
        "id": "iMxssM8ef_0g",
        "colab": {
          "base_uri": "https://localhost:8080/"
        },
        "outputId": "1406efa3-77c4-4aae-bd42-65e064149103"
      },
      "source": [
        "x = 50\n",
        "\n",
        "def func(x):\n",
        "    print('x is', x)\n",
        "    x = 2\n",
        "    print('Changed local x to', x)\n",
        "\n",
        "func(x)\n"
      ],
      "execution_count": null,
      "outputs": [
        {
          "output_type": "stream",
          "text": [
            "x is 50\n",
            "Changed local x to 2\n"
          ],
          "name": "stdout"
        }
      ]
    },
    {
      "cell_type": "code",
      "metadata": {
        "colab": {
          "base_uri": "https://localhost:8080/"
        },
        "id": "CPU8s7fQnZix",
        "outputId": "95154185-e03b-4fba-b1af-684a2bca2e02"
      },
      "source": [
        "print('x is still', x)"
      ],
      "execution_count": null,
      "outputs": [
        {
          "output_type": "stream",
          "text": [
            "x is still 50\n"
          ],
          "name": "stdout"
        }
      ]
    },
    {
      "cell_type": "markdown",
      "metadata": {
        "id": "P_K71X3ngX8N"
      },
      "source": [
        "**global**"
      ]
    },
    {
      "cell_type": "code",
      "metadata": {
        "colab": {
          "base_uri": "https://localhost:8080/"
        },
        "id": "3AexyR_GgVTO",
        "outputId": "51d44d6e-c699-4de8-a97f-7ad2ffd12d6c"
      },
      "source": [
        "x = 50\n",
        "\n",
        "def func():\n",
        "    global x\n",
        "    print('This function is now using the global x!')\n",
        "    print('Because of global x is: ', x)\n",
        "    x = 2\n",
        "    print('\\nfunc(), changed global x to', x)\n",
        "\n",
        "print('Before calling func(), x is: ', x)\n",
        "func()\n",
        "print('\\nValue of x (outside of func()) is: ', x)"
      ],
      "execution_count": null,
      "outputs": [
        {
          "output_type": "stream",
          "text": [
            "Before calling func(), x is:  50\n",
            "This function is now using the global x!\n",
            "Because of global x is:  50\n",
            "\n",
            "func(), changed global x to 2\n",
            "\n",
            "Value of x (outside of func()) is:  2\n"
          ],
          "name": "stdout"
        }
      ]
    },
    {
      "cell_type": "markdown",
      "metadata": {
        "id": "QVqr3xG2g6AJ"
      },
      "source": [
        "#*args and **kwargs"
      ]
    },
    {
      "cell_type": "markdown",
      "metadata": {
        "id": "1TlKNTDFhBmM"
      },
      "source": [
        " * *args and ***kwargs. These strange terms show up as parameters in function definitions"
      ]
    },
    {
      "cell_type": "markdown",
      "metadata": {
        "id": "rrZ8cVbmhcm2"
      },
      "source": [
        " ***args**\n",
        "\n",
        "When a function parameter starts with an asterisk, it allows for an arbitrary number of arguments, and the function takes them in as a tuple of values. "
      ]
    },
    {
      "cell_type": "code",
      "metadata": {
        "colab": {
          "base_uri": "https://localhost:8080/"
        },
        "id": "tk9eYHnwg7bs",
        "outputId": "5ae68dce-7c3d-4aec-9c65-cb2bd9c4fad8"
      },
      "source": [
        "def myfunc(*args):\n",
        "    return sum(args)*1\n",
        "\n",
        "myfunc(40)"
      ],
      "execution_count": null,
      "outputs": [
        {
          "output_type": "execute_result",
          "data": {
            "text/plain": [
              "40"
            ]
          },
          "metadata": {
            "tags": []
          },
          "execution_count": 17
        }
      ]
    },
    {
      "cell_type": "code",
      "metadata": {
        "colab": {
          "base_uri": "https://localhost:8080/"
        },
        "id": "S4nWkzs9iHrc",
        "outputId": "014754c4-5963-480c-e9fb-0cbdb4ffb0bb"
      },
      "source": [
        "def myfunc(*args):\n",
        "    return sum(args)*1\n",
        "\n",
        "myfunc(40,10)"
      ],
      "execution_count": null,
      "outputs": [
        {
          "output_type": "execute_result",
          "data": {
            "text/plain": [
              "50"
            ]
          },
          "metadata": {
            "tags": []
          },
          "execution_count": 18
        }
      ]
    },
    {
      "cell_type": "markdown",
      "metadata": {
        "id": "TibkfCRhiRjV"
      },
      "source": [
        " ****kwargs**"
      ]
    },
    {
      "cell_type": "markdown",
      "metadata": {
        "id": "8Kd7OSn2iaKW"
      },
      "source": [
        "Instead of creating a tuple of values, **kwargs builds a dictionary of key/value pairs"
      ]
    },
    {
      "cell_type": "code",
      "metadata": {
        "colab": {
          "base_uri": "https://localhost:8080/"
        },
        "id": "z4XmDYM-igwi",
        "outputId": "4e88d215-d2b4-42f6-8b2d-d1062e5b075a"
      },
      "source": [
        "def myfunc(**kwargs):\n",
        "    if 'fruit' in kwargs:\n",
        "        print(f\"My favorite fruit is {kwargs['fruit']}\") \n",
        "    else:\n",
        "        print(\"I don't like fruit\")\n",
        "        \n",
        "myfunc()"
      ],
      "execution_count": null,
      "outputs": [
        {
          "output_type": "stream",
          "text": [
            "I don't like fruit\n"
          ],
          "name": "stdout"
        }
      ]
    },
    {
      "cell_type": "code",
      "metadata": {
        "colab": {
          "base_uri": "https://localhost:8080/"
        },
        "id": "wjqpS8V4ikuk",
        "outputId": "2414572c-2f0d-483a-8606-caa2c0ec0216"
      },
      "source": [
        "myfunc()"
      ],
      "execution_count": null,
      "outputs": [
        {
          "output_type": "stream",
          "text": [
            "I don't like fruit\n"
          ],
          "name": "stdout"
        }
      ]
    },
    {
      "cell_type": "markdown",
      "metadata": {
        "id": "duMQB4YIisNC"
      },
      "source": [
        "*args and **kwargs combined \n",
        "\n",
        "You can pass *args and **kwargs into the same function, but *args have to appear before **kwargs"
      ]
    },
    {
      "cell_type": "code",
      "metadata": {
        "colab": {
          "base_uri": "https://localhost:8080/"
        },
        "id": "s3pzb25RiqJf",
        "outputId": "dd9e3e08-d5dc-4934-d9b3-3fe74907f4a6"
      },
      "source": [
        "def myfunc(*args, **kwargs):\n",
        "    if 'fruit' and 'juice' in kwargs:\n",
        "        print(f\"I like {' and '.join(args)} and my favorite fruit is {kwargs['fruit']}\")\n",
        "        print(f\"May I have some {kwargs['juice']} juice?\")\n",
        "    else:\n",
        "        pass\n",
        "        \n",
        "myfunc('eggs','spam',fruit='cherries',juice='orange')"
      ],
      "execution_count": null,
      "outputs": [
        {
          "output_type": "stream",
          "text": [
            "I like eggs and spam and my favorite fruit is cherries\n",
            "May I have some orange juice?\n"
          ],
          "name": "stdout"
        }
      ]
    },
    {
      "cell_type": "code",
      "metadata": {
        "colab": {
          "base_uri": "https://localhost:8080/",
          "height": 128
        },
        "id": "6DTCQQz0i7co",
        "outputId": "80b1a305-729c-4577-97a2-c251e6492821"
      },
      "source": [
        "myfunc(fruit='cherries',juice='orange','eggs','spam')"
      ],
      "execution_count": null,
      "outputs": [
        {
          "output_type": "error",
          "ename": "SyntaxError",
          "evalue": "ignored",
          "traceback": [
            "\u001b[0;36m  File \u001b[0;32m\"<ipython-input-24-fc6ff65addcc>\"\u001b[0;36m, line \u001b[0;32m1\u001b[0m\n\u001b[0;31m    myfunc(fruit='cherries',juice='orange','eggs','spam')\u001b[0m\n\u001b[0m                                          ^\u001b[0m\n\u001b[0;31mSyntaxError\u001b[0m\u001b[0;31m:\u001b[0m positional argument follows keyword argument\n"
          ]
        }
      ]
    },
    {
      "cell_type": "markdown",
      "metadata": {
        "id": "9NOtIoa_7YR6"
      },
      "source": [
        "#Errors and Exception Handling"
      ]
    },
    {
      "cell_type": "markdown",
      "metadata": {
        "id": "R7AhqRJC7dv5"
      },
      "source": [
        "**try and except**"
      ]
    },
    {
      "cell_type": "markdown",
      "metadata": {
        "id": "9SPeNZnb7j-g"
      },
      "source": [
        "try:\n",
        "\n",
        "    You do your operations here...\n",
        "\n",
        "except ExceptionI:\n",
        "\n",
        "       If there is ExceptionI, then execute this block.<br>\n",
        "except ExceptionII:\n",
        "\n",
        "       If there is ExceptionII, then execute this block.<br>\n",
        "\n",
        "else:\n",
        "\n",
        "     If there is no exception then execute this block. "
      ]
    },
    {
      "cell_type": "markdown",
      "metadata": {
        "id": "yefD6tHZ8FA5"
      },
      "source": [
        "try and except statements. The code which can cause an exception to occur is put in the try block and the handling of the exception is then implemented in the except block of code."
      ]
    },
    {
      "cell_type": "code",
      "metadata": {
        "colab": {
          "base_uri": "https://localhost:8080/"
        },
        "id": "cekVODtJ86pC",
        "outputId": "2b22733c-cb92-4304-dd00-f2c6d07aa63a"
      },
      "source": [
        "try:\n",
        "  print(x)\n",
        "except:\n",
        "  print(\"An exception occurred\")"
      ],
      "execution_count": null,
      "outputs": [
        {
          "output_type": "stream",
          "text": [
            "2\n"
          ],
          "name": "stdout"
        }
      ]
    },
    {
      "cell_type": "code",
      "metadata": {
        "colab": {
          "base_uri": "https://localhost:8080/"
        },
        "id": "Wj0tGHu_8gRp",
        "outputId": "9593cdcd-1305-4afa-a855-6c274a1c4bbb"
      },
      "source": [
        "try:\n",
        "  print(a)\n",
        "except NameError:\n",
        "  print(\"Variable x is not defined\")\n",
        "except:\n",
        "  print(\"Something else went wrong\")"
      ],
      "execution_count": null,
      "outputs": [
        {
          "output_type": "stream",
          "text": [
            "Variable x is not defined\n"
          ],
          "name": "stdout"
        }
      ]
    },
    {
      "cell_type": "code",
      "metadata": {
        "colab": {
          "base_uri": "https://localhost:8080/"
        },
        "id": "mAU2O52j7c-5",
        "outputId": "f6948b08-d46d-46df-ae48-5c76005cc5e9"
      },
      "source": [
        "try:\n",
        "    f = open('testfile','w')\n",
        "    f.write('Test write this')\n",
        "except IOError:\n",
        "    # This will only check for an IOError exception and then execute this print statement\n",
        "    print(\"Error: Could not find file or read data\")\n",
        "else:\n",
        "    print(\"Content written successfully\")\n",
        "    f.close()"
      ],
      "execution_count": null,
      "outputs": [
        {
          "output_type": "stream",
          "text": [
            "Content written successfully\n"
          ],
          "name": "stdout"
        }
      ]
    },
    {
      "cell_type": "code",
      "metadata": {
        "colab": {
          "base_uri": "https://localhost:8080/"
        },
        "id": "ohy78E-L8uuZ",
        "outputId": "0ddb712c-88c6-4e5f-d4c7-8dc4aad1f7b5"
      },
      "source": [
        "try:\n",
        "    f = open('testfile','r')\n",
        "    f.write('Test write this')\n",
        "except IOError:\n",
        "    # This will only check for an IOError exception and then execute this print statement\n",
        "    print(\"Error: Could not find file or read data\")\n",
        "else:\n",
        "    print(\"Content written successfully\")\n",
        "    f.close()"
      ],
      "execution_count": null,
      "outputs": [
        {
          "output_type": "stream",
          "text": [
            "Error: Could not find file or read data\n"
          ],
          "name": "stdout"
        }
      ]
    },
    {
      "cell_type": "markdown",
      "metadata": {
        "id": "tsPrK2zR8zki"
      },
      "source": [
        "**Finally**"
      ]
    },
    {
      "cell_type": "code",
      "metadata": {
        "id": "G2YkrZ6MW_5q"
      },
      "source": [
        "a=2"
      ],
      "execution_count": 2,
      "outputs": []
    },
    {
      "cell_type": "code",
      "metadata": {
        "colab": {
          "base_uri": "https://localhost:8080/"
        },
        "id": "M40ZNVTv819S",
        "outputId": "5c9cb1a7-a22d-4fee-ce4f-50a3f1656e68"
      },
      "source": [
        "try:\n",
        "  print(a)\n",
        "except:\n",
        "  print(\"Something went wrong\")\n",
        "finally:\n",
        "  print(\"The 'try except' is finished\")"
      ],
      "execution_count": 3,
      "outputs": [
        {
          "output_type": "stream",
          "text": [
            "2\n",
            "The 'try except' is finished\n"
          ],
          "name": "stdout"
        }
      ]
    },
    {
      "cell_type": "markdown",
      "metadata": {
        "id": "M9Bg5v-M9DzC"
      },
      "source": [
        "**Raise an exception**"
      ]
    },
    {
      "cell_type": "code",
      "metadata": {
        "colab": {
          "base_uri": "https://localhost:8080/",
          "height": 195
        },
        "id": "xVj94WT_9GEy",
        "outputId": "a369b936-6dd9-4336-f260-ccd93296373b"
      },
      "source": [
        "x = -1\n",
        "\n",
        "if x < 0:\n",
        "  raise Exception(\"Sorry, no numbers below zero\")"
      ],
      "execution_count": null,
      "outputs": [
        {
          "output_type": "error",
          "ename": "Exception",
          "evalue": "ignored",
          "traceback": [
            "\u001b[0;31m---------------------------------------------------------------------------\u001b[0m",
            "\u001b[0;31mException\u001b[0m                                 Traceback (most recent call last)",
            "\u001b[0;32m<ipython-input-37-2edc57024fbc>\u001b[0m in \u001b[0;36m<module>\u001b[0;34m()\u001b[0m\n\u001b[1;32m      2\u001b[0m \u001b[0;34m\u001b[0m\u001b[0m\n\u001b[1;32m      3\u001b[0m \u001b[0;32mif\u001b[0m \u001b[0mx\u001b[0m \u001b[0;34m<\u001b[0m \u001b[0;36m0\u001b[0m\u001b[0;34m:\u001b[0m\u001b[0;34m\u001b[0m\u001b[0;34m\u001b[0m\u001b[0m\n\u001b[0;32m----> 4\u001b[0;31m   \u001b[0;32mraise\u001b[0m \u001b[0mException\u001b[0m\u001b[0;34m(\u001b[0m\u001b[0;34m\"Sorry, no numbers below zero\"\u001b[0m\u001b[0;34m)\u001b[0m\u001b[0;34m\u001b[0m\u001b[0;34m\u001b[0m\u001b[0m\n\u001b[0m",
            "\u001b[0;31mException\u001b[0m: Sorry, no numbers below zero"
          ]
        }
      ]
    },
    {
      "cell_type": "code",
      "metadata": {
        "colab": {
          "base_uri": "https://localhost:8080/",
          "height": 197
        },
        "id": "Z_gSc7aI9JZ4",
        "outputId": "7d076eb2-726a-4bf8-e3be-9025f99a669e"
      },
      "source": [
        "x = \"hello\"\n",
        "\n",
        "if not type(x) is int:\n",
        "  raise TypeError(\"Only integers are allowed\")"
      ],
      "execution_count": null,
      "outputs": [
        {
          "output_type": "error",
          "ename": "TypeError",
          "evalue": "ignored",
          "traceback": [
            "\u001b[0;31m---------------------------------------------------------------------------\u001b[0m",
            "\u001b[0;31mTypeError\u001b[0m                                 Traceback (most recent call last)",
            "\u001b[0;32m<ipython-input-7-bc91768a6271>\u001b[0m in \u001b[0;36m<module>\u001b[0;34m()\u001b[0m\n\u001b[1;32m      2\u001b[0m \u001b[0;34m\u001b[0m\u001b[0m\n\u001b[1;32m      3\u001b[0m \u001b[0;32mif\u001b[0m \u001b[0;32mnot\u001b[0m \u001b[0mtype\u001b[0m\u001b[0;34m(\u001b[0m\u001b[0mx\u001b[0m\u001b[0;34m)\u001b[0m \u001b[0;32mis\u001b[0m \u001b[0mint\u001b[0m\u001b[0;34m:\u001b[0m\u001b[0;34m\u001b[0m\u001b[0;34m\u001b[0m\u001b[0m\n\u001b[0;32m----> 4\u001b[0;31m   \u001b[0;32mraise\u001b[0m \u001b[0mTypeError\u001b[0m\u001b[0;34m(\u001b[0m\u001b[0;34m\"Only integers are allowed\"\u001b[0m\u001b[0;34m)\u001b[0m\u001b[0;34m\u001b[0m\u001b[0;34m\u001b[0m\u001b[0m\n\u001b[0m",
            "\u001b[0;31mTypeError\u001b[0m: Only integers are allowed"
          ]
        }
      ]
    },
    {
      "cell_type": "markdown",
      "metadata": {
        "id": "EpjL2KcbuE47"
      },
      "source": [
        "8"
      ]
    }
  ]
}