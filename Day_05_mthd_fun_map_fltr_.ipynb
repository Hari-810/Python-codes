{
  "nbformat": 4,
  "nbformat_minor": 0,
  "metadata": {
    "colab": {
      "name": "Day_05_mthd_fun_map_fltr_.ipynb",
      "provenance": [],
      "collapsed_sections": [
        "iz3_pxUcHA0M",
        "cyvksY1HN96v",
        "2WQNXoFcOS_w",
        "A-zWn5lQOitY"
      ],
      "toc_visible": true
    },
    "kernelspec": {
      "name": "python3",
      "display_name": "Python 3"
    },
    "language_info": {
      "name": "python"
    }
  },
  "cells": [
    {
      "cell_type": "markdown",
      "metadata": {
        "id": "Cb2hLqvpFHPC"
      },
      "source": [
        "# Methods"
      ]
    },
    {
      "cell_type": "markdown",
      "metadata": {
        "id": "lMfI04GGFGSF"
      },
      "source": [
        "Methods are essentially functions built into objects. \n",
        "\n",
        "Methods perform specific actions on an object and can also take arguments, just like a function. \n",
        "\n",
        "Methods are in the form:\n",
        "\n",
        "object.method(arg1,arg2,etc...)\n"
      ]
    },
    {
      "cell_type": "code",
      "metadata": {
        "id": "snyzyW-5E_Ce"
      },
      "source": [
        "# Create a simple list\n",
        "lst = [1,2,3,4,5]"
      ],
      "execution_count": 76,
      "outputs": []
    },
    {
      "cell_type": "code",
      "metadata": {
        "colab": {
          "base_uri": "https://localhost:8080/"
        },
        "id": "caM-Err9F5t5",
        "outputId": "6f095e0c-7e3d-4215-b0f8-913dc2434e31"
      },
      "source": [
        "lst"
      ],
      "execution_count": 77,
      "outputs": [
        {
          "output_type": "execute_result",
          "data": {
            "text/plain": [
              "[1, 2, 3, 4, 5]"
            ]
          },
          "metadata": {
            "tags": []
          },
          "execution_count": 77
        }
      ]
    },
    {
      "cell_type": "code",
      "metadata": {
        "id": "mh217nQnF6dF"
      },
      "source": [
        "lst.append(8)"
      ],
      "execution_count": 78,
      "outputs": []
    },
    {
      "cell_type": "code",
      "metadata": {
        "colab": {
          "base_uri": "https://localhost:8080/"
        },
        "id": "jkMItQZqWK6W",
        "outputId": "f7fda2ea-ede2-4142-c277-67b40163c16a"
      },
      "source": [
        "lst"
      ],
      "execution_count": 79,
      "outputs": [
        {
          "output_type": "execute_result",
          "data": {
            "text/plain": [
              "[1, 2, 3, 4, 5, 8]"
            ]
          },
          "metadata": {
            "tags": []
          },
          "execution_count": 79
        }
      ]
    },
    {
      "cell_type": "code",
      "metadata": {
        "colab": {
          "base_uri": "https://localhost:8080/"
        },
        "id": "2SO3KUO2F8yN",
        "outputId": "d1461e4d-58fb-46c1-d680-80058292cb76"
      },
      "source": [
        "lst.count(2)"
      ],
      "execution_count": 81,
      "outputs": [
        {
          "output_type": "execute_result",
          "data": {
            "text/plain": [
              "1"
            ]
          },
          "metadata": {
            "tags": []
          },
          "execution_count": 81
        }
      ]
    },
    {
      "cell_type": "code",
      "metadata": {
        "colab": {
          "base_uri": "https://localhost:8080/"
        },
        "id": "u0DvvYKpGFKC",
        "outputId": "95c41482-0a8b-4784-8020-ced51aadfae8"
      },
      "source": [
        "help(lst.count)"
      ],
      "execution_count": 82,
      "outputs": [
        {
          "output_type": "stream",
          "text": [
            "Help on built-in function count:\n",
            "\n",
            "count(value, /) method of builtins.list instance\n",
            "    Return number of occurrences of value.\n",
            "\n"
          ],
          "name": "stdout"
        }
      ]
    },
    {
      "cell_type": "markdown",
      "metadata": {
        "id": "iz3_pxUcHA0M"
      },
      "source": [
        "# **function**"
      ]
    },
    {
      "cell_type": "markdown",
      "metadata": {
        "id": "6rnOHgx9G5cQ"
      },
      "source": [
        "**Function**\n",
        "\n",
        "A function is a useful device that groups together a set of statements so they can be run more than once. \n",
        "\n",
        "They can also let us specify parameters that can serve as inputs to the functions.\n",
        "\n",
        "Functions allow us to not have to repeatedly write the same code again and again. \n",
        "\n",
        "Functions will be one of most basic levels of reusing code in Python."
      ]
    },
    {
      "cell_type": "markdown",
      "metadata": {
        "id": "2aQlqXQVHIj1"
      },
      "source": [
        "**Why to use functions?**\n",
        "\n",
        "You should use functions when you plan on using a block of code multiple times. \n",
        "\n",
        "The function will allow you to call the same block of code without having to write it multiple times."
      ]
    },
    {
      "cell_type": "markdown",
      "metadata": {
        "id": "itlDSqz4HPgC"
      },
      "source": [
        "***Function Topics***\n",
        "\n",
        "def keyword<br>\n",
        "simple example of a function<br>\n",
        "calling a function with ()<br>\n",
        "accepting parameters<br>\n",
        "print versus return<br>\n",
        "adding in logic inside a function<br>\n",
        "multiple returns inside a function<br>\n",
        "adding in loops inside a function<br>\n",
        "tuple unpacking<br>\n",
        "interactions between functions"
      ]
    },
    {
      "cell_type": "markdown",
      "metadata": {
        "id": "fX9_SFozHdEa"
      },
      "source": [
        "**def keyword**"
      ]
    },
    {
      "cell_type": "code",
      "metadata": {
        "id": "L2darTnzHD_U"
      },
      "source": [
        "def name_of_function(arg1,arg2):\n",
        "    '''\n",
        "    This is where the function's Document String (docstring) goes.\n",
        "    When you call help() on your function it will be printed out.\n",
        "    '''\n",
        "    # Do stuff here\n",
        "    # Return desired result"
      ],
      "execution_count": null,
      "outputs": []
    },
    {
      "cell_type": "code",
      "metadata": {
        "id": "JBLeGCClHiHz"
      },
      "source": [
        "def say_hello():\n",
        "    print('hello')"
      ],
      "execution_count": 83,
      "outputs": []
    },
    {
      "cell_type": "markdown",
      "metadata": {
        "id": "DOB9sI_dHj6r"
      },
      "source": [
        "Calling a function with ()"
      ]
    },
    {
      "cell_type": "code",
      "metadata": {
        "id": "hhpKrOBBHkYS",
        "colab": {
          "base_uri": "https://localhost:8080/"
        },
        "outputId": "c5b0396a-3c41-4a13-965f-cc55fcc1ce20"
      },
      "source": [
        "say_hello()"
      ],
      "execution_count": 84,
      "outputs": [
        {
          "output_type": "stream",
          "text": [
            "hello\n"
          ],
          "name": "stdout"
        }
      ]
    },
    {
      "cell_type": "markdown",
      "metadata": {
        "id": "QM7UkX70H3lf"
      },
      "source": [
        "**Accepting parameters (arguments)**"
      ]
    },
    {
      "cell_type": "code",
      "metadata": {
        "id": "M8EvzJm_H6_0"
      },
      "source": [
        "def greeting(name):\n",
        "    print(f'Hello {name}')"
      ],
      "execution_count": 85,
      "outputs": []
    },
    {
      "cell_type": "code",
      "metadata": {
        "id": "fWaa7gN2H8sH",
        "colab": {
          "base_uri": "https://localhost:8080/"
        },
        "outputId": "50392bd2-1b56-4fec-d646-200d17741b6b"
      },
      "source": [
        "greeting('Jack')"
      ],
      "execution_count": 86,
      "outputs": [
        {
          "output_type": "stream",
          "text": [
            "Hello Jack\n"
          ],
          "name": "stdout"
        }
      ]
    },
    {
      "cell_type": "code",
      "metadata": {
        "colab": {
          "base_uri": "https://localhost:8080/"
        },
        "id": "CRjSQfHHPWPS",
        "outputId": "7039dc7e-f67a-4e29-bd0b-6ebda9bfa918"
      },
      "source": [
        "name='Rose'\n",
        "greeting(name)"
      ],
      "execution_count": 87,
      "outputs": [
        {
          "output_type": "stream",
          "text": [
            "Hello Rose\n"
          ],
          "name": "stdout"
        }
      ]
    },
    {
      "cell_type": "markdown",
      "metadata": {
        "id": "x4NmPxLiH_IH"
      },
      "source": [
        "**Using return**"
      ]
    },
    {
      "cell_type": "markdown",
      "metadata": {
        "id": "H4ttehMVIFCA"
      },
      "source": [
        " return statement. return allows a function to return a result that can then be stored as a variable, or used in whatever manner a user wants."
      ]
    },
    {
      "cell_type": "code",
      "metadata": {
        "id": "pGgyxtXwIHBX"
      },
      "source": [
        "def add_num(num1,num2):\n",
        "    return num1+num2"
      ],
      "execution_count": 88,
      "outputs": []
    },
    {
      "cell_type": "code",
      "metadata": {
        "id": "VHUqPXQSIIUG",
        "colab": {
          "base_uri": "https://localhost:8080/"
        },
        "outputId": "aa045bae-84ce-4f04-d04d-4dbb6291a30d"
      },
      "source": [
        "add_num(4,5)"
      ],
      "execution_count": 9,
      "outputs": [
        {
          "output_type": "execute_result",
          "data": {
            "text/plain": [
              "9"
            ]
          },
          "metadata": {
            "tags": []
          },
          "execution_count": 9
        }
      ]
    },
    {
      "cell_type": "code",
      "metadata": {
        "id": "9fTXUFU4IJ4d"
      },
      "source": [
        "# Can also save as variable due to return\n",
        "result = add_num(4,5)"
      ],
      "execution_count": 10,
      "outputs": []
    },
    {
      "cell_type": "code",
      "metadata": {
        "colab": {
          "base_uri": "https://localhost:8080/"
        },
        "id": "04IwgToTP1qY",
        "outputId": "d377c8e2-9cdc-43da-84a0-e636b1a7003a"
      },
      "source": [
        "result"
      ],
      "execution_count": 90,
      "outputs": [
        {
          "output_type": "execute_result",
          "data": {
            "text/plain": [
              "9"
            ]
          },
          "metadata": {
            "tags": []
          },
          "execution_count": 90
        }
      ]
    },
    {
      "cell_type": "code",
      "metadata": {
        "id": "Xip5wHZRIM-4",
        "colab": {
          "base_uri": "https://localhost:8080/",
          "height": 35
        },
        "outputId": "71699148-59ac-4885-fc12-1108494b99e1"
      },
      "source": [
        "add_num('one','two')"
      ],
      "execution_count": 91,
      "outputs": [
        {
          "output_type": "execute_result",
          "data": {
            "application/vnd.google.colaboratory.intrinsic+json": {
              "type": "string"
            },
            "text/plain": [
              "'onetwo'"
            ]
          },
          "metadata": {
            "tags": []
          },
          "execution_count": 91
        }
      ]
    },
    {
      "cell_type": "markdown",
      "metadata": {
        "id": "uGVpEvCdIRCe"
      },
      "source": [
        "**difference between return and print**"
      ]
    },
    {
      "cell_type": "code",
      "metadata": {
        "id": "FIK-D-0zIS4V"
      },
      "source": [
        "def print_result(a,b):\n",
        "    print(a+b)"
      ],
      "execution_count": 93,
      "outputs": []
    },
    {
      "cell_type": "code",
      "metadata": {
        "id": "A0R_wGBQIZ5E",
        "colab": {
          "base_uri": "https://localhost:8080/"
        },
        "outputId": "2b464ca6-1503-442c-e99b-9c3c85a0bbbd"
      },
      "source": [
        "print_result(10,5)"
      ],
      "execution_count": 94,
      "outputs": [
        {
          "output_type": "stream",
          "text": [
            "15\n"
          ],
          "name": "stdout"
        }
      ]
    },
    {
      "cell_type": "code",
      "metadata": {
        "id": "dxsGccuYIhgE",
        "colab": {
          "base_uri": "https://localhost:8080/"
        },
        "outputId": "4f8acd30-289d-4c74-b3da-1ad8334724d2"
      },
      "source": [
        "my_result = print_result(20,20)"
      ],
      "execution_count": 95,
      "outputs": [
        {
          "output_type": "stream",
          "text": [
            "40\n"
          ],
          "name": "stdout"
        }
      ]
    },
    {
      "cell_type": "code",
      "metadata": {
        "id": "2rM0OzpVIkwP"
      },
      "source": [
        "my_result"
      ],
      "execution_count": 96,
      "outputs": []
    },
    {
      "cell_type": "code",
      "metadata": {
        "id": "L7EKn9BlIlyg",
        "colab": {
          "base_uri": "https://localhost:8080/"
        },
        "outputId": "12598ab2-3fc5-4060-f25e-772263b4769c"
      },
      "source": [
        "type(my_result)"
      ],
      "execution_count": 97,
      "outputs": [
        {
          "output_type": "execute_result",
          "data": {
            "text/plain": [
              "NoneType"
            ]
          },
          "metadata": {
            "tags": []
          },
          "execution_count": 97
        }
      ]
    },
    {
      "cell_type": "markdown",
      "metadata": {
        "id": "QJfEBa3SIpKz"
      },
      "source": [
        "print_result() doesn't let you actually save the result to a variable! It only prints it out, with print() returning None for the assignment!\n",
        "\n"
      ]
    },
    {
      "cell_type": "code",
      "metadata": {
        "id": "66n_Mo_FI7Ir"
      },
      "source": [
        "def even_check(number):\n",
        "    return number % 2 == 0"
      ],
      "execution_count": 98,
      "outputs": []
    },
    {
      "cell_type": "code",
      "metadata": {
        "id": "r8tYMaRrI8yr",
        "colab": {
          "base_uri": "https://localhost:8080/"
        },
        "outputId": "51fa11f3-c8bb-4c75-f51a-8d1c3ce421ad"
      },
      "source": [
        "even_check(20)"
      ],
      "execution_count": 99,
      "outputs": [
        {
          "output_type": "execute_result",
          "data": {
            "text/plain": [
              "True"
            ]
          },
          "metadata": {
            "tags": []
          },
          "execution_count": 99
        }
      ]
    },
    {
      "cell_type": "code",
      "metadata": {
        "id": "O8AYGhm6I-zU",
        "colab": {
          "base_uri": "https://localhost:8080/"
        },
        "outputId": "9021e448-9327-4054-831c-4fee88cf8ada"
      },
      "source": [
        "even_check(21)"
      ],
      "execution_count": 100,
      "outputs": [
        {
          "output_type": "execute_result",
          "data": {
            "text/plain": [
              "False"
            ]
          },
          "metadata": {
            "tags": []
          },
          "execution_count": 100
        }
      ]
    },
    {
      "cell_type": "markdown",
      "metadata": {
        "id": "HTSjIpmTJXtO"
      },
      "source": [
        "***Check if any number in a list is even***"
      ]
    },
    {
      "cell_type": "code",
      "metadata": {
        "id": "zJztSdW6JauK"
      },
      "source": [
        "def check_even_list(num_list):\n",
        "    # Go through each number\n",
        "    for number in num_list:\n",
        "        # Once we get a \"hit\" on an even number, we return True\n",
        "        if number % 2 == 0:\n",
        "            print(number)\n",
        "            return True\n",
        "        # Otherwise we don't do anything\n",
        "        else:\n",
        "            pass"
      ],
      "execution_count": 104,
      "outputs": []
    },
    {
      "cell_type": "code",
      "metadata": {
        "colab": {
          "base_uri": "https://localhost:8080/"
        },
        "id": "fmAtFM4VJfzN",
        "outputId": "e0e82784-74f1-4bbc-c260-61e5f1b2b492"
      },
      "source": [
        "check_even_list([1,2,3,4])"
      ],
      "execution_count": 105,
      "outputs": [
        {
          "output_type": "stream",
          "text": [
            "2\n"
          ],
          "name": "stdout"
        },
        {
          "output_type": "execute_result",
          "data": {
            "text/plain": [
              "True"
            ]
          },
          "metadata": {
            "tags": []
          },
          "execution_count": 105
        }
      ]
    },
    {
      "cell_type": "code",
      "metadata": {
        "id": "t9YzlRZFJ-D3"
      },
      "source": [
        "check_even_list([1,1,1])"
      ],
      "execution_count": 102,
      "outputs": []
    },
    {
      "cell_type": "code",
      "metadata": {
        "id": "J9vUZafzKBBv"
      },
      "source": [
        "def check_even_list(num_list):\n",
        "    # Go through each number\n",
        "    for number in num_list:\n",
        "        # Once we get a \"hit\" on an even number, we return True\n",
        "        if number % 2 == 0:\n",
        "            return True\n",
        "        # This is WRONG! This returns False at the very first odd number!\n",
        "        # It doesn't end up checking the other numbers in the list!\n",
        "        else:\n",
        "            return False"
      ],
      "execution_count": 107,
      "outputs": []
    },
    {
      "cell_type": "code",
      "metadata": {
        "colab": {
          "base_uri": "https://localhost:8080/"
        },
        "id": "KjFpbA5tKEIz",
        "outputId": "19b1445c-51bc-48fe-b9ea-77d9379c816d"
      },
      "source": [
        "check_even_list([1,2,3])"
      ],
      "execution_count": 37,
      "outputs": [
        {
          "output_type": "execute_result",
          "data": {
            "text/plain": [
              "False"
            ]
          },
          "metadata": {
            "tags": []
          },
          "execution_count": 37
        }
      ]
    },
    {
      "cell_type": "markdown",
      "metadata": {
        "id": "K4Td_7byKaHY"
      },
      "source": [
        "**Return all even numbers in a list**"
      ]
    },
    {
      "cell_type": "code",
      "metadata": {
        "id": "LUG60he0Kcsp"
      },
      "source": [
        "def check_even_list(num_list):\n",
        "    \n",
        "    even_numbers = []\n",
        "    \n",
        "    # Go through each number\n",
        "    for number in num_list:\n",
        "        # Once we get a \"hit\" on an even number, we append the even number\n",
        "        if number % 2 == 0:\n",
        "            even_numbers.append(number)\n",
        "        # Don't do anything if its not even\n",
        "        else:\n",
        "            pass\n",
        "    # Notice the indentation! This ensures we run through the entire for loop    \n",
        "    return even_numbers"
      ],
      "execution_count": 108,
      "outputs": []
    },
    {
      "cell_type": "code",
      "metadata": {
        "id": "Vvp_R5s-KesN",
        "colab": {
          "base_uri": "https://localhost:8080/"
        },
        "outputId": "c5a37269-f904-4c5a-a479-e9130db072f7"
      },
      "source": [
        "check_even_list([1,2,3,4,5,6])"
      ],
      "execution_count": 109,
      "outputs": [
        {
          "output_type": "execute_result",
          "data": {
            "text/plain": [
              "[2, 4, 6]"
            ]
          },
          "metadata": {
            "tags": []
          },
          "execution_count": 109
        }
      ]
    },
    {
      "cell_type": "code",
      "metadata": {
        "id": "5LlOr0PFKio-",
        "colab": {
          "base_uri": "https://localhost:8080/"
        },
        "outputId": "d384b82c-bdeb-4ce3-8485-c03ed9834d78"
      },
      "source": [
        "check_even_list([1,3,5])"
      ],
      "execution_count": 110,
      "outputs": [
        {
          "output_type": "execute_result",
          "data": {
            "text/plain": [
              "[]"
            ]
          },
          "metadata": {
            "tags": []
          },
          "execution_count": 110
        }
      ]
    },
    {
      "cell_type": "markdown",
      "metadata": {
        "id": "dXBVIjoqKlw7"
      },
      "source": [
        "**Returning Tuples for Unpacking**"
      ]
    },
    {
      "cell_type": "code",
      "metadata": {
        "id": "HeBftqByKuTI"
      },
      "source": [
        "stock_prices = [('AAPL',200),('GOOG',300),('MSFT',400)]"
      ],
      "execution_count": 111,
      "outputs": []
    },
    {
      "cell_type": "code",
      "metadata": {
        "id": "pAiLN4BcKx-m",
        "colab": {
          "base_uri": "https://localhost:8080/"
        },
        "outputId": "ece74e98-2020-4bd1-c928-af7f91dfa780"
      },
      "source": [
        "for item in stock_prices:\n",
        "    print(item)"
      ],
      "execution_count": 112,
      "outputs": [
        {
          "output_type": "stream",
          "text": [
            "('AAPL', 200)\n",
            "('GOOG', 300)\n",
            "('MSFT', 400)\n"
          ],
          "name": "stdout"
        }
      ]
    },
    {
      "cell_type": "code",
      "metadata": {
        "id": "YKf1k-brK0d-",
        "colab": {
          "base_uri": "https://localhost:8080/"
        },
        "outputId": "10646c03-9929-4aa9-cc57-022b36d61e74"
      },
      "source": [
        "for stock,price in stock_prices:\n",
        "    print(stock)"
      ],
      "execution_count": 113,
      "outputs": [
        {
          "output_type": "stream",
          "text": [
            "AAPL\n",
            "GOOG\n",
            "MSFT\n"
          ],
          "name": "stdout"
        }
      ]
    },
    {
      "cell_type": "code",
      "metadata": {
        "id": "jiGV-WgdLCe_",
        "colab": {
          "base_uri": "https://localhost:8080/"
        },
        "outputId": "29c61999-950b-4413-bcc1-c1710919044c"
      },
      "source": [
        "for stock,price in stock_prices:\n",
        "    print(price)"
      ],
      "execution_count": 44,
      "outputs": [
        {
          "output_type": "stream",
          "text": [
            "200\n",
            "300\n",
            "400\n"
          ],
          "name": "stdout"
        }
      ]
    },
    {
      "cell_type": "markdown",
      "metadata": {
        "id": "DYpT5afBLNRH"
      },
      "source": [
        "functions often return tuple"
      ]
    },
    {
      "cell_type": "code",
      "metadata": {
        "id": "h1dFOojFLJ42"
      },
      "source": [
        "work_hours = [('Abby',100),('Billy',400),('Cassie',800)]"
      ],
      "execution_count": 45,
      "outputs": []
    },
    {
      "cell_type": "code",
      "metadata": {
        "id": "rMfBa2pILOy6"
      },
      "source": [
        "def employee_check(work_hours):\n",
        "    \n",
        "    # Set some max value to intially beat, like zero hours\n",
        "    current_max = 0\n",
        "    # Set some empty value before the loop\n",
        "    employee_of_month = ''\n",
        "    \n",
        "    for employee,hours in work_hours:\n",
        "        if hours > current_max:\n",
        "            current_max = hours\n",
        "            employee_of_month = employee\n",
        "        else:\n",
        "            pass\n",
        "    \n",
        "    # Notice the indentation here\n",
        "    return (employee_of_month,current_max)"
      ],
      "execution_count": 114,
      "outputs": []
    },
    {
      "cell_type": "code",
      "metadata": {
        "colab": {
          "base_uri": "https://localhost:8080/"
        },
        "id": "lT1VFnbzLQoG",
        "outputId": "965567d0-7911-4783-cf24-8142449756d7"
      },
      "source": [
        "employee_check(work_hours)"
      ],
      "execution_count": 47,
      "outputs": [
        {
          "output_type": "execute_result",
          "data": {
            "text/plain": [
              "('Cassie', 800)"
            ]
          },
          "metadata": {
            "tags": []
          },
          "execution_count": 47
        }
      ]
    },
    {
      "cell_type": "markdown",
      "metadata": {
        "id": "OIB1WhuNLvpf"
      },
      "source": [
        "**GAME**"
      ]
    },
    {
      "cell_type": "code",
      "metadata": {
        "id": "GtC47nXrL_T4"
      },
      "source": [
        "mylist = [' ','O',' ']"
      ],
      "execution_count": 48,
      "outputs": []
    },
    {
      "cell_type": "code",
      "metadata": {
        "id": "vB-ErOAVMAdM"
      },
      "source": [
        "from random import shuffle\n",
        "\n",
        "def shuffle_list(mylist):\n",
        "    # Take in list, and returned shuffle versioned\n",
        "    shuffle(mylist)\n",
        "    \n",
        "    return mylist"
      ],
      "execution_count": 115,
      "outputs": []
    },
    {
      "cell_type": "code",
      "metadata": {
        "id": "qwHQBWmJLvO2"
      },
      "source": [
        "def player_guess():\n",
        "    \n",
        "    guess = ''\n",
        "    \n",
        "    while guess not in ['0','1','2']:\n",
        "        \n",
        "        # Recall input() returns a string\n",
        "        guess = input(\"Pick a number: 0, 1, or 2:  \")\n",
        "    \n",
        "    return int(guess) "
      ],
      "execution_count": 51,
      "outputs": []
    },
    {
      "cell_type": "code",
      "metadata": {
        "id": "YDqIt12jL5De"
      },
      "source": [
        "def check_guess(mylist,guess):\n",
        "    if mylist[guess] == 'O':\n",
        "        print('Correct Guess!')\n",
        "    else:\n",
        "        print('Wrong! Better luck next time')\n",
        "        print(mylist)"
      ],
      "execution_count": 52,
      "outputs": []
    },
    {
      "cell_type": "code",
      "metadata": {
        "colab": {
          "base_uri": "https://localhost:8080/"
        },
        "id": "p3c4hI95L8Co",
        "outputId": "f3dc64ac-e632-4aed-9493-f5a9a6b588b2"
      },
      "source": [
        "# Initial List\n",
        "mylist = [' ','O',' ']\n",
        "\n",
        "# Shuffle It\n",
        "mixedup_list = shuffle_list(mylist)\n",
        "\n",
        "# Get User's Guess\n",
        "guess = player_guess()\n",
        "\n",
        "# Check User's Guess\n",
        "#------------------------\n",
        "# Notice how this function takes in the input \n",
        "# based on the output of other functions!\n",
        "check_guess(mixedup_list,guess)"
      ],
      "execution_count": 117,
      "outputs": [
        {
          "output_type": "stream",
          "text": [
            "Pick a number: 0, 1, or 2:  1\n",
            "Wrong! Better luck next time\n",
            "['O', ' ', ' ']\n"
          ],
          "name": "stdout"
        }
      ]
    },
    {
      "cell_type": "markdown",
      "metadata": {
        "id": "cyvksY1HN96v"
      },
      "source": [
        "# Map function"
      ]
    },
    {
      "cell_type": "markdown",
      "metadata": {
        "id": "IX0r1iz-ODUE"
      },
      "source": [
        "The map function allows you to \"map\" a function to an iterable object. That is to say you can quickly call the same function to every item in an iterable, such as a list\n",
        "\n",
        "syn: map(fun, iter)"
      ]
    },
    {
      "cell_type": "code",
      "metadata": {
        "id": "hyhTbD-nOCcP"
      },
      "source": [
        "def square(num):\n",
        "    return num**2"
      ],
      "execution_count": 54,
      "outputs": []
    },
    {
      "cell_type": "code",
      "metadata": {
        "id": "AA_ngSANOIO5"
      },
      "source": [
        "my_nums = [1,2,3,4,5]"
      ],
      "execution_count": 55,
      "outputs": []
    },
    {
      "cell_type": "code",
      "metadata": {
        "colab": {
          "base_uri": "https://localhost:8080/"
        },
        "id": "lD1UFAgXOJvy",
        "outputId": "82feab86-cc59-432f-dcdb-c106ca9d8a14"
      },
      "source": [
        "map(square,my_nums)"
      ],
      "execution_count": 118,
      "outputs": [
        {
          "output_type": "execute_result",
          "data": {
            "text/plain": [
              "<map at 0x7fee09e9b690>"
            ]
          },
          "metadata": {
            "tags": []
          },
          "execution_count": 118
        }
      ]
    },
    {
      "cell_type": "code",
      "metadata": {
        "colab": {
          "base_uri": "https://localhost:8080/"
        },
        "id": "4wus2Iu2OLAm",
        "outputId": "9761ba36-be1c-4411-9d8a-2a1b76df8301"
      },
      "source": [
        "# To get the results, either iterate through map() \n",
        "# or just cast to a list\n",
        "list(map(square,my_nums))"
      ],
      "execution_count": 119,
      "outputs": [
        {
          "output_type": "execute_result",
          "data": {
            "text/plain": [
              "[1, 4, 9, 16, 25]"
            ]
          },
          "metadata": {
            "tags": []
          },
          "execution_count": 119
        }
      ]
    },
    {
      "cell_type": "code",
      "metadata": {
        "id": "br9DZGeHOMz7"
      },
      "source": [
        "def splicer(mystring):\n",
        "    if len(mystring) % 2 == 0:\n",
        "        return 'even'\n",
        "    else:\n",
        "        return mystring[0]"
      ],
      "execution_count": 58,
      "outputs": []
    },
    {
      "cell_type": "code",
      "metadata": {
        "id": "lsOz-zvTOPDZ"
      },
      "source": [
        "mynames = ['John','Cindy','Sarah','Kelly','Mike']"
      ],
      "execution_count": 59,
      "outputs": []
    },
    {
      "cell_type": "code",
      "metadata": {
        "colab": {
          "base_uri": "https://localhost:8080/"
        },
        "id": "7bkVsldZOQZ5",
        "outputId": "759ff17e-3370-4000-b456-4a95728917d9"
      },
      "source": [
        "list(map(splicer,mynames))"
      ],
      "execution_count": 120,
      "outputs": [
        {
          "output_type": "execute_result",
          "data": {
            "text/plain": [
              "['even', 'C', 'S', 'K', 'even']"
            ]
          },
          "metadata": {
            "tags": []
          },
          "execution_count": 120
        }
      ]
    },
    {
      "cell_type": "code",
      "metadata": {
        "colab": {
          "base_uri": "https://localhost:8080/"
        },
        "id": "c0E08jYlRj-e",
        "outputId": "fea701f6-41aa-4e70-c311-cb2e48791f5c"
      },
      "source": [
        "# Return double of n\n",
        "def mul(n):\n",
        "    return n * n\n",
        "  \n",
        "# We double all numbers using map()\n",
        "numbers = (1, 2, 3, 4)\n",
        "result = map(mul, numbers)\n",
        "print(list(result))"
      ],
      "execution_count": 121,
      "outputs": [
        {
          "output_type": "stream",
          "text": [
            "[1, 4, 9, 16]\n"
          ],
          "name": "stdout"
        }
      ]
    },
    {
      "cell_type": "markdown",
      "metadata": {
        "id": "2WQNXoFcOS_w"
      },
      "source": [
        "# Filter function"
      ]
    },
    {
      "cell_type": "markdown",
      "metadata": {
        "id": "3CJ3ApfpOWio"
      },
      "source": [
        "The filter function returns an iterator yielding those items of iterable for which function(item) is true. Meaning you need to filter by a function that returns either True or False. Then passing that into filter (along with your iterable) and you will get back only the results that would return True when passed to the function"
      ]
    },
    {
      "cell_type": "markdown",
      "metadata": {
        "id": "Hs-1V6CqSFXA"
      },
      "source": [
        "The filter() function returns an iterator were the items are filtered through a function to test if the item is accepted or not."
      ]
    },
    {
      "cell_type": "code",
      "metadata": {
        "id": "G1NTJJ4SOYXS"
      },
      "source": [
        "def check_even(num):\n",
        "    return num % 2 == 0 "
      ],
      "execution_count": 63,
      "outputs": []
    },
    {
      "cell_type": "code",
      "metadata": {
        "id": "gqSKC6ENOaqJ"
      },
      "source": [
        "\n",
        "nums = [0,1,2,3,4,5,6,7,8,9,10]"
      ],
      "execution_count": 122,
      "outputs": []
    },
    {
      "cell_type": "code",
      "metadata": {
        "colab": {
          "base_uri": "https://localhost:8080/"
        },
        "id": "fSfZtf3nOdjQ",
        "outputId": "1802d1a1-117d-4a26-b249-f30a380ac9e9"
      },
      "source": [
        "filter(check_even,nums)"
      ],
      "execution_count": 123,
      "outputs": [
        {
          "output_type": "execute_result",
          "data": {
            "text/plain": [
              "<filter at 0x7fee09e9b950>"
            ]
          },
          "metadata": {
            "tags": []
          },
          "execution_count": 123
        }
      ]
    },
    {
      "cell_type": "code",
      "metadata": {
        "colab": {
          "base_uri": "https://localhost:8080/"
        },
        "id": "J34pZAW-SG9Z",
        "outputId": "311e1109-3c88-451b-de16-4a243209cf37"
      },
      "source": [
        "list(map(check_even,nums))"
      ],
      "execution_count": 124,
      "outputs": [
        {
          "output_type": "execute_result",
          "data": {
            "text/plain": [
              "[True, False, True, False, True, False, True, False, True, False, True]"
            ]
          },
          "metadata": {
            "tags": []
          },
          "execution_count": 124
        }
      ]
    },
    {
      "cell_type": "code",
      "metadata": {
        "colab": {
          "base_uri": "https://localhost:8080/"
        },
        "id": "kctUbJkEOdew",
        "outputId": "4a54ebde-6075-4a33-f76f-ededc60308f4"
      },
      "source": [
        "list(filter(check_even,nums))"
      ],
      "execution_count": 66,
      "outputs": [
        {
          "output_type": "execute_result",
          "data": {
            "text/plain": [
              "[0, 2, 4, 6, 8, 10]"
            ]
          },
          "metadata": {
            "tags": []
          },
          "execution_count": 66
        }
      ]
    }
  ]
}