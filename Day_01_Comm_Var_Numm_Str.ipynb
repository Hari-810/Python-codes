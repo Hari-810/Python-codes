{
  "nbformat": 4,
  "nbformat_minor": 0,
  "metadata": {
    "kernelspec": {
      "display_name": "Python 3",
      "language": "python",
      "name": "python3"
    },
    "language_info": {
      "codemirror_mode": {
        "name": "ipython",
        "version": 3
      },
      "file_extension": ".py",
      "mimetype": "text/x-python",
      "name": "python",
      "nbconvert_exporter": "python",
      "pygments_lexer": "ipython3",
      "version": "3.8.3"
    },
    "colab": {
      "name": "01-Variable Assignment.ipynb",
      "provenance": [],
      "collapsed_sections": [
        "H-enKENea5pH",
        "0T9riSfPaygl"
      ],
      "toc_visible": true
    }
  },
  "cells": [
    {
      "cell_type": "markdown",
      "metadata": {
        "id": "H-enKENea5pH"
      },
      "source": [
        "#python Comments"
      ]
    },
    {
      "cell_type": "markdown",
      "metadata": {
        "id": "qzyQ1RFSaaam"
      },
      "source": [
        "**Python Comments**\n",
        "\n",
        "1. Used to explain Python code.\n",
        "2. Used to make the code more readable.\n",
        "3. Used to prevent execution when testing code.\n",
        "\n",
        "\n"
      ]
    },
    {
      "cell_type": "markdown",
      "metadata": {
        "id": "TswRp8ANauNk"
      },
      "source": [
        "Single line Comment"
      ]
    },
    {
      "cell_type": "code",
      "metadata": {
        "id": "l-yqrw-gaUkt"
      },
      "source": [
        "#comment\n",
        "## comment\n",
        "################# comment"
      ],
      "execution_count": null,
      "outputs": []
    },
    {
      "cell_type": "markdown",
      "metadata": {
        "id": "35Rkxp8batUN"
      },
      "source": [
        "Multi Line Comments"
      ]
    },
    {
      "cell_type": "code",
      "metadata": {
        "colab": {
          "base_uri": "https://localhost:8080/"
        },
        "id": "HVEV7QjvaO1n",
        "outputId": "4ca53fdd-d7b0-42c4-b8fc-b26697233914"
      },
      "source": [
        "\"\"\"\"\"\n",
        "num = input()\n",
        "print(num)\n",
        "\n",
        "\n",
        "num = input()\n",
        "print('%d' % (num))\n",
        "\"\"\"\"\""
      ],
      "execution_count": null,
      "outputs": [
        {
          "output_type": "execute_result",
          "data": {
            "application/vnd.google.colaboratory.intrinsic+json": {
              "type": "string"
            },
            "text/plain": [
              "'\"\"\\nnum = input()\\nprint(num)\\n\\n\\nnum = input()\\nprint(\\'%d\\' % (num))\\n'"
            ]
          },
          "metadata": {
            "tags": []
          },
          "execution_count": 59
        }
      ]
    },
    {
      "cell_type": "markdown",
      "metadata": {
        "id": "0T9riSfPaygl"
      },
      "source": [
        "#  Variable assignement"
      ]
    },
    {
      "cell_type": "markdown",
      "metadata": {
        "id": "lCG1GG--Y5uk"
      },
      "source": [
        " **Variable Assignment**\n",
        "\n",
        "Rules for variable names declaration :\n",
        "* names can not start with a number,\n",
        "* names can not contain spaces, use _ intead \n",
        "* names can not contain any of these symbols,\n",
        "\n",
        "      :'\",<>/?|\\!@#%^&*~-+\n",
        "       \n",
        "* it's considered best practice ([PEP8](https://www.python.org/dev/peps/pep-0008/#function-and-variable-names)) that names are lowercase with underscores,\n",
        "* avoid using Python built-in keywords like `list` and `str`,\n",
        "* avoid using the single characters `l` (lowercase letter el), `O` (uppercase letter oh) and `I` (uppercase letter eye) as they can be confused with `1` and `0` (optional - for best pratice)"
      ]
    },
    {
      "cell_type": "markdown",
      "metadata": {
        "id": "20GlIM47Y5ut"
      },
      "source": [
        "## Dynamic Typing\n",
        "\n",
        "Python uses *dynamic typing*, which mean we can reassign variables to different data types. \n",
        "<br>This makes Python very flexible in assigning data types; it differs from other languages that are **statically typed**."
      ]
    },
    {
      "cell_type": "code",
      "metadata": {
        "collapsed": true,
        "id": "lsE7FzNJY5uu"
      },
      "source": [
        "num = 2"
      ],
      "execution_count": null,
      "outputs": []
    },
    {
      "cell_type": "code",
      "metadata": {
        "colab": {
          "base_uri": "https://localhost:8080/"
        },
        "id": "qOZY85mHY5uv",
        "outputId": "0567b1a6-27dc-4e37-b317-e9966df0ce80"
      },
      "source": [
        "num"
      ],
      "execution_count": null,
      "outputs": [
        {
          "output_type": "execute_result",
          "data": {
            "text/plain": [
              "2"
            ]
          },
          "metadata": {
            "tags": []
          },
          "execution_count": 61
        }
      ]
    },
    {
      "cell_type": "code",
      "metadata": {
        "colab": {
          "base_uri": "https://localhost:8080/"
        },
        "id": "tN22d9YcxkrB",
        "outputId": "6dc09807-eb80-42a6-ff92-46f98374e1da"
      },
      "source": [
        "print(num)"
      ],
      "execution_count": null,
      "outputs": [
        {
          "output_type": "stream",
          "text": [
            "2\n"
          ],
          "name": "stdout"
        }
      ]
    },
    {
      "cell_type": "code",
      "metadata": {
        "id": "Sz3AktCyolV1"
      },
      "source": [
        "num =3"
      ],
      "execution_count": null,
      "outputs": []
    },
    {
      "cell_type": "code",
      "metadata": {
        "colab": {
          "base_uri": "https://localhost:8080/"
        },
        "id": "QXw4Q_nWonIC",
        "outputId": "5ca06382-b3eb-4e28-e7dd-ddd6ee9af321"
      },
      "source": [
        "num"
      ],
      "execution_count": null,
      "outputs": [
        {
          "output_type": "execute_result",
          "data": {
            "text/plain": [
              "3"
            ]
          },
          "metadata": {
            "tags": []
          },
          "execution_count": 57
        }
      ]
    },
    {
      "cell_type": "code",
      "metadata": {
        "collapsed": true,
        "id": "AbSVrl9YY5uw"
      },
      "source": [
        "name= ['aaa', 'bbb']"
      ],
      "execution_count": null,
      "outputs": []
    },
    {
      "cell_type": "code",
      "metadata": {
        "colab": {
          "base_uri": "https://localhost:8080/"
        },
        "id": "iaqp6xtwY5uw",
        "outputId": "41e7b0f3-a2c2-47c3-9438-fd300fab6d23"
      },
      "source": [
        "name"
      ],
      "execution_count": null,
      "outputs": [
        {
          "output_type": "execute_result",
          "data": {
            "text/plain": [
              "['aaa', 'bbb']"
            ]
          },
          "metadata": {
            "tags": []
          },
          "execution_count": 4
        }
      ]
    },
    {
      "cell_type": "markdown",
      "metadata": {
        "id": "D9287bhyY5uw"
      },
      "source": [
        "### Pros and Cons of Dynamic Typing\n",
        "#### Pros of Dynamic Typing\n",
        "* very easy to work with,\n",
        "* faster development time.\n",
        "\n",
        "#### Cons of Dynamic Typing\n",
        "* may result in unexpected bugs!\n",
        "* you need to be aware of `type()`."
      ]
    },
    {
      "cell_type": "markdown",
      "metadata": {
        "id": "YSXmFv2tY5ux"
      },
      "source": [
        "## Assigning Variables\n",
        "Variable assignment follows `name = object`, where a single equals sign `=` is an *assignment operator*"
      ]
    },
    {
      "cell_type": "code",
      "metadata": {
        "collapsed": true,
        "id": "j8DeXGXoY5ux"
      },
      "source": [
        "n = 5"
      ],
      "execution_count": null,
      "outputs": []
    },
    {
      "cell_type": "code",
      "metadata": {
        "colab": {
          "base_uri": "https://localhost:8080/"
        },
        "id": "rVsbaToFY5ux",
        "outputId": "a5ed738e-fee5-4f82-e3cb-ccbee30a3254"
      },
      "source": [
        "n"
      ],
      "execution_count": null,
      "outputs": [
        {
          "output_type": "execute_result",
          "data": {
            "text/plain": [
              "5"
            ]
          },
          "metadata": {
            "tags": []
          },
          "execution_count": 6
        }
      ]
    },
    {
      "cell_type": "markdown",
      "metadata": {
        "id": "ugzFUz-sY5uy"
      },
      "source": [
        "Here we assigned the integer object `5` to the variable name `n`.<br>Let's assign `n` to something else:"
      ]
    },
    {
      "cell_type": "markdown",
      "metadata": {
        "id": "raIpM0a4Y5uz"
      },
      "source": [
        "## Reassigning Variables\n",
        " Reassign variables with a reference of the same object."
      ]
    },
    {
      "cell_type": "code",
      "metadata": {
        "collapsed": true,
        "id": "Wnp_9Uc4Y5uz"
      },
      "source": [
        "a = a + 5"
      ],
      "execution_count": 116,
      "outputs": []
    },
    {
      "cell_type": "code",
      "metadata": {
        "colab": {
          "base_uri": "https://localhost:8080/"
        },
        "id": "aAZoZ_wiY5u0",
        "outputId": "e1de5e00-9199-4a9f-959c-3a17222f18cc"
      },
      "source": [
        "a"
      ],
      "execution_count": 117,
      "outputs": [
        {
          "output_type": "execute_result",
          "data": {
            "text/plain": [
              "445"
            ]
          },
          "metadata": {
            "tags": []
          },
          "execution_count": 117
        }
      ]
    },
    {
      "cell_type": "markdown",
      "metadata": {
        "id": "2lJ6GG8zY5u0"
      },
      "source": [
        "We have a shortcut for this. Python lets you add, subtract, multiply and divide numbers with reassignment using `+=`, `-=`, `*=`, and `/=`."
      ]
    },
    {
      "cell_type": "code",
      "metadata": {
        "collapsed": true,
        "id": "tqaofOkZY5u0"
      },
      "source": [
        "a += 15"
      ],
      "execution_count": 113,
      "outputs": []
    },
    {
      "cell_type": "code",
      "metadata": {
        "colab": {
          "base_uri": "https://localhost:8080/"
        },
        "id": "VJk0bfluY5u0",
        "outputId": "ae606ab8-efec-4a3d-b7eb-3ceefe82456a"
      },
      "source": [
        "a"
      ],
      "execution_count": 114,
      "outputs": [
        {
          "output_type": "execute_result",
          "data": {
            "text/plain": [
              "220"
            ]
          },
          "metadata": {
            "tags": []
          },
          "execution_count": 114
        }
      ]
    },
    {
      "cell_type": "code",
      "metadata": {
        "collapsed": true,
        "id": "8PCasihLY5u1"
      },
      "source": [
        "a *= 2"
      ],
      "execution_count": 118,
      "outputs": []
    },
    {
      "cell_type": "code",
      "metadata": {
        "colab": {
          "base_uri": "https://localhost:8080/"
        },
        "id": "iYbyyfCHY5u1",
        "outputId": "31370aa8-ae71-42d7-a7c0-1a39815f62fc"
      },
      "source": [
        "a"
      ],
      "execution_count": 119,
      "outputs": [
        {
          "output_type": "execute_result",
          "data": {
            "text/plain": [
              "890"
            ]
          },
          "metadata": {
            "tags": []
          },
          "execution_count": 119
        }
      ]
    },
    {
      "cell_type": "markdown",
      "metadata": {
        "id": "8d6R54tqizwn"
      },
      "source": [
        "Casting\n"
      ]
    },
    {
      "cell_type": "code",
      "metadata": {
        "id": "oQeSgWi9i1iH"
      },
      "source": [
        "\n",
        "x = int(1)   # x will be 1\n",
        "y = int(2.8) # y will be 2\n",
        "z = int(\"3\") # z will be 3\n",
        "\n",
        "x = float(1)     # x will be 1.0\n",
        "y = float(2.8)   # y will be 2.8\n",
        "z = float(\"3\")   # z will be 3.0\n",
        "w = float(\"4.2\") # w will be 4.2\n",
        "\n",
        "x = str(\"s1\") # x will be 's1'\n",
        "y = str(2)    # y will be '2'\n",
        "z = str(3.0)  # z will be '3.0'\n",
        "\n"
      ],
      "execution_count": null,
      "outputs": []
    },
    {
      "cell_type": "markdown",
      "metadata": {
        "id": "-VbdqijMi5Qu"
      },
      "source": [
        "Case-Sensitive\n",
        "\n"
      ]
    },
    {
      "cell_type": "code",
      "metadata": {
        "id": "g0dMa7ZRi8De"
      },
      "source": [
        "a = 4\n",
        "A = \"Sally\"\n",
        "#A will not overwrite a"
      ],
      "execution_count": null,
      "outputs": []
    },
    {
      "cell_type": "markdown",
      "metadata": {
        "id": "ZpxDkHMoY5u1"
      },
      "source": [
        "## Determining variable type with `type()`\n",
        "You can check what type of object is assigned to a variable using Python's built-in `type()` function. Common data types include:\n",
        "* **int** (for integer)\n",
        "* **float** (for float)\n",
        "* **str** (for string)\n",
        "* **list** (for list)\n",
        "* **tuple** (for tuple)\n",
        "* **dict** (for dictionary)\n",
        "* **set** (for set)\n",
        "* **bool** (for Boolean True/False)"
      ]
    },
    {
      "cell_type": "code",
      "metadata": {
        "colab": {
          "base_uri": "https://localhost:8080/"
        },
        "id": "qLvMX1xMY5u1",
        "outputId": "9a16c05d-f16a-4bd5-8517-26b85e236790"
      },
      "source": [
        "type(a) #identifying type of variable a"
      ],
      "execution_count": null,
      "outputs": [
        {
          "output_type": "execute_result",
          "data": {
            "text/plain": [
              "int"
            ]
          },
          "metadata": {
            "tags": []
          },
          "execution_count": 16
        }
      ]
    },
    {
      "cell_type": "code",
      "metadata": {
        "collapsed": true,
        "id": "vN0w42AtY5u2"
      },
      "source": [
        "a = (1,2)"
      ],
      "execution_count": null,
      "outputs": []
    },
    {
      "cell_type": "code",
      "metadata": {
        "colab": {
          "base_uri": "https://localhost:8080/"
        },
        "id": "Cb3_8UkKY5u2",
        "outputId": "f86349ad-83c5-43b5-a1cd-17391047b7ab"
      },
      "source": [
        "type(a)"
      ],
      "execution_count": null,
      "outputs": [
        {
          "output_type": "execute_result",
          "data": {
            "text/plain": [
              "tuple"
            ]
          },
          "metadata": {
            "tags": []
          },
          "execution_count": 18
        }
      ]
    },
    {
      "cell_type": "markdown",
      "metadata": {
        "id": "eeyxxGRwlqtz"
      },
      "source": [
        "#Global Variables\n",
        "Variables that are created outside of a function (as in all of the examples above) are known as global variables.\n",
        "Global variables can be used by everyone, both inside of functions and outside.\n",
        "Example\n",
        "Create a variable outside of a function, and use it inside the function\n",
        "\n",
        "\n"
      ]
    },
    {
      "cell_type": "markdown",
      "metadata": {
        "id": "CIY5tAoSluqC"
      },
      "source": [
        "Variables that are created outside of a function  are known as **global variables**.\n",
        "Global variables can be used by everyone, both inside of functions and outside.\n"
      ]
    },
    {
      "cell_type": "code",
      "metadata": {
        "colab": {
          "base_uri": "https://localhost:8080/"
        },
        "id": "rqFTImRQlygi",
        "outputId": "2840c6de-e121-45bb-b000-fb075f8cc2fb"
      },
      "source": [
        "x = \"awesome\"  #global variable\n",
        "\n",
        "def myfunc():\n",
        "  print(\"Python is \" + x)\n",
        "\n",
        "myfunc()"
      ],
      "execution_count": null,
      "outputs": [
        {
          "output_type": "stream",
          "text": [
            "Python is awesome\n"
          ],
          "name": "stdout"
        }
      ]
    },
    {
      "cell_type": "markdown",
      "metadata": {
        "id": "UlYGzuLdl33x"
      },
      "source": [
        "**The global Keyword**"
      ]
    },
    {
      "cell_type": "markdown",
      "metadata": {
        "id": "MZvot2LMl2ik"
      },
      "source": [
        "\n",
        "Normally, when we create a variable inside a function, that variable is local, and can only be used inside that function.\n",
        "To create a global variable inside a function, you can use the  **global** keyword.\n"
      ]
    },
    {
      "cell_type": "code",
      "metadata": {
        "colab": {
          "base_uri": "https://localhost:8080/"
        },
        "id": "jkF-mNPnl9X5",
        "outputId": "19ff5030-6b97-4816-9049-72a19c929d16"
      },
      "source": [
        "\n",
        "# use the global keyword, then the variable belongs to the global scope:\n",
        "def myfunc():\n",
        "  global x\n",
        "  x = \"Awesome\"\n",
        "\n",
        "myfunc()\n",
        "\n",
        "print(\"Python is \" + x)\n"
      ],
      "execution_count": 120,
      "outputs": [
        {
          "output_type": "stream",
          "text": [
            "Python is Awesome\n"
          ],
          "name": "stdout"
        }
      ]
    },
    {
      "cell_type": "markdown",
      "metadata": {
        "id": "cqO3OGndbddf"
      },
      "source": [
        "## Data Types in Python"
      ]
    },
    {
      "cell_type": "markdown",
      "metadata": {
        "id": "R9n2HFh8bsLM"
      },
      "source": [
        "As we know that python is Dynamically typed programming language, than why do we need to learn about data type at all?\n",
        "\n",
        "Although python automatically understands the data type, but it is important to know about data types so that we can utilize the power of data structures in future.\n",
        "\n",
        "Basic Data Types available in python are:\n",
        "<pre>\n",
        "    <b>Numeric</b> - int, float, complex (Immutable)\n",
        "    <b>Strings</b> (Immutable)\n",
        "    <b>List</b> (Mutable, mostly used to store homogeneous data types)\n",
        "    <b>Tuple</b> (Immutable, faster compared to List)\n",
        "    <b>Set</b> (Unordered collection of items, mutable, removes duplicates)\n",
        "    <b>Dictionary</b> (Unordered collection of Key-Value Pairs, Mutable, Keys are Unique - values may not be unique)\n",
        "</pre>"
      ]
    },
    {
      "cell_type": "markdown",
      "metadata": {
        "id": "FWpAmEe1jPNi"
      },
      "source": [
        "#Booleans"
      ]
    },
    {
      "cell_type": "markdown",
      "metadata": {
        "id": "UnfbGgHZjTLJ"
      },
      "source": [
        "Booleans represent one of two values: <br> **True or False**.\n",
        "\n",
        "In programming we often need to know, if an expression is True or False.\n",
        "You can evaluate any expression in Python, and get one of two answers, True or False.\n",
        "\n",
        "\n"
      ]
    },
    {
      "cell_type": "code",
      "metadata": {
        "colab": {
          "base_uri": "https://localhost:8080/"
        },
        "id": "m12pMD2zjTqb",
        "outputId": "83ad5113-a1a1-44bd-c94b-d08c84d1d51e"
      },
      "source": [
        "print(10 > 9)\n",
        "\n"
      ],
      "execution_count": null,
      "outputs": [
        {
          "output_type": "stream",
          "text": [
            "True\n"
          ],
          "name": "stdout"
        }
      ]
    },
    {
      "cell_type": "code",
      "metadata": {
        "colab": {
          "base_uri": "https://localhost:8080/"
        },
        "id": "VXiOPOVgjQ7D",
        "outputId": "7e7df6aa-4c6c-4539-fc59-c8d3031c5163"
      },
      "source": [
        "a = 10\n",
        "b = 1\n",
        "\n",
        "if b > a:\n",
        "  print(\"b is greater than a\")\n",
        "else:\n",
        "  print(\"b is not greater than a\")\n"
      ],
      "execution_count": 121,
      "outputs": [
        {
          "output_type": "stream",
          "text": [
            "b is not greater than a\n"
          ],
          "name": "stdout"
        }
      ]
    },
    {
      "cell_type": "markdown",
      "metadata": {
        "id": "3pot8YNhjZOb"
      },
      "source": [
        "**Evaluate Values and Variables**"
      ]
    },
    {
      "cell_type": "markdown",
      "metadata": {
        "id": "c0-8iMARjdAK"
      },
      "source": [
        "The bool() function allows you to evaluate any value, and give you True or False in return,"
      ]
    },
    {
      "cell_type": "code",
      "metadata": {
        "colab": {
          "base_uri": "https://localhost:8080/"
        },
        "id": "NtHCHRp7je3a",
        "outputId": "706628bd-e1ec-417c-cd98-df648ea9a6c9"
      },
      "source": [
        "print(bool(\"Hello\"))\n",
        "\n"
      ],
      "execution_count": null,
      "outputs": [
        {
          "output_type": "stream",
          "text": [
            "True\n"
          ],
          "name": "stdout"
        }
      ]
    },
    {
      "cell_type": "code",
      "metadata": {
        "colab": {
          "base_uri": "https://localhost:8080/"
        },
        "id": "C5BRHBFL2wd1",
        "outputId": "d075523c-3a2b-49ff-ccf1-cf7b2fa87fe1"
      },
      "source": [
        "print(bool(0))"
      ],
      "execution_count": null,
      "outputs": [
        {
          "output_type": "stream",
          "text": [
            "True\n"
          ],
          "name": "stdout"
        }
      ]
    },
    {
      "cell_type": "code",
      "metadata": {
        "colab": {
          "base_uri": "https://localhost:8080/"
        },
        "id": "RirH1j4O3Wp0",
        "outputId": "dfbaa304-9ef2-45ad-f2e8-04389f5c9c6e"
      },
      "source": [
        "print(bool(0.0))"
      ],
      "execution_count": null,
      "outputs": [
        {
          "output_type": "stream",
          "text": [
            "False\n"
          ],
          "name": "stdout"
        }
      ]
    },
    {
      "cell_type": "code",
      "metadata": {
        "colab": {
          "base_uri": "https://localhost:8080/"
        },
        "id": "GfhU91-J3c3Q",
        "outputId": "fa44427d-0f03-4fd1-ad06-0dda7ff3cc58"
      },
      "source": [
        "print(bool(-1))"
      ],
      "execution_count": null,
      "outputs": [
        {
          "output_type": "stream",
          "text": [
            "True\n"
          ],
          "name": "stdout"
        }
      ]
    },
    {
      "cell_type": "code",
      "metadata": {
        "colab": {
          "base_uri": "https://localhost:8080/"
        },
        "id": "GCu7S0MW3Z2Q",
        "outputId": "7aaa010d-5274-42b2-b6db-405faa06d55f"
      },
      "source": [
        "print(bool(0.1))"
      ],
      "execution_count": null,
      "outputs": [
        {
          "output_type": "stream",
          "text": [
            "True\n"
          ],
          "name": "stdout"
        }
      ]
    },
    {
      "cell_type": "markdown",
      "metadata": {
        "id": "Jp2l6BAtbz5E"
      },
      "source": [
        "#Numeric Data Type"
      ]
    },
    {
      "cell_type": "markdown",
      "metadata": {
        "id": "kCyWD1MQdVM0"
      },
      "source": [
        "Integer literals are created by any number without a decimal or complex component."
      ]
    },
    {
      "cell_type": "code",
      "metadata": {
        "colab": {
          "base_uri": "https://localhost:8080/"
        },
        "id": "wVB_22zAbqFe",
        "outputId": "574e83a9-2033-4a74-8b96-54b708f61986"
      },
      "source": [
        "a = 5\n",
        "\n",
        "print(type(a))\n",
        "\n",
        "print(type(5.0))\n",
        "\n",
        "print(isinstance(a, int))\n"
      ],
      "execution_count": 123,
      "outputs": [
        {
          "output_type": "stream",
          "text": [
            "<class 'int'>\n",
            "<class 'float'>\n",
            "True\n"
          ],
          "name": "stdout"
        }
      ]
    },
    {
      "cell_type": "code",
      "metadata": {
        "colab": {
          "base_uri": "https://localhost:8080/"
        },
        "id": "nZDakY3XcGoc",
        "outputId": "9e97fe45-2f40-402c-f7c9-4d2dd2cb93c9"
      },
      "source": [
        "# Decimal, Binary, Octal, Hexadecimal\n",
        "\n",
        "# bin(), oct(), hex()\n",
        "\n",
        "\n",
        "a = 0B100\n",
        "\n",
        "b = 0o100\n",
        "\n",
        "c = 0x100\n",
        "\n",
        "print(a)\n",
        "\n",
        "print(b)\n",
        "\n",
        "print(c)"
      ],
      "execution_count": 124,
      "outputs": [
        {
          "output_type": "stream",
          "text": [
            "4\n",
            "64\n",
            "256\n"
          ],
          "name": "stdout"
        }
      ]
    },
    {
      "cell_type": "code",
      "metadata": {
        "colab": {
          "base_uri": "https://localhost:8080/"
        },
        "id": "OAuxSIAScK6c",
        "outputId": "f0e374d5-0a40-4444-93ca-5d7e8c9fee0e"
      },
      "source": [
        "a = 0xFabc    # 0xF was  0x0000000F in hexadecimal\n",
        " \n",
        "print(a)"
      ],
      "execution_count": 131,
      "outputs": [
        {
          "output_type": "stream",
          "text": [
            "64188\n"
          ],
          "name": "stdout"
        }
      ]
    },
    {
      "cell_type": "code",
      "metadata": {
        "colab": {
          "base_uri": "https://localhost:8080/"
        },
        "id": "b8grPCRVcP28",
        "outputId": "40917f0d-5cd4-4148-f79d-aad9425c60b7"
      },
      "source": [
        "b = 10.34\n",
        "\n",
        "print(type(b))"
      ],
      "execution_count": null,
      "outputs": [
        {
          "output_type": "stream",
          "text": [
            "<class 'float'>\n"
          ],
          "name": "stdout"
        }
      ]
    },
    {
      "cell_type": "code",
      "metadata": {
        "colab": {
          "base_uri": "https://localhost:8080/"
        },
        "id": "UO7gsYMfcRfu",
        "outputId": "68d60ead-7186-40af-8a68-c255f90b7017"
      },
      "source": [
        "f = 1.2e54\n",
        "\n",
        "# f= 1.25e54 and f= 1.25e+54 are equivalent\n",
        "\n",
        "print(f)"
      ],
      "execution_count": 132,
      "outputs": [
        {
          "output_type": "stream",
          "text": [
            "1.2e+54\n"
          ],
          "name": "stdout"
        }
      ]
    },
    {
      "cell_type": "code",
      "metadata": {
        "colab": {
          "base_uri": "https://localhost:8080/",
          "height": 128
        },
        "id": "mWqz5pAacTgc",
        "outputId": "a57fb09a-a8ef-4b24-d2fb-4046be1e1e17"
      },
      "source": [
        "a = 0b5.1\n",
        "print(a)"
      ],
      "execution_count": null,
      "outputs": [
        {
          "output_type": "error",
          "ename": "SyntaxError",
          "evalue": "ignored",
          "traceback": [
            "\u001b[0;36m  File \u001b[0;32m\"<ipython-input-28-9d53f1a1f9c9>\"\u001b[0;36m, line \u001b[0;32m1\u001b[0m\n\u001b[0;31m    a = 0b1.1\u001b[0m\n\u001b[0m            ^\u001b[0m\n\u001b[0;31mSyntaxError\u001b[0m\u001b[0;31m:\u001b[0m invalid syntax\n"
          ]
        }
      ]
    },
    {
      "cell_type": "code",
      "metadata": {
        "colab": {
          "base_uri": "https://localhost:8080/"
        },
        "id": "VLXLqvWocVp8",
        "outputId": "6257e6d0-aa75-4d07-85f8-5ca88169f190"
      },
      "source": [
        "x = 5 + 10j\n",
        "\n",
        "print(type(x))"
      ],
      "execution_count": null,
      "outputs": [
        {
          "output_type": "stream",
          "text": [
            "<class 'complex'>\n"
          ],
          "name": "stdout"
        }
      ]
    },
    {
      "cell_type": "code",
      "metadata": {
        "colab": {
          "base_uri": "https://localhost:8080/"
        },
        "id": "lPZq_we_cYUV",
        "outputId": "e57d73ae-b8d5-4f88-cd9e-7663e25fbac8"
      },
      "source": [
        "c = 10+2j\n",
        "\n",
        "print(type(c))\n",
        "\n",
        "print(c + 5)\n",
        "\n",
        "print(isinstance(c, complex))\n",
        "\n",
        "print((c.real))\n",
        "\n",
        "print(c.imag)"
      ],
      "execution_count": null,
      "outputs": [
        {
          "output_type": "stream",
          "text": [
            "<class 'complex'>\n",
            "(15+20j)\n",
            "True\n",
            "10.0\n",
            "20.0\n"
          ],
          "name": "stdout"
        }
      ]
    },
    {
      "cell_type": "code",
      "metadata": {
        "colab": {
          "base_uri": "https://localhost:8080/"
        },
        "id": "PAbkx9WH6N2L",
        "outputId": "c9346406-e79d-44ef-850b-952a12dd7c4c"
      },
      "source": [
        "print(type(c.real))"
      ],
      "execution_count": null,
      "outputs": [
        {
          "output_type": "stream",
          "text": [
            "<class 'float'>\n"
          ],
          "name": "stdout"
        }
      ]
    },
    {
      "cell_type": "code",
      "metadata": {
        "colab": {
          "base_uri": "https://localhost:8080/"
        },
        "id": "jzH4FSFn6Tu3",
        "outputId": "bb43363e-8d3b-447f-ead9-b2fc02ae735a"
      },
      "source": [
        "print(c.real)"
      ],
      "execution_count": null,
      "outputs": [
        {
          "output_type": "stream",
          "text": [
            "10.0\n"
          ],
          "name": "stdout"
        }
      ]
    },
    {
      "cell_type": "code",
      "metadata": {
        "colab": {
          "base_uri": "https://localhost:8080/"
        },
        "id": "Ux1GFGxdcZzE",
        "outputId": "091f9f2e-bf68-407c-901e-e79864de40fd"
      },
      "source": [
        "c = 0b100 + 100j\n",
        "\n",
        "print(c)"
      ],
      "execution_count": null,
      "outputs": [
        {
          "output_type": "stream",
          "text": [
            "(4+10j)\n"
          ],
          "name": "stdout"
        }
      ]
    },
    {
      "cell_type": "code",
      "metadata": {
        "colab": {
          "base_uri": "https://localhost:8080/"
        },
        "id": "Ckgv95w-cb5V",
        "outputId": "a4097b99-4cb8-4137-e3b2-27e17597402e"
      },
      "source": [
        "a = True\n",
        "\n",
        "print(type(a))"
      ],
      "execution_count": null,
      "outputs": [
        {
          "output_type": "stream",
          "text": [
            "<class 'bool'>\n"
          ],
          "name": "stdout"
        }
      ]
    },
    {
      "cell_type": "code",
      "metadata": {
        "colab": {
          "base_uri": "https://localhost:8080/"
        },
        "id": "7xuIPjw-dhWU",
        "outputId": "9dc6595d-c8e0-4f17-81c5-bf32dda8ebca"
      },
      "source": [
        "a = 1\n",
        "\n",
        "print(id(a))"
      ],
      "execution_count": 133,
      "outputs": [
        {
          "output_type": "stream",
          "text": [
            "94346417572352\n"
          ],
          "name": "stdout"
        }
      ]
    },
    {
      "cell_type": "markdown",
      "metadata": {
        "id": "Sa2e0ArxdL79"
      },
      "source": [
        "**Strong Typing**\n",
        "\n",
        "While Python allows you to be very flexible with your types, you must still be aware of what those types are. Certain operations will require certain types as arguments."
      ]
    },
    {
      "cell_type": "code",
      "metadata": {
        "colab": {
          "base_uri": "https://localhost:8080/",
          "height": 162
        },
        "id": "1tmtRq62dP6w",
        "outputId": "08c3dae9-7b41-4940-974d-72b18d303980"
      },
      "source": [
        "'hi ' + 1"
      ],
      "execution_count": null,
      "outputs": [
        {
          "output_type": "error",
          "ename": "TypeError",
          "evalue": "ignored",
          "traceback": [
            "\u001b[0;31m---------------------------------------------------------------------------\u001b[0m",
            "\u001b[0;31mTypeError\u001b[0m                                 Traceback (most recent call last)",
            "\u001b[0;32m<ipython-input-45-643fe001d103>\u001b[0m in \u001b[0;36m<module>\u001b[0;34m()\u001b[0m\n\u001b[0;32m----> 1\u001b[0;31m \u001b[0;34m'Day '\u001b[0m \u001b[0;34m+\u001b[0m \u001b[0;36m1\u001b[0m\u001b[0;34m\u001b[0m\u001b[0;34m\u001b[0m\u001b[0m\n\u001b[0m",
            "\u001b[0;31mTypeError\u001b[0m: can only concatenate str (not \"int\") to str"
          ]
        }
      ]
    },
    {
      "cell_type": "code",
      "metadata": {
        "colab": {
          "base_uri": "https://localhost:8080/",
          "height": 35
        },
        "id": "wfkTwu7WdRSU",
        "outputId": "db56de57-ff14-4daa-bf6c-6feb9b31c885"
      },
      "source": [
        "' hi ' + str(1)"
      ],
      "execution_count": null,
      "outputs": [
        {
          "output_type": "execute_result",
          "data": {
            "application/vnd.google.colaboratory.intrinsic+json": {
              "type": "string"
            },
            "text/plain": [
              "'Day 1'"
            ]
          },
          "metadata": {
            "tags": []
          },
          "execution_count": 46
        }
      ]
    },
    {
      "cell_type": "markdown",
      "metadata": {
        "id": "u935ABI2cfjs"
      },
      "source": [
        "#Strings data type"
      ]
    },
    {
      "cell_type": "markdown",
      "metadata": {
        "id": "5XToRVTod9XU"
      },
      "source": [
        "Strings are used in Python to record text information, such as names,places,objects,etc..\n",
        "Python keeps track of each and every element in the string as a sequence. \n",
        "\n",
        "String literals can be represented with any of single quotes ('), double quotes (\") or triple quotes (''' or \"\"\").\n",
        "\n",
        "    1.) Creating Strings\n",
        "    2.) Printing Strings\n",
        "    3.) String Indexing and Slicing\n",
        "    4.) String Properties\n",
        "    5.) String Methods\n",
        "    6.) Print Formatting"
      ]
    },
    {
      "cell_type": "markdown",
      "metadata": {
        "id": "DjqLP5lReAfD"
      },
      "source": [
        "**Creating a String**"
      ]
    },
    {
      "cell_type": "code",
      "metadata": {
        "id": "VEwyWBT0eC2z"
      },
      "source": [
        "# Single word\n",
        "'hello'"
      ],
      "execution_count": null,
      "outputs": []
    },
    {
      "cell_type": "code",
      "metadata": {
        "id": "IygiSjRSeD9s"
      },
      "source": [
        "# Entire phrase \n",
        "'This is a string'"
      ],
      "execution_count": null,
      "outputs": []
    },
    {
      "cell_type": "code",
      "metadata": {
        "id": "x2fDdeVdeFfz"
      },
      "source": [
        "# We can also use double quote\n",
        "\"String  with double quotes\""
      ],
      "execution_count": null,
      "outputs": []
    },
    {
      "cell_type": "code",
      "metadata": {
        "colab": {
          "base_uri": "https://localhost:8080/",
          "height": 128
        },
        "id": "J6r5kPR3eHKW",
        "outputId": "7e8eca3a-ea8f-425e-d2e0-3debdd854ed1"
      },
      "source": [
        "# Be careful with quotes!\n",
        "' I'm using single quotes, but this throws  an error'"
      ],
      "execution_count": null,
      "outputs": [
        {
          "output_type": "error",
          "ename": "SyntaxError",
          "evalue": "ignored",
          "traceback": [
            "\u001b[0;36m  File \u001b[0;32m\"<ipython-input-80-da9a34b3dc31>\"\u001b[0;36m, line \u001b[0;32m2\u001b[0m\n\u001b[0;31m    ' I'm using single quotes, but this will create an error'\u001b[0m\n\u001b[0m        ^\u001b[0m\n\u001b[0;31mSyntaxError\u001b[0m\u001b[0;31m:\u001b[0m invalid syntax\n"
          ]
        }
      ]
    },
    {
      "cell_type": "markdown",
      "metadata": {
        "id": "MT9EdMBEeMYM"
      },
      "source": [
        "Printing a String"
      ]
    },
    {
      "cell_type": "code",
      "metadata": {
        "colab": {
          "base_uri": "https://localhost:8080/",
          "height": 35
        },
        "id": "B1TV6ahQeOBM",
        "outputId": "7f42c09e-05f3-46ad-e141-33ce9a89b7da"
      },
      "source": [
        "# We can simply declare a string\n",
        "'Hello World'"
      ],
      "execution_count": null,
      "outputs": [
        {
          "output_type": "execute_result",
          "data": {
            "application/vnd.google.colaboratory.intrinsic+json": {
              "type": "string"
            },
            "text/plain": [
              "'Hello World'"
            ]
          },
          "metadata": {
            "tags": []
          },
          "execution_count": 48
        }
      ]
    },
    {
      "cell_type": "code",
      "metadata": {
        "colab": {
          "base_uri": "https://localhost:8080/",
          "height": 35
        },
        "id": "d0zP_xg7eP1M",
        "outputId": "607a6581-985a-4c61-fd75-ec53569f383a"
      },
      "source": [
        "# we can't output multiple strings this way\n",
        "'Hello World 1'\n",
        "'Hello World 2'"
      ],
      "execution_count": null,
      "outputs": [
        {
          "output_type": "execute_result",
          "data": {
            "application/vnd.google.colaboratory.intrinsic+json": {
              "type": "string"
            },
            "text/plain": [
              "'Hello World 2'"
            ]
          },
          "metadata": {
            "tags": []
          },
          "execution_count": 49
        }
      ]
    },
    {
      "cell_type": "code",
      "metadata": {
        "colab": {
          "base_uri": "https://localhost:8080/"
        },
        "id": "W_ucnlJreRnc",
        "outputId": "e13d7ba6-1f6f-416c-9814-efd2fd5ad509"
      },
      "source": [
        "print('Hello World 1')\n",
        "print('Hello World 2')\n",
        "print('Use \\n to print a new line')\n",
        "print('\\n')\n"
      ],
      "execution_count": null,
      "outputs": [
        {
          "output_type": "stream",
          "text": [
            "Hello World 1\n",
            "Hello World 2\n",
            "Use \n",
            " to print a new line\n",
            "\n",
            "\n",
            "See what I mean?\n"
          ],
          "name": "stdout"
        }
      ]
    },
    {
      "cell_type": "markdown",
      "metadata": {
        "id": "qm55iGSJeU1G"
      },
      "source": [
        "**String Basics**"
      ]
    },
    {
      "cell_type": "markdown",
      "metadata": {
        "id": "vs2qA1A0eYfG"
      },
      "source": [
        "Python can use indexes to call parts of the sequence.\n",
        "\n",
        "In Python, we use brackets <code>[]</code> after an object to call its index. \n",
        "Indexing starts at 0."
      ]
    },
    {
      "cell_type": "code",
      "metadata": {
        "id": "-WUdZuFzeaM7"
      },
      "source": [
        "# Assign s as a string\n",
        "s = 'Hello World'"
      ],
      "execution_count": null,
      "outputs": []
    },
    {
      "cell_type": "code",
      "metadata": {
        "id": "Uc2p5XV_ebqp"
      },
      "source": [
        "#Check\n",
        "s"
      ],
      "execution_count": null,
      "outputs": []
    },
    {
      "cell_type": "code",
      "metadata": {
        "id": "AR879lWSedGD"
      },
      "source": [
        "# Print the object\n",
        "print(s) "
      ],
      "execution_count": null,
      "outputs": []
    },
    {
      "cell_type": "code",
      "metadata": {
        "colab": {
          "base_uri": "https://localhost:8080/",
          "height": 35
        },
        "id": "iOALNhMUeexM",
        "outputId": "0434d12a-c7b5-457c-bd5d-b7ac689b60b7"
      },
      "source": [
        "# Show first element (in this case a letter)\n",
        "s[0]"
      ],
      "execution_count": null,
      "outputs": [
        {
          "output_type": "execute_result",
          "data": {
            "application/vnd.google.colaboratory.intrinsic+json": {
              "type": "string"
            },
            "text/plain": [
              "'h'"
            ]
          },
          "metadata": {
            "tags": []
          },
          "execution_count": 81
        }
      ]
    },
    {
      "cell_type": "code",
      "metadata": {
        "colab": {
          "base_uri": "https://localhost:8080/",
          "height": 35
        },
        "id": "xojl2Ibxeitb",
        "outputId": "4dba2b1f-4089-492d-c6e3-14cafe654ee8"
      },
      "source": [
        "s[6]"
      ],
      "execution_count": 134,
      "outputs": [
        {
          "output_type": "execute_result",
          "data": {
            "application/vnd.google.colaboratory.intrinsic+json": {
              "type": "string"
            },
            "text/plain": [
              "'w'"
            ]
          },
          "metadata": {
            "tags": []
          },
          "execution_count": 134
        }
      ]
    },
    {
      "cell_type": "markdown",
      "metadata": {
        "id": "T2gPwk81elP8"
      },
      "source": [
        "We can use a : to perform slicing which grabs everything up to a designated point."
      ]
    },
    {
      "cell_type": "code",
      "metadata": {
        "colab": {
          "base_uri": "https://localhost:8080/",
          "height": 35
        },
        "id": "paU8AiLAenVj",
        "outputId": "e6fc8b92-5cf7-4aba-eea4-0bfef97171b4"
      },
      "source": [
        "# Grab everything past the first term all the way to the length of s which is len(s)\n",
        "s[1:]"
      ],
      "execution_count": null,
      "outputs": [
        {
          "output_type": "execute_result",
          "data": {
            "application/vnd.google.colaboratory.intrinsic+json": {
              "type": "string"
            },
            "text/plain": [
              "'ello World'"
            ]
          },
          "metadata": {
            "tags": []
          },
          "execution_count": 86
        }
      ]
    },
    {
      "cell_type": "code",
      "metadata": {
        "id": "-iLq7FDreokP",
        "colab": {
          "base_uri": "https://localhost:8080/",
          "height": 35
        },
        "outputId": "4a454a94-e1b0-47e3-a25c-8d0dfa23e362"
      },
      "source": [
        "# Note that there is no change to the original s\n",
        "s"
      ],
      "execution_count": 135,
      "outputs": [
        {
          "output_type": "execute_result",
          "data": {
            "application/vnd.google.colaboratory.intrinsic+json": {
              "type": "string"
            },
            "text/plain": [
              "'hello-world-hi'"
            ]
          },
          "metadata": {
            "tags": []
          },
          "execution_count": 135
        }
      ]
    },
    {
      "cell_type": "code",
      "metadata": {
        "colab": {
          "base_uri": "https://localhost:8080/",
          "height": 35
        },
        "id": "dFl4-8Vsepvd",
        "outputId": "f6639826-2425-4784-c98e-2368dbf64b53"
      },
      "source": [
        "# Grab everything up tp 3rd index\n",
        "s[:3]"
      ],
      "execution_count": 136,
      "outputs": [
        {
          "output_type": "execute_result",
          "data": {
            "application/vnd.google.colaboratory.intrinsic+json": {
              "type": "string"
            },
            "text/plain": [
              "'hel'"
            ]
          },
          "metadata": {
            "tags": []
          },
          "execution_count": 136
        }
      ]
    },
    {
      "cell_type": "markdown",
      "metadata": {
        "id": "pdSFEsHHerbD"
      },
      "source": [
        "in above code we can grab everything from 0 up to 3. It doesn't include the 3rd index."
      ]
    },
    {
      "cell_type": "code",
      "metadata": {
        "colab": {
          "base_uri": "https://localhost:8080/",
          "height": 35
        },
        "id": "j6IgfdsPesks",
        "outputId": "c8468d5a-b712-4218-97a4-4fa16554195d"
      },
      "source": [
        "#Everything\n",
        "s[:]"
      ],
      "execution_count": null,
      "outputs": [
        {
          "output_type": "execute_result",
          "data": {
            "application/vnd.google.colaboratory.intrinsic+json": {
              "type": "string"
            },
            "text/plain": [
              "'Hello World'"
            ]
          },
          "metadata": {
            "tags": []
          },
          "execution_count": 88
        }
      ]
    },
    {
      "cell_type": "code",
      "metadata": {
        "colab": {
          "base_uri": "https://localhost:8080/",
          "height": 35
        },
        "id": "9k-OPIgeeuJj",
        "outputId": "3a7ef4fb-b526-4170-d193-bffd1921aeff"
      },
      "source": [
        "# Last letter (one index behind 0 so it loops back around)\n",
        "s[-1]"
      ],
      "execution_count": null,
      "outputs": [
        {
          "output_type": "execute_result",
          "data": {
            "application/vnd.google.colaboratory.intrinsic+json": {
              "type": "string"
            },
            "text/plain": [
              "'d'"
            ]
          },
          "metadata": {
            "tags": []
          },
          "execution_count": 89
        }
      ]
    },
    {
      "cell_type": "code",
      "metadata": {
        "colab": {
          "base_uri": "https://localhost:8080/",
          "height": 35
        },
        "id": "iWZJOxBkevcd",
        "outputId": "fa7fd52b-dfe9-4491-96fb-ac3b3d873499"
      },
      "source": [
        "# Grab everything but the last letter\n",
        "s[:-1]"
      ],
      "execution_count": null,
      "outputs": [
        {
          "output_type": "execute_result",
          "data": {
            "application/vnd.google.colaboratory.intrinsic+json": {
              "type": "string"
            },
            "text/plain": [
              "'Hello Worl'"
            ]
          },
          "metadata": {
            "tags": []
          },
          "execution_count": 90
        }
      ]
    },
    {
      "cell_type": "markdown",
      "metadata": {
        "id": "EMGAaoo-ey38"
      },
      "source": [
        "We can also use index and slice notation to grab elements of a sequence by a specified step size (the default is 1). \n",
        "For the instance we can use two colons in a row and then a number specifying the frequency to grab elements."
      ]
    },
    {
      "cell_type": "code",
      "metadata": {
        "colab": {
          "base_uri": "https://localhost:8080/",
          "height": 35
        },
        "id": "NkqJ66uoexYj",
        "outputId": "bec77c98-c426-4df0-aac5-eb1a911fe8b7"
      },
      "source": [
        "# Grab everything, but go in steps size of 1\n",
        "s[::1]"
      ],
      "execution_count": null,
      "outputs": [
        {
          "output_type": "execute_result",
          "data": {
            "application/vnd.google.colaboratory.intrinsic+json": {
              "type": "string"
            },
            "text/plain": [
              "'Hello World'"
            ]
          },
          "metadata": {
            "tags": []
          },
          "execution_count": 91
        }
      ]
    },
    {
      "cell_type": "code",
      "metadata": {
        "colab": {
          "base_uri": "https://localhost:8080/",
          "height": 35
        },
        "id": "TxD33N8ie2Tc",
        "outputId": "ca094684-f9bc-46ec-9662-6e027db1400e"
      },
      "source": [
        "# Grab everything, but go in step sizes of 2\n",
        "s[::2]"
      ],
      "execution_count": null,
      "outputs": [
        {
          "output_type": "execute_result",
          "data": {
            "application/vnd.google.colaboratory.intrinsic+json": {
              "type": "string"
            },
            "text/plain": [
              "'HloWrd'"
            ]
          },
          "metadata": {
            "tags": []
          },
          "execution_count": 92
        }
      ]
    },
    {
      "cell_type": "code",
      "metadata": {
        "colab": {
          "base_uri": "https://localhost:8080/",
          "height": 35
        },
        "id": "wdwX9bShe3x0",
        "outputId": "76cf0ba7-0ff0-4bf7-f4c3-f277d6cc8bed"
      },
      "source": [
        "# We can use this to print a string backwards\n",
        "s[::-2]"
      ],
      "execution_count": null,
      "outputs": [
        {
          "output_type": "execute_result",
          "data": {
            "application/vnd.google.colaboratory.intrinsic+json": {
              "type": "string"
            },
            "text/plain": [
              "'drWolH'"
            ]
          },
          "metadata": {
            "tags": []
          },
          "execution_count": 94
        }
      ]
    },
    {
      "cell_type": "markdown",
      "metadata": {
        "id": "8h-P5hyre7Ck"
      },
      "source": [
        "**String Properties**"
      ]
    },
    {
      "cell_type": "markdown",
      "metadata": {
        "id": "ubXatCYIe9oU"
      },
      "source": [
        "It's important to note that strings have an important property known as **immutability**. \n",
        "It means that once a string is created, the elements within it can not be changed or replaced."
      ]
    },
    {
      "cell_type": "code",
      "metadata": {
        "id": "7cVt-tJge-wE"
      },
      "source": [
        "s"
      ],
      "execution_count": null,
      "outputs": []
    },
    {
      "cell_type": "code",
      "metadata": {
        "colab": {
          "base_uri": "https://localhost:8080/",
          "height": 178
        },
        "id": "ULfy3kR0fAe_",
        "outputId": "49354671-35a3-46e0-9776-a495f654131a"
      },
      "source": [
        "# Let's try to change the first letter to 'x'\n",
        "s[0] = 'x'"
      ],
      "execution_count": null,
      "outputs": [
        {
          "output_type": "error",
          "ename": "TypeError",
          "evalue": "ignored",
          "traceback": [
            "\u001b[0;31m---------------------------------------------------------------------------\u001b[0m",
            "\u001b[0;31mTypeError\u001b[0m                                 Traceback (most recent call last)",
            "\u001b[0;32m<ipython-input-95-976942677f11>\u001b[0m in \u001b[0;36m<module>\u001b[0;34m()\u001b[0m\n\u001b[1;32m      1\u001b[0m \u001b[0;31m# Let's try to change the first letter to 'x'\u001b[0m\u001b[0;34m\u001b[0m\u001b[0;34m\u001b[0m\u001b[0;34m\u001b[0m\u001b[0m\n\u001b[0;32m----> 2\u001b[0;31m \u001b[0ms\u001b[0m\u001b[0;34m[\u001b[0m\u001b[0;36m0\u001b[0m\u001b[0;34m]\u001b[0m \u001b[0;34m=\u001b[0m \u001b[0;34m'x'\u001b[0m\u001b[0;34m\u001b[0m\u001b[0;34m\u001b[0m\u001b[0m\n\u001b[0m",
            "\u001b[0;31mTypeError\u001b[0m: 'str' object does not support item assignment"
          ]
        }
      ]
    },
    {
      "cell_type": "code",
      "metadata": {
        "colab": {
          "base_uri": "https://localhost:8080/",
          "height": 35
        },
        "id": "gPVa1z2OfGJk",
        "outputId": "43eedaad-5153-48b3-88d0-548dbe1ea7a6"
      },
      "source": [
        "# Concatenate strings!\n",
        "s + ' concatenate me!'"
      ],
      "execution_count": null,
      "outputs": [
        {
          "output_type": "execute_result",
          "data": {
            "application/vnd.google.colaboratory.intrinsic+json": {
              "type": "string"
            },
            "text/plain": [
              "'Hello World concatenate me!'"
            ]
          },
          "metadata": {
            "tags": []
          },
          "execution_count": 96
        }
      ]
    },
    {
      "cell_type": "code",
      "metadata": {
        "id": "E5gI-8bIfHuE"
      },
      "source": [
        "# We can reassign s completely though!\n",
        "s = s + ' concatenate me!'"
      ],
      "execution_count": null,
      "outputs": []
    },
    {
      "cell_type": "code",
      "metadata": {
        "colab": {
          "base_uri": "https://localhost:8080/",
          "height": 35
        },
        "id": "1A5K8twvfJE0",
        "outputId": "7ca0ae8a-c9ce-412b-d9f9-45f940c26eb4"
      },
      "source": [
        "s"
      ],
      "execution_count": null,
      "outputs": [
        {
          "output_type": "execute_result",
          "data": {
            "application/vnd.google.colaboratory.intrinsic+json": {
              "type": "string"
            },
            "text/plain": [
              "'Hello World'"
            ]
          },
          "metadata": {
            "tags": []
          },
          "execution_count": 97
        }
      ]
    },
    {
      "cell_type": "code",
      "metadata": {
        "id": "ylJN_auHfJ-c"
      },
      "source": [
        "letter = 'z'"
      ],
      "execution_count": null,
      "outputs": []
    },
    {
      "cell_type": "code",
      "metadata": {
        "id": "QNT48Q57fK8s"
      },
      "source": [
        "letter = 'z'"
      ],
      "execution_count": null,
      "outputs": []
    },
    {
      "cell_type": "markdown",
      "metadata": {
        "id": "qi7CWwKHfNrt"
      },
      "source": [
        "**Basic Built-in String methods**\n",
        "\n",
        "We call methods with a period and then the method name. Methods are in the form:\n",
        "\n",
        "object.method(parameters)\n"
      ]
    },
    {
      "cell_type": "code",
      "metadata": {
        "colab": {
          "base_uri": "https://localhost:8080/",
          "height": 35
        },
        "id": "K_krgNytfRXk",
        "outputId": "64066cd2-6884-4afa-f1e6-85abac79f745"
      },
      "source": [
        "# Upper Case a string\n",
        "s.upper()"
      ],
      "execution_count": null,
      "outputs": [
        {
          "output_type": "execute_result",
          "data": {
            "application/vnd.google.colaboratory.intrinsic+json": {
              "type": "string"
            },
            "text/plain": [
              "'HELLO WORLD'"
            ]
          },
          "metadata": {
            "tags": []
          },
          "execution_count": 98
        }
      ]
    },
    {
      "cell_type": "code",
      "metadata": {
        "colab": {
          "base_uri": "https://localhost:8080/",
          "height": 35
        },
        "id": "ZxGTxe-OfSec",
        "outputId": "a297fa75-05e2-4f62-9d3e-90ffbdb750e6"
      },
      "source": [
        "# Lower case\n",
        "s.lower()"
      ],
      "execution_count": 137,
      "outputs": [
        {
          "output_type": "execute_result",
          "data": {
            "application/vnd.google.colaboratory.intrinsic+json": {
              "type": "string"
            },
            "text/plain": [
              "'hello-world-hi'"
            ]
          },
          "metadata": {
            "tags": []
          },
          "execution_count": 137
        }
      ]
    },
    {
      "cell_type": "code",
      "metadata": {
        "id": "bpsyNLpv-qO4"
      },
      "source": [
        "s=\"hello-world-hi\""
      ],
      "execution_count": null,
      "outputs": []
    },
    {
      "cell_type": "code",
      "metadata": {
        "colab": {
          "base_uri": "https://localhost:8080/"
        },
        "id": "vHoIgWbgfTzt",
        "outputId": "d752bcb5-f12b-490d-b415-8afe68d71533"
      },
      "source": [
        "# Split a string by blank space (this is the default)\n",
        "s.split(\"-\")"
      ],
      "execution_count": 140,
      "outputs": [
        {
          "output_type": "execute_result",
          "data": {
            "text/plain": [
              "['hello', 'world', 'hi']"
            ]
          },
          "metadata": {
            "tags": []
          },
          "execution_count": 140
        }
      ]
    },
    {
      "cell_type": "code",
      "metadata": {
        "colab": {
          "base_uri": "https://localhost:8080/",
          "height": 35
        },
        "id": "tDDZ1irXaAyc",
        "outputId": "1b290baa-3c69-43c2-8b8a-5445b82e6d7a"
      },
      "source": [
        "# Removes extra white spaces from front and back\n",
        "s.strip() "
      ],
      "execution_count": 139,
      "outputs": [
        {
          "output_type": "execute_result",
          "data": {
            "application/vnd.google.colaboratory.intrinsic+json": {
              "type": "string"
            },
            "text/plain": [
              "'hello-world-hi'"
            ]
          },
          "metadata": {
            "tags": []
          },
          "execution_count": 139
        }
      ]
    },
    {
      "cell_type": "code",
      "metadata": {
        "colab": {
          "base_uri": "https://localhost:8080/"
        },
        "id": "YLYSH34bfVJM",
        "outputId": "aff706a7-417f-40e9-ede0-6a37aad4876b"
      },
      "source": [
        "# Split by a specific element (doesn't include the element that was split on)\n",
        "s.split('l')"
      ],
      "execution_count": 142,
      "outputs": [
        {
          "output_type": "execute_result",
          "data": {
            "text/plain": [
              "['he', '', 'o-wor', 'd-hi']"
            ]
          },
          "metadata": {
            "tags": []
          },
          "execution_count": 142
        }
      ]
    },
    {
      "cell_type": "code",
      "metadata": {
        "colab": {
          "base_uri": "https://localhost:8080/"
        },
        "id": "kZNr1Fa_ax56",
        "outputId": "c929c103-07d3-4de2-f58c-6f84561c524a"
      },
      "source": [
        "s = 'Hi hello welcome!'\n",
        "\n",
        "print(s.find('learning'))\n",
        "\n",
        "s = s.replace('leaning', 'learning')\n",
        "\n",
        "print(s)\n",
        "\n",
        "split_string = s.split(' ')\n",
        "\n",
        "print(type(split_string))\n",
        "\n",
        "print(split_string)\n",
        "\n",
        "print(' '.join(split_string))"
      ],
      "execution_count": 143,
      "outputs": [
        {
          "output_type": "stream",
          "text": [
            "-1\n",
            "Hi hello welcome!\n",
            "<class 'list'>\n",
            "['Hi', 'hello', 'welcome!']\n",
            "Hi hello welcome!\n"
          ],
          "name": "stdout"
        }
      ]
    },
    {
      "cell_type": "markdown",
      "metadata": {
        "id": "cKBe2ZCGfZWe"
      },
      "source": [
        "There are many more methods.\n",
        "like,\n",
        "1.isalpha(), isdigit(), isspace()\n",
        "2. startswith('abc'), endswith('abc')\n",
        "3.find('abc') returns first index, otherwise -1\n",
        "4.replace('old', 'new')\n",
        "5.split(' ') return list\n",
        "6. ' '.join(list) return string"
      ]
    },
    {
      "cell_type": "markdown",
      "metadata": {
        "id": "IpI1SIs7faxG"
      },
      "source": [
        "**Print Formatting**"
      ]
    },
    {
      "cell_type": "markdown",
      "metadata": {
        "id": "MWYIVbMf_zOa"
      },
      "source": [
        "We can use the .format() method to add formatted objects to printed string statements. \n",
        "\n"
      ]
    },
    {
      "cell_type": "code",
      "metadata": {
        "colab": {
          "base_uri": "https://localhost:8080/",
          "height": 35
        },
        "id": "qk1q5tMcffTg",
        "outputId": "7408c25e-7838-4fbb-e235-40dc4f9d441d"
      },
      "source": [
        "'Insert another string with curly brackets: {}'.format('string')"
      ],
      "execution_count": null,
      "outputs": [
        {
          "output_type": "execute_result",
          "data": {
            "application/vnd.google.colaboratory.intrinsic+json": {
              "type": "string"
            },
            "text/plain": [
              "'Insert another string with curly brackets: The inserted string'"
            ]
          },
          "metadata": {
            "tags": []
          },
          "execution_count": 107
        }
      ]
    }
  ]
}